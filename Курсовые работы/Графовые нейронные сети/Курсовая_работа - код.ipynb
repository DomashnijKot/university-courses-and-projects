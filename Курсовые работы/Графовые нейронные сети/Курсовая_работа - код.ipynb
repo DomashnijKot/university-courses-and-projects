{
 "cells": [
  {
   "cell_type": "code",
   "execution_count": 1,
   "metadata": {
    "colab": {
     "base_uri": "https://localhost:8080/",
     "height": 35
    },
    "id": "9dCEhuZN43Yt",
    "outputId": "558e73c6-afb6-480d-d0c5-8006c6632194"
   },
   "outputs": [
    {
     "data": {
      "application/vnd.google.colaboratory.intrinsic+json": {
       "type": "string"
      },
      "text/plain": [
       "'1.11.0+cu113'"
      ]
     },
     "execution_count": 1,
     "metadata": {},
     "output_type": "execute_result"
    }
   ],
   "source": [
    "import torch\n",
    "torch.__version__"
   ]
  },
  {
   "cell_type": "code",
   "execution_count": 2,
   "metadata": {
    "colab": {
     "base_uri": "https://localhost:8080/"
    },
    "id": "he9Ojs9_Xdgc",
    "outputId": "5db33ba7-22ba-48ff-9990-d27189da83b1"
   },
   "outputs": [
    {
     "name": "stdout",
     "output_type": "stream",
     "text": [
      "\u001b[K     |████████████████████████████████| 7.9 MB 5.3 MB/s \n",
      "\u001b[K     |████████████████████████████████| 3.5 MB 5.5 MB/s \n",
      "\u001b[K     |████████████████████████████████| 407 kB 5.2 MB/s \n",
      "\u001b[?25h  Building wheel for torch-geometric (setup.py) ... \u001b[?25l\u001b[?25hdone\n"
     ]
    }
   ],
   "source": [
    "try:\n",
    "    # Check if PyTorch Geometric is installed:\n",
    "    import torch_geometric\n",
    "except ImportError:\n",
    "    # If PyTorch Geometric is not installed, install it.\n",
    "    %pip install -q torch-scatter -f https://pytorch-geometric.com/whl/torch-1.11.0+cu113.html\n",
    "    %pip install -q torch-sparse -f https://pytorch-geometric.com/whl/torch-1.11.0+cu113.html\n",
    "    %pip install -q torch-geometric"
   ]
  },
  {
   "cell_type": "code",
   "execution_count": 3,
   "metadata": {
    "id": "J8vGIbe442-_"
   },
   "outputs": [],
   "source": [
    "import torch\n",
    "import torch.optim as optim\n",
    "import torch.nn.functional as F\n",
    "from torch import nn\n",
    "from torch.nn import Linear, LayerNorm\n",
    "from torch_geometric.nn import GCNConv\n",
    "from torch_geometric.nn import SAGEConv\n",
    "from torch_geometric.datasets import Planetoid\n",
    "import matplotlib.pyplot as plt\n",
    "from torch_geometric.transforms import NormalizeFeatures\n",
    "from torch_geometric.utils import accuracy\n",
    "import numpy as np"
   ]
  },
  {
   "cell_type": "markdown",
   "metadata": {
    "id": "2X0uUmhwZBNL"
   },
   "source": [
    "## Dataset investigation"
   ]
  },
  {
   "cell_type": "code",
   "execution_count": 4,
   "metadata": {
    "colab": {
     "base_uri": "https://localhost:8080/"
    },
    "id": "_0PADfNtWlix",
    "outputId": "dc021782-959f-4529-8362-93ef952a153a"
   },
   "outputs": [
    {
     "name": "stderr",
     "output_type": "stream",
     "text": [
      "Downloading https://github.com/kimiyoung/planetoid/raw/master/data/ind.cora.x\n",
      "Downloading https://github.com/kimiyoung/planetoid/raw/master/data/ind.cora.tx\n",
      "Downloading https://github.com/kimiyoung/planetoid/raw/master/data/ind.cora.allx\n",
      "Downloading https://github.com/kimiyoung/planetoid/raw/master/data/ind.cora.y\n",
      "Downloading https://github.com/kimiyoung/planetoid/raw/master/data/ind.cora.ty\n",
      "Downloading https://github.com/kimiyoung/planetoid/raw/master/data/ind.cora.ally\n",
      "Downloading https://github.com/kimiyoung/planetoid/raw/master/data/ind.cora.graph\n",
      "Downloading https://github.com/kimiyoung/planetoid/raw/master/data/ind.cora.test.index\n"
     ]
    },
    {
     "name": "stdout",
     "output_type": "stream",
     "text": [
      "Dataset: Cora\n",
      "Num. nodes: 2708 (train=140, val=500, test=1000, other=1068)\n",
      "Num. edges: 5278\n",
      "Num. node features: 1433\n",
      "Num. classes: 7\n",
      "Dataset len.: 1\n"
     ]
    },
    {
     "name": "stderr",
     "output_type": "stream",
     "text": [
      "Processing...\n",
      "Done!\n"
     ]
    }
   ],
   "source": [
    "# Get some information about dataset\n",
    "\n",
    "dataset = Planetoid(root='data/Planetoid', name='Cora', transform=NormalizeFeatures())\n",
    "num_nodes = dataset.data.num_nodes\n",
    "num_edges = dataset.data.num_edges // 2\n",
    "train_len = dataset[0].train_mask.sum()\n",
    "val_len = dataset[0].val_mask.sum()\n",
    "test_len = dataset[0].test_mask.sum()\n",
    "other_len = num_nodes - train_len - val_len - test_len\n",
    "print(f\"Dataset: {dataset.name}\")\n",
    "print(f\"Num. nodes: {num_nodes} (train={train_len}, val={val_len}, test={test_len}, other={other_len})\")\n",
    "print(f\"Num. edges: {num_edges}\")\n",
    "print(f\"Num. node features: {dataset.num_node_features}\")\n",
    "print(f\"Num. classes: {dataset.num_classes}\")\n",
    "print(f\"Dataset len.: {dataset.len()}\")"
   ]
  },
  {
   "cell_type": "code",
   "execution_count": 5,
   "metadata": {
    "colab": {
     "base_uri": "https://localhost:8080/"
    },
    "id": "Kg5M77v7ZgSi",
    "outputId": "450eabca-4edb-47d0-c29d-84f9fdeed687"
   },
   "outputs": [
    {
     "name": "stdout",
     "output_type": "stream",
     "text": [
      "torch.Size([2708, 1433])\n"
     ]
    }
   ],
   "source": [
    "# How our nods look like\n",
    "print(dataset[0].x.shape) # [No. Nodes x Features]"
   ]
  },
  {
   "cell_type": "code",
   "execution_count": 6,
   "metadata": {
    "colab": {
     "base_uri": "https://localhost:8080/"
    },
    "id": "oINGfXlsZsje",
    "outputId": "942e6490-83b5-47ec-abfd-10300c5eeba5"
   },
   "outputs": [
    {
     "data": {
      "text/plain": [
       "tensor([0.0000, 0.0000, 0.0000, 0.0000, 0.0000, 0.0000, 0.0000, 0.0000, 0.0000,\n",
       "        0.0000, 0.0000, 0.0000, 0.0000, 0.0000, 0.0000, 0.0000, 0.0000, 0.0000,\n",
       "        0.0000, 0.1111, 0.0000, 0.0000, 0.0000, 0.0000, 0.0000, 0.0000, 0.0000,\n",
       "        0.0000, 0.0000, 0.0000, 0.0000, 0.0000, 0.0000, 0.0000, 0.0000, 0.0000,\n",
       "        0.0000, 0.0000, 0.0000, 0.0000, 0.0000, 0.0000, 0.0000, 0.0000, 0.0000,\n",
       "        0.0000, 0.0000, 0.0000, 0.0000, 0.0000])"
      ]
     },
     "execution_count": 6,
     "metadata": {},
     "output_type": "execute_result"
    }
   ],
   "source": [
    "# Print some of the normalized word counts of the first datapoint\n",
    "dataset[0].x[0][:50]"
   ]
  },
  {
   "cell_type": "code",
   "execution_count": 7,
   "metadata": {
    "colab": {
     "base_uri": "https://localhost:8080/"
    },
    "id": "kdjLlmOXZ-BD",
    "outputId": "f104a5d2-51f2-45ed-d602-e3eb2fa67d02"
   },
   "outputs": [
    {
     "data": {
      "text/plain": [
       "tensor([3, 4, 4,  ..., 3, 3, 3])"
      ]
     },
     "execution_count": 7,
     "metadata": {},
     "output_type": "execute_result"
    }
   ],
   "source": [
    "# How do the labels look like\n",
    "dataset[0].y"
   ]
  },
  {
   "cell_type": "code",
   "execution_count": 15,
   "metadata": {
    "colab": {
     "base_uri": "https://localhost:8080/"
    },
    "id": "0H7GSeU1Cr_2",
    "outputId": "9f0da6b0-b099-46d3-93c4-c6eb48883d16"
   },
   "outputs": [
    {
     "data": {
      "text/plain": [
       "tensor([ True,  True,  True,  ..., False, False, False])"
      ]
     },
     "execution_count": 15,
     "metadata": {},
     "output_type": "execute_result"
    }
   ],
   "source": [
    "# Example of the train mask\n",
    "dataset[0].train_mask"
   ]
  },
  {
   "cell_type": "code",
   "execution_count": 8,
   "metadata": {
    "colab": {
     "base_uri": "https://localhost:8080/"
    },
    "id": "3EowrcXQaLud",
    "outputId": "15a3bcb2-98e2-4354-bcc9-7b37cb34a208"
   },
   "outputs": [
    {
     "data": {
      "text/plain": [
       "tensor([False, False, False,  ...,  True,  True,  True])"
      ]
     },
     "execution_count": 8,
     "metadata": {},
     "output_type": "execute_result"
    }
   ],
   "source": [
    "# Example of the test mask\n",
    "dataset[0].test_mask"
   ]
  },
  {
   "cell_type": "code",
   "execution_count": 16,
   "metadata": {
    "colab": {
     "base_uri": "https://localhost:8080/"
    },
    "id": "0C_lcpnyDNLe",
    "outputId": "e00965c9-9493-4ebb-fba6-13c10d3be7a1"
   },
   "outputs": [
    {
     "data": {
      "text/plain": [
       "tensor([False, False, False,  ..., False, False, False])"
      ]
     },
     "execution_count": 16,
     "metadata": {},
     "output_type": "execute_result"
    }
   ],
   "source": [
    "# Example of the validation mask\n",
    "dataset[0].val_mask"
   ]
  },
  {
   "cell_type": "markdown",
   "metadata": {
    "id": "UOozIKYjAKOl"
   },
   "source": [
    "## Graph Convolutional Network"
   ]
  },
  {
   "cell_type": "code",
   "execution_count": 19,
   "metadata": {
    "id": "40asBOg8QO3v"
   },
   "outputs": [],
   "source": [
    "class GCN(torch.nn.Module):\n",
    "    def __init__(self, num_node_features, num_classes, hidden_dim=16, dropout_rate = 0.5):\n",
    "        super().__init__()\n",
    "        self.dropout1 = torch.nn.Dropout(dropout_rate)\n",
    "        self.conv1 = GCNConv(num_node_features, hidden_dim)\n",
    "        self.relu = torch.nn.ReLU(inplace=True)\n",
    "        self.dropout2 = torch.nn.Dropout(dropout_rate)\n",
    "        self.conv2 = GCNConv(hidden_dim, num_classes)\n",
    "\n",
    "    def forward(self, data):\n",
    "        x, edge_index = data.x, data.edge_index\n",
    "\n",
    "        # First layer\n",
    "        x = self.dropout1(x)\n",
    "        x = self.conv1(x, edge_index)\n",
    "        x = self.relu(x)\n",
    "\n",
    "        # Second layer\n",
    "        x = self.dropout2(x)\n",
    "        x = self.conv2(x, edge_index)\n",
    "        #x = self.relu(x)\n",
    "\n",
    "        return x"
   ]
  },
  {
   "cell_type": "code",
   "execution_count": 21,
   "metadata": {
    "colab": {
     "base_uri": "https://localhost:8080/"
    },
    "id": "5QBGzUdJVPsu",
    "outputId": "8001e09b-e559-4514-a512-854a4fbdb9d3"
   },
   "outputs": [
    {
     "name": "stdout",
     "output_type": "stream",
     "text": [
      "Graph Convolutional Network (GCN):\n"
     ]
    },
    {
     "data": {
      "text/plain": [
       "GCN(\n",
       "  (dropout1): Dropout(p=0.5, inplace=False)\n",
       "  (conv1): GCNConv(1433, 64)\n",
       "  (relu): ReLU(inplace=True)\n",
       "  (dropout2): Dropout(p=0.5, inplace=False)\n",
       "  (conv2): GCNConv(64, 7)\n",
       ")"
      ]
     },
     "execution_count": 21,
     "metadata": {},
     "output_type": "execute_result"
    }
   ],
   "source": [
    "print(\"Graph Convolutional Network (GCN):\")\n",
    "GCN(dataset.num_node_features, dataset.num_classes, 64)"
   ]
  },
  {
   "cell_type": "markdown",
   "metadata": {
    "id": "iu8RW_LTWKMW"
   },
   "source": [
    "## Training and Evaluation"
   ]
  },
  {
   "cell_type": "code",
   "execution_count": 11,
   "metadata": {
    "id": "4oO3weib_PtQ"
   },
   "outputs": [],
   "source": [
    "def train_step(model, data, optimizer, loss_fn):\n",
    "    model.train()\n",
    "    optimizer.zero_grad()\n",
    "    mask = data.train_mask\n",
    "\n",
    "    logits = model(data)[mask]\n",
    "    y = data.y[mask]\n",
    "    loss = loss_fn(logits, y)\n",
    "\n",
    "    preds = logits.argmax(dim=1)\n",
    "    acc = accuracy(preds, y)\n",
    "\n",
    "    loss.backward()\n",
    "    optimizer.step()\n",
    "\n",
    "    return loss.item(), acc\n",
    "\n",
    "\n",
    "@torch.no_grad()\n",
    "def eval_step(model, data, loss_fn, stage):\n",
    "    model.eval()\n",
    "    mask = getattr(data, f\"{stage}_mask\")\n",
    "\n",
    "    logits = model(data)[mask]\n",
    "    y = data.y[mask]\n",
    "    loss = loss_fn(logits, y)\n",
    "\n",
    "    preds = logits.argmax(dim=1)\n",
    "    acc = accuracy(preds, y)\n",
    "    \n",
    "    return loss.item(), acc"
   ]
  },
  {
   "cell_type": "code",
   "execution_count": 12,
   "metadata": {
    "id": "0KfhMGrm_zgh"
   },
   "outputs": [],
   "source": [
    "def train(model, data, optimizer, loss_fn = torch.nn.CrossEntropyLoss(),\n",
    "    max_epochs = 200, early_stopping = 10, print_interval = 20, verbose = True):\n",
    "  \n",
    "    history = {\"loss\": [], \"val_loss\": [], \"acc\": [], \"val_acc\": []}\n",
    "    for epoch in range(max_epochs):\n",
    "        loss, acc = train_step(model, data, optimizer, loss_fn)\n",
    "        val_loss, val_acc = eval_step(model, data, loss_fn, \"val\")\n",
    "        history[\"loss\"].append(loss)\n",
    "        history[\"acc\"].append(acc)\n",
    "        history[\"val_loss\"].append(val_loss)\n",
    "        history[\"val_acc\"].append(val_acc)\n",
    "        if epoch > early_stopping and val_loss > np.mean(history[\"val_loss\"][-(early_stopping + 1) : -1]):\n",
    "            if verbose:\n",
    "                print(\"\\nEarly stopping...\")\n",
    "\n",
    "            break\n",
    "\n",
    "        if verbose and epoch % print_interval == 0:\n",
    "            print(f\"\\nEpoch: {epoch}\\n----------\")\n",
    "            print(f\"Train loss: {loss:.4f} | Train acc: {acc:.4f}\")\n",
    "            print(f\"  Val loss: {val_loss:.4f} |   Val acc: {val_acc:.4f}\")\n",
    "\n",
    "    test_loss, test_acc = eval_step(model, data, loss_fn, \"test\")\n",
    "    if verbose:\n",
    "        print(f\"\\nEpoch: {epoch}\\n----------\")\n",
    "        print(f\"Train loss: {loss:.4f} | Train acc: {acc:.4f}\")\n",
    "        print(f\"  Val loss: {val_loss:.4f} |   Val acc: {val_acc:.4f}\")\n",
    "        print(f\" Test loss: {test_loss:.4f} |  Test acc: {test_acc:.4f}\")\n",
    "\n",
    "    return history"
   ]
  },
  {
   "cell_type": "code",
   "execution_count": 13,
   "metadata": {
    "id": "-cv4uE8wUbgZ"
   },
   "outputs": [],
   "source": [
    "def plot_history(history, title, font_size = 14):\n",
    "    plt.figure(figsize=(12, 4))\n",
    "\n",
    "    plt.suptitle(title, fontsize=font_size)\n",
    "    ax1 = plt.subplot(121)\n",
    "    ax1.set_title(\"Loss\")\n",
    "    ax1.plot(history[\"loss\"], label=\"train\")\n",
    "    ax1.plot(history[\"val_loss\"], label=\"val\")\n",
    "    plt.xlabel(\"Epoch\")\n",
    "    ax1.legend()\n",
    "\n",
    "    ax2 = plt.subplot(122)\n",
    "    ax2.set_title(\"Accuracy\")\n",
    "    ax2.plot(history[\"acc\"], label=\"train\")\n",
    "    ax2.plot(history[\"val_acc\"], label=\"val\")\n",
    "    plt.xlabel(\"Epoch\")\n",
    "    ax2.legend()"
   ]
  },
  {
   "cell_type": "code",
   "execution_count": 23,
   "metadata": {
    "colab": {
     "base_uri": "https://localhost:8080/",
     "height": 794
    },
    "id": "kX1PzhRuFrAD",
    "outputId": "9c87e2fd-afb1-4cf2-8a6e-6b7785b2907d"
   },
   "outputs": [
    {
     "name": "stdout",
     "output_type": "stream",
     "text": [
      "\n",
      "Epoch: 0\n",
      "----------\n",
      "Train loss: 1.9450 | Train acc: 0.1500\n",
      "  Val loss: 1.9408 |   Val acc: 0.3600\n",
      "\n",
      "Epoch: 20\n",
      "----------\n",
      "Train loss: 1.5975 | Train acc: 0.7500\n",
      "  Val loss: 1.7242 |   Val acc: 0.7700\n",
      "\n",
      "Epoch: 40\n",
      "----------\n",
      "Train loss: 1.0704 | Train acc: 0.8286\n",
      "  Val loss: 1.3318 |   Val acc: 0.8040\n",
      "\n",
      "Epoch: 60\n",
      "----------\n",
      "Train loss: 0.7739 | Train acc: 0.8929\n",
      "  Val loss: 1.0373 |   Val acc: 0.8100\n",
      "\n",
      "Early stopping...\n",
      "\n",
      "Epoch: 79\n",
      "----------\n",
      "Train loss: 0.5608 | Train acc: 0.9214\n",
      "  Val loss: 0.9312 |   Val acc: 0.8000\n",
      " Test loss: 0.8899 |  Test acc: 0.8160\n"
     ]
    },
    {
     "data": {
      "image/png": "[encoded data removed]",
      "text/plain": [
       "<Figure size 864x288 with 2 Axes>"
      ]
     },
     "metadata": {
      "needs_background": "light"
     },
     "output_type": "display_data"
    }
   ],
   "source": [
    "input_dim = dataset.num_features\n",
    "HIDDEN_CHANNELS = 64\n",
    "OUTPUT_DIM = 7\n",
    "DROPOUT = 0.75\n",
    "SEED = 42\n",
    "MAX_EPOCHS = 200\n",
    "LEARNING_RATE = 0.01\n",
    "WEIGHT_DECAY = 5e-4\n",
    "EARLY_STOPPING = 10\n",
    "\n",
    "torch.manual_seed(SEED)\n",
    "device = torch.device(\"cuda:0\" if torch.cuda.is_available() else \"cpu\")\n",
    "\n",
    "model = GCN(input_dim, OUTPUT_DIM, HIDDEN_CHANNELS, DROPOUT).to(device)\n",
    "data = dataset[0].to(device)\n",
    "optimizer = torch.optim.Adam(model.parameters(), lr=LEARNING_RATE, weight_decay=WEIGHT_DECAY)\n",
    "history = train(model, data, optimizer, max_epochs=MAX_EPOCHS, early_stopping=EARLY_STOPPING)\n",
    "\n",
    "plot_history(history, \"GCN\")"
   ]
  }
 ],
 "metadata": {
  "accelerator": "GPU",
  "colab": {
   "name": "Курсовая работа.ipynb",
   "provenance": []
  },
  "kernelspec": {
   "display_name": "Python 3",
   "language": "python",
   "name": "python3"
  },
  "language_info": {
   "codemirror_mode": {
    "name": "ipython",
    "version": 3
   },
   "file_extension": ".py",
   "mimetype": "text/x-python",
   "name": "python",
   "nbconvert_exporter": "python",
   "pygments_lexer": "ipython3",
   "version": "3.8.5"
  }
 },
 "nbformat": 4,
 "nbformat_minor": 1
}
