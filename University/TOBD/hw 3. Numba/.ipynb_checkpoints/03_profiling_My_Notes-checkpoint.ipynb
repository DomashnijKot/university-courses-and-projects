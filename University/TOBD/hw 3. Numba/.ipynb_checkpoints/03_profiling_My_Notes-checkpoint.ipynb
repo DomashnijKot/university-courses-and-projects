{
 "cells": [
  {
   "cell_type": "markdown",
   "metadata": {},
   "source": [
    "## Оптимизация выполнения кода, векторизация, Numba"
   ]
  },
  {
   "cell_type": "markdown",
   "metadata": {},
   "source": [
    "Материалы:\n",
    "* Макрушин С.В. Лекция 3: Оптимизация выполнения кода, векторизация, Numba\n",
    "* IPython Cookbook, Second Edition (2018), глава 4\n",
    "* https://numba.pydata.org/numba-doc/latest/user/5minguide.html"
   ]
  },
  {
   "cell_type": "markdown",
   "metadata": {},
   "source": [
    "## Задачи для совместного разбора"
   ]
  },
  {
   "cell_type": "markdown",
   "metadata": {},
   "source": [
    "1. Сгенерируйте массив `A` из `N=1млн` случайных целых чисел на отрезке от 0 до 1000. Пусть `B[i] = A[i] + 100`. Посчитайте среднее значение массива `B`."
   ]
  },
  {
   "cell_type": "markdown",
   "metadata": {},
   "source": [
    "2. Создайте таблицу 2млн строк и с 4 столбцами, заполненными случайными числами. Добавьте столбец `key`, которые содержит элементы из множества английских букв. Выберите из таблицы подмножество строк, для которых в столбце `key` указаны первые 5 английских букв."
   ]
  },
  {
   "cell_type": "markdown",
   "metadata": {},
   "source": [
    "## Лабораторная работа 3"
   ]
  },
  {
   "cell_type": "code",
   "execution_count": 1,
   "metadata": {},
   "outputs": [
    {
     "name": "stdout",
     "output_type": "stream",
     "text": [
      "Collecting line_profiler\n",
      "  Downloading line_profiler-3.3.1-cp38-cp38-macosx_10_9_x86_64.whl (53 kB)\n",
      "\u001b[K     |████████████████████████████████| 53 kB 2.1 MB/s eta 0:00:01\n",
      "\u001b[?25hRequirement already satisfied: IPython>=0.13; python_version >= \"3.7\" in /Users/alexander/opt/anaconda3/lib/python3.8/site-packages (from line_profiler) (7.19.0)\n",
      "Requirement already satisfied: backcall in /Users/alexander/opt/anaconda3/lib/python3.8/site-packages (from IPython>=0.13; python_version >= \"3.7\"->line_profiler) (0.2.0)\n",
      "Requirement already satisfied: setuptools>=18.5 in /Users/alexander/opt/anaconda3/lib/python3.8/site-packages (from IPython>=0.13; python_version >= \"3.7\"->line_profiler) (50.3.1.post20201107)\n",
      "Requirement already satisfied: decorator in /Users/alexander/opt/anaconda3/lib/python3.8/site-packages (from IPython>=0.13; python_version >= \"3.7\"->line_profiler) (4.4.2)\n",
      "Requirement already satisfied: jedi>=0.10 in /Users/alexander/opt/anaconda3/lib/python3.8/site-packages (from IPython>=0.13; python_version >= \"3.7\"->line_profiler) (0.17.1)\n",
      "Requirement already satisfied: prompt-toolkit!=3.0.0,!=3.0.1,<3.1.0,>=2.0.0 in /Users/alexander/opt/anaconda3/lib/python3.8/site-packages (from IPython>=0.13; python_version >= \"3.7\"->line_profiler) (3.0.8)\n",
      "Requirement already satisfied: pygments in /Users/alexander/opt/anaconda3/lib/python3.8/site-packages (from IPython>=0.13; python_version >= \"3.7\"->line_profiler) (2.7.2)\n",
      "Requirement already satisfied: traitlets>=4.2 in /Users/alexander/opt/anaconda3/lib/python3.8/site-packages (from IPython>=0.13; python_version >= \"3.7\"->line_profiler) (5.0.5)\n",
      "Requirement already satisfied: appnope; sys_platform == \"darwin\" in /Users/alexander/opt/anaconda3/lib/python3.8/site-packages (from IPython>=0.13; python_version >= \"3.7\"->line_profiler) (0.1.0)\n",
      "Requirement already satisfied: pexpect>4.3; sys_platform != \"win32\" in /Users/alexander/opt/anaconda3/lib/python3.8/site-packages (from IPython>=0.13; python_version >= \"3.7\"->line_profiler) (4.8.0)\n",
      "Requirement already satisfied: pickleshare in /Users/alexander/opt/anaconda3/lib/python3.8/site-packages (from IPython>=0.13; python_version >= \"3.7\"->line_profiler) (0.7.5)\n",
      "Requirement already satisfied: parso<0.8.0,>=0.7.0 in /Users/alexander/opt/anaconda3/lib/python3.8/site-packages (from jedi>=0.10->IPython>=0.13; python_version >= \"3.7\"->line_profiler) (0.7.0)\n",
      "Requirement already satisfied: wcwidth in /Users/alexander/opt/anaconda3/lib/python3.8/site-packages (from prompt-toolkit!=3.0.0,!=3.0.1,<3.1.0,>=2.0.0->IPython>=0.13; python_version >= \"3.7\"->line_profiler) (0.2.5)\n",
      "Requirement already satisfied: ipython-genutils in /Users/alexander/opt/anaconda3/lib/python3.8/site-packages (from traitlets>=4.2->IPython>=0.13; python_version >= \"3.7\"->line_profiler) (0.2.0)\n",
      "Requirement already satisfied: ptyprocess>=0.5 in /Users/alexander/opt/anaconda3/lib/python3.8/site-packages (from pexpect>4.3; sys_platform != \"win32\"->IPython>=0.13; python_version >= \"3.7\"->line_profiler) (0.6.0)\n",
      "Installing collected packages: line-profiler\n",
      "Successfully installed line-profiler-3.3.1\n"
     ]
    }
   ],
   "source": [
    "!pip install line_profiler"
   ]
  },
  {
   "cell_type": "code",
   "execution_count": 4,
   "metadata": {},
   "outputs": [],
   "source": [
    "import pandas as pd\n",
    "import numpy as np"
   ]
  },
  {
   "cell_type": "markdown",
   "metadata": {},
   "source": [
    "1. В файлах `recipes_sample.csv` и `reviews_sample.csv` (__ЛР 2__) находится информация об рецептах блюд и отзывах на эти рецепты соответственно. Загрузите данные из файлов в виде `pd.DataFrame` с названиями `recipes` и `reviews`. Обратите внимание на корректное считывание столбца(ов) с индексами. Приведите столбцы к нужным типам.\n",
    "\n",
    "Реализуйте несколько вариантов функции подсчета среднего значения столбца `rating` из таблицы `reviews` для отзывов, оставленных в 2010 году.\n",
    "\n",
    "A. С использованием метода `DataFrame.iterrows` исходной таблицы;\n",
    "\n",
    "Б. С использованием метода `DataFrame.iterrows` таблицы, в которой сохранены только отзывы за 2010 год;\n",
    "\n",
    "В. С использованием метода `Series.mean`.\n",
    "\n",
    "Проверьте, что результаты работы всех написанных функций корректны и совпадают. Измерьте выполнения всех написанных функций.\n"
   ]
  },
  {
   "cell_type": "code",
   "execution_count": 202,
   "metadata": {},
   "outputs": [],
   "source": [
    "#Загружаем данные\n",
    "recipes = pd.read_csv('recipes_sample.csv')\n",
    "reviews = pd.read_csv('reviews_sample.csv', index_col=0)\n",
    "\n",
    "#Приводим столбцы к нужным типам\n",
    "recipes['submitted'] = pd.to_datetime(recipes['submitted'])\n",
    "reviews['date'] = pd.to_datetime(reviews['date'])\n",
    "\n",
    "#Кол-во записей в 2010 году\n",
    "rev_num_2010 = reviews[reviews['date'].dt.year == 2010].shape[0]"
   ]
  },
  {
   "cell_type": "markdown",
   "metadata": {},
   "source": [
    "https://stackoverflow.com/questions/16476924/how-to-iterate-over-rows-in-a-dataframe-in-pandas"
   ]
  },
  {
   "cell_type": "code",
   "execution_count": 43,
   "metadata": {},
   "outputs": [
    {
     "name": "stdout",
     "output_type": "stream",
     "text": [
      "7.99 s ± 396 ms per loop (mean ± std. dev. of 7 runs, 1 loop each)\n"
     ]
    }
   ],
   "source": [
    "%%timeit \n",
    "# A. С использованием метода DataFrame.iterrows исходной таблицы;\n",
    "sm = 0\n",
    "for index, row in reviews.iterrows():\n",
    "    if row['date'].year == 2010:\n",
    "        sm = sm + row['rating']\n",
    "res_1A = sm / rev_num_2010"
   ]
  },
  {
   "cell_type": "code",
   "execution_count": 44,
   "metadata": {},
   "outputs": [
    {
     "name": "stdout",
     "output_type": "stream",
     "text": [
      "735 ms ± 11.7 ms per loop (mean ± std. dev. of 7 runs, 1 loop each)\n"
     ]
    }
   ],
   "source": [
    "%%timeit \n",
    "# Б. С использованием метода DataFrame.iterrows таблицы, в которой сохранены только отзывы за 2010 год;\n",
    "sm = 0\n",
    "for index, row in reviews[reviews['date'].dt.year == 2010].iterrows():\n",
    "    sm = sm + row['rating']\n",
    "res_1B = sm / rev_num_2010"
   ]
  },
  {
   "cell_type": "code",
   "execution_count": 324,
   "metadata": {},
   "outputs": [
    {
     "name": "stdout",
     "output_type": "stream",
     "text": [
      "7.12 ms ± 85.4 µs per loop (mean ± std. dev. of 7 runs, 100 loops each)\n"
     ]
    }
   ],
   "source": [
    "%%timeit\n",
    "#С использованием метода Series.mean\n",
    "res_1C = reviews[reviews['date'].dt.year == 2010]['rating'].mean()"
   ]
  },
  {
   "cell_type": "code",
   "execution_count": 62,
   "metadata": {},
   "outputs": [
    {
     "data": {
      "text/plain": [
       "4.4544402182900615"
      ]
     },
     "execution_count": 62,
     "metadata": {},
     "output_type": "execute_result"
    }
   ],
   "source": [
    "res_1A"
   ]
  },
  {
   "cell_type": "code",
   "execution_count": 61,
   "metadata": {
    "scrolled": true
   },
   "outputs": [
    {
     "data": {
      "text/plain": [
       "True"
      ]
     },
     "execution_count": 61,
     "metadata": {},
     "output_type": "execute_result"
    }
   ],
   "source": [
    "res_1A == res_1B == res_1C"
   ]
  },
  {
   "cell_type": "markdown",
   "metadata": {},
   "source": [
    "2. Какая из созданных функций выполняется медленнее? Что наиболее сильно влияет на скорость выполнения? Для ответа использовать профайлер `line_profiler`. Сохраните результаты работы профайлера в отдельную текстовую ячейку и прокомментируйте результаты его работы.\n",
    "\n",
    "(*). Сможете ли вы ускорить работу функции 1Б, отказавшись от использования метода `iterrows`, но не используя метод `mean`?"
   ]
  },
  {
   "cell_type": "markdown",
   "metadata": {},
   "source": [
    "https://stackoverflow.com/questions/23885147/how-do-i-use-line-profiler-from-robert-kern"
   ]
  },
  {
   "cell_type": "markdown",
   "metadata": {},
   "source": [
    "https://coderzcolumn.com/tutorials/python/line-profiler-line-by-line-profiling-of-python-code"
   ]
  },
  {
   "cell_type": "code",
   "execution_count": 63,
   "metadata": {},
   "outputs": [],
   "source": [
    "from line_profiler import LineProfiler"
   ]
  },
  {
   "cell_type": "code",
   "execution_count": 81,
   "metadata": {},
   "outputs": [],
   "source": [
    "def task_1A():\n",
    "    sm = 0\n",
    "    for index, row in reviews.iterrows():\n",
    "        if row['date'].year == 2010:\n",
    "            sm = sm + row['rating']\n",
    "    res_1A = sm / rev_num_2010\n",
    "\n",
    "def task_1B():\n",
    "    sm = 0\n",
    "    for index, row in reviews[reviews['date'].dt.year == 2010].iterrows():\n",
    "        sm = sm + row['rating']\n",
    "    res_1B = sm / rev_num_2010\n",
    "\n",
    "def task_1C():\n",
    "    reviews[reviews['date'].dt.year == 2010]['rating'].mean()\n",
    "\n",
    "def call_fun():\n",
    "    task_1A()\n",
    "    task_1B()\n",
    "    task_1C()"
   ]
  },
  {
   "cell_type": "code",
   "execution_count": 94,
   "metadata": {},
   "outputs": [
    {
     "name": "stdout",
     "output_type": "stream",
     "text": [
      "The line_profiler extension is already loaded. To reload it, use:\n",
      "  %reload_ext line_profiler\n"
     ]
    }
   ],
   "source": [
    "#Вариант 1\n",
    "%load_ext line_profiler\n",
    "%lprun -f task_1A -f task_1B -f task_1C call_fun()"
   ]
  },
  {
   "cell_type": "code",
   "execution_count": 84,
   "metadata": {},
   "outputs": [
    {
     "name": "stdout",
     "output_type": "stream",
     "text": [
      "Timer unit: 1e-06 s\n",
      "\n",
      "Total time: 22.5384 s\n",
      "File: <ipython-input-81-fdfa8b125d10>\n",
      "Function: task_1A at line 1\n",
      "\n",
      "Line #      Hits         Time  Per Hit   % Time  Line Contents\n",
      "==============================================================\n",
      "     1                                           def task_1A():\n",
      "     2         1          1.0      1.0      0.0      sm = 0\n",
      "     3    126697   20594192.0    162.5     91.4      for index, row in reviews.iterrows():\n",
      "     4    126696    1818028.0     14.3      8.1          if row['date'].year == 2010:\n",
      "     5     12094     126200.0     10.4      0.6              sm = sm + row['rating']\n",
      "     6         1          1.0      1.0      0.0      res_1A = sm / rev_num_2010\n",
      "\n",
      "Total time: 2.32612 s\n",
      "File: <ipython-input-81-fdfa8b125d10>\n",
      "Function: task_1B at line 8\n",
      "\n",
      "Line #      Hits         Time  Per Hit   % Time  Line Contents\n",
      "==============================================================\n",
      "     8                                           def task_1B():\n",
      "     9         1          1.0      1.0      0.0      sm = 0\n",
      "    10     12095    2139988.0    176.9     92.0      for index, row in reviews[reviews['date'].dt.year == 2010].iterrows():\n",
      "    11     12094     186134.0     15.4      8.0          sm = sm + row['rating']\n",
      "    12         1          2.0      2.0      0.0      res_1B = sm / rev_num_2010\n",
      "\n",
      "Total time: 0.008262 s\n",
      "File: <ipython-input-81-fdfa8b125d10>\n",
      "Function: task_1C at line 14\n",
      "\n",
      "Line #      Hits         Time  Per Hit   % Time  Line Contents\n",
      "==============================================================\n",
      "    14                                           def task_1C():\n",
      "    15         1       8262.0   8262.0    100.0      reviews[reviews['date'].dt.year == 2010]['rating'].mean()\n",
      "\n",
      "Total time: 25.0066 s\n",
      "File: <ipython-input-81-fdfa8b125d10>\n",
      "Function: call_fun at line 17\n",
      "\n",
      "Line #      Hits         Time  Per Hit   % Time  Line Contents\n",
      "==============================================================\n",
      "    17                                           def call_fun():\n",
      "    18         1   22660311.0 22660311.0     90.6      task_1A()\n",
      "    19         1    2337977.0 2337977.0      9.3      task_1B()\n",
      "    20         1       8265.0   8265.0      0.0      task_1C()\n",
      "\n"
     ]
    }
   ],
   "source": [
    "#Вариант 2:\n",
    "lp = LineProfiler()\n",
    "\n",
    "lp.add_function(task_1A)\n",
    "lp.add_function(task_1B)\n",
    "lp.add_function(task_1C)\n",
    "\n",
    "lp_wrapper = lp(call_fun)\n",
    "lp_wrapper()\n",
    "\n",
    "lp.print_stats()"
   ]
  },
  {
   "cell_type": "markdown",
   "metadata": {},
   "source": [
    "https://github.com/rkern/line_profiler"
   ]
  },
  {
   "cell_type": "markdown",
   "metadata": {},
   "source": [
    "Line: Номер строки в функции\n",
    "Hits: Кол-во раз, которое эта строка была выполнена\n",
    "Time: Общее кол-во времени, которое была затрачено на исполнение строки в еденицах системного таймера. \n",
    "Per Hit: Среднее кол-во времени затраченное на выполнение строки в еденицах системного таймера\n",
    "% Time: Процент времени затраченный выполнение данной строки относительно времени выполнения всей функции \n",
    "Line Contents: содержимое строки"
   ]
  },
  {
   "cell_type": "markdown",
   "metadata": {},
   "source": [
    "3. Вам предлагается воспользоваться функцией, которая собирает статистику о том, сколько отзывов содержат то или иное слово. Измерьте время выполнения этой функции. Сможете ли вы найти узкие места в коде, используя профайлер? Выпишите (словами), что в имеющемся коде реализовано неоптимально. Оптимизируйте функцию и добейтесь значительного (как минимум, на один порядок) прироста в скорости выполнения."
   ]
  },
  {
   "cell_type": "markdown",
   "metadata": {},
   "source": [
    "https://stackoverflow.com/questions/46864740/selecting-a-subset-using-dropna-to-select-multiple-columns/52192431"
   ]
  },
  {
   "cell_type": "code",
   "execution_count": 95,
   "metadata": {},
   "outputs": [],
   "source": [
    "def get_word_reviews_count(df):\n",
    "    word_reviews = {}\n",
    "    for _, row in df.dropna(subset=['review']).iterrows():\n",
    "        recipe_id, review = row['recipe_id'], row['review']\n",
    "        words = review.split(' ')\n",
    "        for word in words:\n",
    "            if word not in word_reviews:\n",
    "                word_reviews[word] = []\n",
    "            word_reviews[word].append(recipe_id)\n",
    "    \n",
    "    word_reviews_count = {}\n",
    "    for _, row in df.dropna(subset=['review']).iterrows():\n",
    "        review = row['review']\n",
    "        words = review.split(' ')\n",
    "        for word in words:\n",
    "            word_reviews_count[word] = len(word_reviews[word])\n",
    "    return word_reviews_count"
   ]
  },
  {
   "cell_type": "code",
   "execution_count": 98,
   "metadata": {},
   "outputs": [
    {
     "name": "stdout",
     "output_type": "stream",
     "text": [
      "Timer unit: 1e-06 s\n",
      "\n",
      "Total time: 65.4384 s\n",
      "File: <ipython-input-95-b1bc049bcd0c>\n",
      "Function: get_word_reviews_count at line 1\n",
      "\n",
      "Line #      Hits         Time  Per Hit   % Time  Line Contents\n",
      "==============================================================\n",
      "     1                                           def get_word_reviews_count(df):\n",
      "     2         1          2.0      2.0      0.0      word_reviews = {}\n",
      "     3    126680   22185915.0    175.1     33.9      for _, row in df.dropna(subset=['review']).iterrows():\n",
      "     4    126679    3147643.0     24.8      4.8          recipe_id, review = row['recipe_id'], row['review']\n",
      "     5    126679     679581.0      5.4      1.0          words = review.split(' ')\n",
      "     6   6918689    2522468.0      0.4      3.9          for word in words:\n",
      "     7   6792010    3480574.0      0.5      5.3              if word not in word_reviews:\n",
      "     8    174944     107492.0      0.6      0.2                  word_reviews[word] = []\n",
      "     9   6792010    3765944.0      0.6      5.8              word_reviews[word].append(recipe_id)\n",
      "    10                                               \n",
      "    11         1          1.0      1.0      0.0      word_reviews_count = {}\n",
      "    12    126680   19953569.0    157.5     30.5      for _, row in df.dropna(subset=['review']).iterrows():\n",
      "    13    126679    1740881.0     13.7      2.7          review = row['review']\n",
      "    14    126679     633219.0      5.0      1.0          words = review.split(' ')\n",
      "    15   6918689    2438299.0      0.4      3.7          for word in words:\n",
      "    16   6792010    4782852.0      0.7      7.3              word_reviews_count[word] = len(word_reviews[word])\n",
      "    17         1          2.0      2.0      0.0      return word_reviews_count\n",
      "\n"
     ]
    }
   ],
   "source": [
    "#Используем профайлер\n",
    "lp = LineProfiler()\n",
    "\n",
    "lp_wrapper = lp(get_word_reviews_count)\n",
    "lp_wrapper(reviews)\n",
    "\n",
    "lp.print_stats()"
   ]
  },
  {
   "cell_type": "code",
   "execution_count": 101,
   "metadata": {},
   "outputs": [],
   "source": [
    "#Задача: посчитать кол-во появлений каждого уникального слова в отзывах\n",
    "def get_word_reviews_count_v2(df):\n",
    "    word_reviews_count = {}\n",
    "    for _, row in df.dropna(subset=['review']).iterrows():\n",
    "        recipe_id, review = row['recipe_id'], row['review']\n",
    "        words = review.split(' ')\n",
    "        for word in words:\n",
    "            if word not in word_reviews_count:\n",
    "                word_reviews_count[word] = 0\n",
    "            word_reviews_count[word] = word_reviews_count[word] + 1\n",
    "    return word_reviews_count"
   ]
  },
  {
   "cell_type": "code",
   "execution_count": 102,
   "metadata": {},
   "outputs": [
    {
     "name": "stdout",
     "output_type": "stream",
     "text": [
      "Timer unit: 1e-06 s\n",
      "\n",
      "Total time: 40.4893 s\n",
      "File: <ipython-input-101-5a3c25391484>\n",
      "Function: get_word_reviews_count_v2 at line 2\n",
      "\n",
      "Line #      Hits         Time  Per Hit   % Time  Line Contents\n",
      "==============================================================\n",
      "     2                                           def get_word_reviews_count_v2(df):\n",
      "     3         1          2.0      2.0      0.0      word_reviews_count = {}\n",
      "     4    126680   25277000.0    199.5     62.4      for _, row in df.dropna(subset=['review']).iterrows():\n",
      "     5    126679    3636586.0     28.7      9.0          recipe_id, review = row['recipe_id'], row['review']\n",
      "     6    126679     783113.0      6.2      1.9          words = review.split(' ')\n",
      "     7   6918689    2731137.0      0.4      6.7          for word in words:\n",
      "     8   6792010    3863361.0      0.6      9.5              if word not in word_reviews_count:\n",
      "     9    174944     111139.0      0.6      0.3                  word_reviews_count[word] = 0\n",
      "    10   6792010    4087009.0      0.6     10.1              word_reviews_count[word] = word_reviews_count[word] + 1\n",
      "    11         1          2.0      2.0      0.0      return word_reviews_count\n",
      "\n"
     ]
    }
   ],
   "source": [
    "#Используем профайлер\n",
    "lp = LineProfiler()\n",
    "\n",
    "lp_wrapper = lp(get_word_reviews_count_v2)\n",
    "lp_wrapper(reviews)\n",
    "\n",
    "lp.print_stats()"
   ]
  },
  {
   "cell_type": "markdown",
   "metadata": {},
   "source": [
    "https://stackoverflow.com/questions/45340785/update-counter-collection-in-python-with-string-not-letter"
   ]
  },
  {
   "cell_type": "markdown",
   "metadata": {},
   "source": [
    "https://stackoverflow.com/questions/12282232/how-do-i-count-unique-values-inside-a-list"
   ]
  },
  {
   "cell_type": "markdown",
   "metadata": {},
   "source": [
    "https://towardsdatascience.com/how-to-make-your-pandas-loop-71-803-times-faster-805030df4f06"
   ]
  },
  {
   "cell_type": "code",
   "execution_count": 157,
   "metadata": {},
   "outputs": [],
   "source": [
    "from collections import Counter\n",
    "def get_word_reviews_count_v3(df):\n",
    "    word_reviews_count = {}\n",
    "    for i in reviews['review']:\n",
    "        if not pd.isna(i): \n",
    "            words = i.split(' ')\n",
    "            for word in words:\n",
    "                if word not in word_reviews_count:\n",
    "                    word_reviews_count[word] = 0\n",
    "                word_reviews_count[word] = word_reviews_count[word] + 1\n",
    "    return (word_reviews_count.keys, word_reviews_count.values)"
   ]
  },
  {
   "cell_type": "code",
   "execution_count": 158,
   "metadata": {},
   "outputs": [
    {
     "name": "stdout",
     "output_type": "stream",
     "text": [
      "Timer unit: 1e-06 s\n",
      "\n",
      "Total time: 5.71958 s\n",
      "File: <ipython-input-157-2a30697f84a7>\n",
      "Function: get_word_reviews_count_v3 at line 2\n",
      "\n",
      "Line #      Hits         Time  Per Hit   % Time  Line Contents\n",
      "==============================================================\n",
      "     2                                           def get_word_reviews_count_v3(df):\n",
      "     3         1         98.0     98.0      0.0      word_reviews_count = Counter()\n",
      "     4    126697      77534.0      0.6      1.4      for i in reviews['review']:\n",
      "     5    126696     250871.0      2.0      4.4          if not pd.isna(i): \n",
      "     6    126679     529310.0      4.2      9.3              words = i.split(' ')\n",
      "     7    126679    4861763.0     38.4     85.0              word_reviews_count.update(Counter(words))\n",
      "     8         1          1.0      1.0      0.0      return (word_reviews_count.keys, word_reviews_count.values)\n",
      "\n"
     ]
    }
   ],
   "source": [
    "#Используем профайлер\n",
    "lp = LineProfiler()\n",
    "\n",
    "lp_wrapper = lp(get_word_reviews_count_v3)\n",
    "lp_wrapper(reviews)\n",
    "\n",
    "lp.print_stats()"
   ]
  },
  {
   "cell_type": "markdown",
   "metadata": {},
   "source": [
    "https://blog.paperspace.com/numpy-optimization-vectorization-and-broadcasting/"
   ]
  },
  {
   "cell_type": "code",
   "execution_count": 173,
   "metadata": {},
   "outputs": [],
   "source": [
    "from collections import Counter\n",
    "def get_word_reviews_count_v4(df):\n",
    "    res = Counter()\n",
    "    \n",
    "    def count_uni_words(st):\n",
    "        if not pd.isna(st): \n",
    "            res.update(Counter(st))\n",
    "    \n",
    "    vcount = np.vectorize(count_uni_words)\n",
    "    vcount(df['review'])"
   ]
  },
  {
   "cell_type": "code",
   "execution_count": 174,
   "metadata": {},
   "outputs": [],
   "source": [
    "get_word_reviews_count_v4(reviews)"
   ]
  },
  {
   "cell_type": "code",
   "execution_count": 175,
   "metadata": {},
   "outputs": [
    {
     "name": "stdout",
     "output_type": "stream",
     "text": [
      "Timer unit: 1e-06 s\n",
      "\n",
      "Total time: 4.59164 s\n",
      "File: <ipython-input-173-b4aefa211337>\n",
      "Function: get_word_reviews_count_v4 at line 2\n",
      "\n",
      "Line #      Hits         Time  Per Hit   % Time  Line Contents\n",
      "==============================================================\n",
      "     2                                           def get_word_reviews_count_v4(df):\n",
      "     3         1          9.0      9.0      0.0      res = Counter()\n",
      "     4                                               \n",
      "     5         1          1.0      1.0      0.0      def count_uni_words(st):\n",
      "     6                                                   if not pd.isna(st): \n",
      "     7                                                       res.update(Counter(st))\n",
      "     8                                               \n",
      "     9         1         17.0     17.0      0.0      vcount = np.vectorize(count_uni_words)\n",
      "    10         1    4591610.0 4591610.0    100.0      vcount(df['review'])\n",
      "\n"
     ]
    }
   ],
   "source": [
    "#Используем профайлер\n",
    "lp = LineProfiler()\n",
    "\n",
    "lp_wrapper = lp(get_word_reviews_count_v4)\n",
    "lp_wrapper(reviews)\n",
    "\n",
    "lp.print_stats()"
   ]
  },
  {
   "cell_type": "code",
   "execution_count": 179,
   "metadata": {},
   "outputs": [],
   "source": [
    "from collections import Counter\n",
    "def get_word_reviews_count_v5(df):\n",
    "    res = dict()\n",
    "    \n",
    "    def count_uni_words(st):\n",
    "        if not pd.isna(st):\n",
    "            word = st.split(' ')\n",
    "            res.update(Counter(st))\n",
    "    \n",
    "    vcount = np.vectorize(count_uni_words)\n",
    "    vcount(df['review'])"
   ]
  },
  {
   "cell_type": "code",
   "execution_count": 195,
   "metadata": {},
   "outputs": [
    {
     "name": "stdout",
     "output_type": "stream",
     "text": [
      "Timer unit: 1e-06 s\n",
      "\n",
      "Total time: 2.71153 s\n",
      "File: <ipython-input-179-f0fa0e39b333>\n",
      "Function: get_word_reviews_count_v5 at line 2\n",
      "\n",
      "Line #      Hits         Time  Per Hit   % Time  Line Contents\n",
      "==============================================================\n",
      "     2                                           def get_word_reviews_count_v5(df):\n",
      "     3         1          3.0      3.0      0.0      res = dict()\n",
      "     4                                               \n",
      "     5         1          2.0      2.0      0.0      def count_uni_words(st):\n",
      "     6                                                   if not pd.isna(st):\n",
      "     7                                                       word = st.split(' ')\n",
      "     8                                                       res.update(Counter(st))\n",
      "     9                                               \n",
      "    10         1         20.0     20.0      0.0      vcount = np.vectorize(count_uni_words)\n",
      "    11         1    2711503.0 2711503.0    100.0      vcount(df['review'])\n",
      "\n"
     ]
    }
   ],
   "source": [
    "#Используем профайлер\n",
    "lp = LineProfiler()\n",
    "\n",
    "lp_wrapper = lp(get_word_reviews_count_v5)\n",
    "lp_wrapper(reviews)\n",
    "\n",
    "lp.print_stats()"
   ]
  },
  {
   "cell_type": "code",
   "execution_count": 197,
   "metadata": {},
   "outputs": [],
   "source": [
    "from collections import Counter\n",
    "def get_word_reviews_count_v6(df):\n",
    "    a = (' '.join(df.dropna(subset=['review'])['review'])).split(' ')\n",
    "    return Counter(a)"
   ]
  },
  {
   "cell_type": "code",
   "execution_count": 199,
   "metadata": {},
   "outputs": [
    {
     "name": "stdout",
     "output_type": "stream",
     "text": [
      "Timer unit: 1e-06 s\n",
      "\n",
      "Total time: 1.44152 s\n",
      "File: <ipython-input-197-0b5efc8f2488>\n",
      "Function: get_word_reviews_count_v6 at line 2\n",
      "\n",
      "Line #      Hits         Time  Per Hit   % Time  Line Contents\n",
      "==============================================================\n",
      "     2                                           def get_word_reviews_count_v6(df):\n",
      "     3         1     594433.0 594433.0     41.2      a = (' '.join(df.dropna(subset=['review'])['review'])).split(' ')\n",
      "     4         1     847089.0 847089.0     58.8      return Counter(a)\n",
      "\n"
     ]
    }
   ],
   "source": [
    "#Используем профайлер\n",
    "lp = LineProfiler()\n",
    "\n",
    "lp_wrapper = lp(get_word_reviews_count_v6)\n",
    "lp_wrapper(reviews)\n",
    "\n",
    "lp.print_stats()"
   ]
  },
  {
   "cell_type": "code",
   "execution_count": 319,
   "metadata": {},
   "outputs": [
    {
     "name": "stdout",
     "output_type": "stream",
     "text": [
      "1.44 s ± 11.3 ms per loop (mean ± std. dev. of 7 runs, 1 loop each)\n"
     ]
    }
   ],
   "source": [
    "%%timeit\n",
    "get_word_reviews_count_v6(reviews)"
   ]
  },
  {
   "cell_type": "code",
   "execution_count": 318,
   "metadata": {},
   "outputs": [
    {
     "data": {
      "text/plain": [
       "True"
      ]
     },
     "execution_count": 318,
     "metadata": {},
     "output_type": "execute_result"
    }
   ],
   "source": [
    "get_word_reviews_count(reviews) == get_word_reviews_count_v6(reviews)"
   ]
  },
  {
   "cell_type": "markdown",
   "metadata": {},
   "source": [
    "4. Напишите несколько версий функции `MAPE` (см. [MAPE](https://en.wikipedia.org/wiki/Mean_absolute_percentage_error)) для расчета среднего абсолютного процентного отклонения значения рейтинга отзыва на рецепт от среднего значения рейтинга по всем отзывам для этого рецепта. \n",
    "    1. Без использования векторизованных операций и методов массивов `numpy` и без использования `numba`\n",
    "    2. Без использования векторизованных операций и методов массивов `numpy`, но с использованием `numba`\n",
    "    3. С использованием векторизованных операций и методов массивов `numpy`, но без использования `numba`\n",
    "    4. C использованием векторизованных операций и методов массивов `numpy` и `numba`\n",
    "    \n",
    "Измерьте время выполнения каждой из реализаций.\n",
    "\n",
    "Замечание: удалите из выборки отзывы с нулевым рейтингом.\n"
   ]
  },
  {
   "attachments": {
    "%D0%B8%D0%B7%D0%BE%D0%B1%D1%80%D0%B0%D0%B6%D0%B5%D0%BD%D0%B8%D0%B5.png": {
     "image/png": "[encoded data removed]"
    }
   },
   "cell_type": "markdown",
   "metadata": {},
   "source": [
    "![%D0%B8%D0%B7%D0%BE%D0%B1%D1%80%D0%B0%D0%B6%D0%B5%D0%BD%D0%B8%D0%B5.png](attachment:%D0%B8%D0%B7%D0%BE%D0%B1%D1%80%D0%B0%D0%B6%D0%B5%D0%BD%D0%B8%D0%B5.png)"
   ]
  },
  {
   "cell_type": "code",
   "execution_count": 203,
   "metadata": {},
   "outputs": [
    {
     "data": {
      "text/html": [
       "<div>\n",
       "<style scoped>\n",
       "    .dataframe tbody tr th:only-of-type {\n",
       "        vertical-align: middle;\n",
       "    }\n",
       "\n",
       "    .dataframe tbody tr th {\n",
       "        vertical-align: top;\n",
       "    }\n",
       "\n",
       "    .dataframe thead th {\n",
       "        text-align: right;\n",
       "    }\n",
       "</style>\n",
       "<table border=\"1\" class=\"dataframe\">\n",
       "  <thead>\n",
       "    <tr style=\"text-align: right;\">\n",
       "      <th></th>\n",
       "      <th>user_id</th>\n",
       "      <th>recipe_id</th>\n",
       "      <th>date</th>\n",
       "      <th>rating</th>\n",
       "      <th>review</th>\n",
       "    </tr>\n",
       "  </thead>\n",
       "  <tbody>\n",
       "    <tr>\n",
       "      <th>370476</th>\n",
       "      <td>21752</td>\n",
       "      <td>57993</td>\n",
       "      <td>2003-05-01</td>\n",
       "      <td>5</td>\n",
       "      <td>Last week whole sides of frozen salmon fillet ...</td>\n",
       "    </tr>\n",
       "    <tr>\n",
       "      <th>624300</th>\n",
       "      <td>431813</td>\n",
       "      <td>142201</td>\n",
       "      <td>2007-09-16</td>\n",
       "      <td>5</td>\n",
       "      <td>So simple and so tasty!  I used a yellow capsi...</td>\n",
       "    </tr>\n",
       "    <tr>\n",
       "      <th>187037</th>\n",
       "      <td>400708</td>\n",
       "      <td>252013</td>\n",
       "      <td>2008-01-10</td>\n",
       "      <td>4</td>\n",
       "      <td>Very nice breakfast HH, easy to make and yummy...</td>\n",
       "    </tr>\n",
       "    <tr>\n",
       "      <th>706134</th>\n",
       "      <td>2001852463</td>\n",
       "      <td>404716</td>\n",
       "      <td>2017-12-11</td>\n",
       "      <td>5</td>\n",
       "      <td>These are a favorite for the holidays and so e...</td>\n",
       "    </tr>\n",
       "    <tr>\n",
       "      <th>312179</th>\n",
       "      <td>95810</td>\n",
       "      <td>129396</td>\n",
       "      <td>2008-03-14</td>\n",
       "      <td>5</td>\n",
       "      <td>Excellent soup!  The tomato flavor is just gre...</td>\n",
       "    </tr>\n",
       "  </tbody>\n",
       "</table>\n",
       "</div>"
      ],
      "text/plain": [
       "           user_id  recipe_id       date  rating  \\\n",
       "370476       21752      57993 2003-05-01       5   \n",
       "624300      431813     142201 2007-09-16       5   \n",
       "187037      400708     252013 2008-01-10       4   \n",
       "706134  2001852463     404716 2017-12-11       5   \n",
       "312179       95810     129396 2008-03-14       5   \n",
       "\n",
       "                                                   review  \n",
       "370476  Last week whole sides of frozen salmon fillet ...  \n",
       "624300  So simple and so tasty!  I used a yellow capsi...  \n",
       "187037  Very nice breakfast HH, easy to make and yummy...  \n",
       "706134  These are a favorite for the holidays and so e...  \n",
       "312179  Excellent soup!  The tomato flavor is just gre...  "
      ]
     },
     "execution_count": 203,
     "metadata": {},
     "output_type": "execute_result"
    }
   ],
   "source": [
    "reviews.head()"
   ]
  },
  {
   "cell_type": "markdown",
   "metadata": {},
   "source": [
    "https://thispointer.com/python-how-to-convert-a-list-to-dictionary/"
   ]
  },
  {
   "cell_type": "code",
   "execution_count": 253,
   "metadata": {},
   "outputs": [],
   "source": [
    "## удаляем из выборки отзывы с нулевым рейтингом.\n",
    "reviews_t4 = reviews[reviews['rating'] != 0]\n",
    "\n",
    "#считаем среднее значение рейтинга по каждому рецепту\n",
    "mean_rating = (reviews.groupby('recipe_id').mean()['rating']).to_dict()\n",
    "\n",
    "#Созадаем словарь с уникальными рецептами\n",
    "res = dict.fromkeys(reviews_t4['recipe_id'].unique(), 0)"
   ]
  },
  {
   "cell_type": "markdown",
   "metadata": {},
   "source": [
    "https://realpython.com/iterate-through-dictionary-python/#iterating-through-keys"
   ]
  },
  {
   "cell_type": "code",
   "execution_count": 279,
   "metadata": {},
   "outputs": [
    {
     "data": {
      "text/html": [
       "<div>\n",
       "<style scoped>\n",
       "    .dataframe tbody tr th:only-of-type {\n",
       "        vertical-align: middle;\n",
       "    }\n",
       "\n",
       "    .dataframe tbody tr th {\n",
       "        vertical-align: top;\n",
       "    }\n",
       "\n",
       "    .dataframe thead th {\n",
       "        text-align: right;\n",
       "    }\n",
       "</style>\n",
       "<table border=\"1\" class=\"dataframe\">\n",
       "  <thead>\n",
       "    <tr style=\"text-align: right;\">\n",
       "      <th></th>\n",
       "      <th>user_id</th>\n",
       "      <th>recipe_id</th>\n",
       "      <th>date</th>\n",
       "      <th>rating</th>\n",
       "      <th>review</th>\n",
       "    </tr>\n",
       "  </thead>\n",
       "  <tbody>\n",
       "    <tr>\n",
       "      <th>532499</th>\n",
       "      <td>68674</td>\n",
       "      <td>48</td>\n",
       "      <td>2004-05-03</td>\n",
       "      <td>2</td>\n",
       "      <td>I picked this recipe over the other BCP recipe...</td>\n",
       "    </tr>\n",
       "  </tbody>\n",
       "</table>\n",
       "</div>"
      ],
      "text/plain": [
       "        user_id  recipe_id       date  rating  \\\n",
       "532499    68674         48 2004-05-03       2   \n",
       "\n",
       "                                                   review  \n",
       "532499  I picked this recipe over the other BCP recipe...  "
      ]
     },
     "execution_count": 279,
     "metadata": {},
     "output_type": "execute_result"
    }
   ],
   "source": [
    "reviews_t4[reviews_t4['recipe_id'] == 48]"
   ]
  },
  {
   "cell_type": "code",
   "execution_count": 280,
   "metadata": {
    "scrolled": true
   },
   "outputs": [
    {
     "data": {
      "text/plain": [
       "[2]"
      ]
     },
     "execution_count": 280,
     "metadata": {},
     "output_type": "execute_result"
    }
   ],
   "source": [
    "reviews_t4[reviews_t4['recipe_id'] == 48]['rating'].tolist()"
   ]
  },
  {
   "cell_type": "code",
   "execution_count": 286,
   "metadata": {},
   "outputs": [],
   "source": [
    "#%%timeit \n",
    "# A. Без использования векторизованных операций и методов массивов numpy и без использования numba\n",
    "def find_mape_A(ratings, mn_rating):\n",
    "    sm = 0\n",
    "    for rating in ratings:\n",
    "        sm = sm + abs((mn_rating - rating) / mn_rating)\n",
    "    return sm / len(ratings) * 100"
   ]
  },
  {
   "cell_type": "markdown",
   "metadata": {},
   "source": [
    "https://pandas.pydata.org/docs/reference/api/pandas.Series.tolist.html"
   ]
  },
  {
   "cell_type": "code",
   "execution_count": 322,
   "metadata": {},
   "outputs": [
    {
     "name": "stdout",
     "output_type": "stream",
     "text": [
      "19 s ± 963 ms per loop (mean ± std. dev. of 7 runs, 1 loop each)\n"
     ]
    }
   ],
   "source": [
    "%%timeit\n",
    "res_A = res.copy()\n",
    "for key in res_A.keys():\n",
    "    ratings = reviews_t4[reviews_t4['recipe_id'] == 48]['rating'].tolist() #все рейтинге у рецепта с id key\n",
    "    res_A = find_mape_A(ratings, mean_rating[key])"
   ]
  },
  {
   "cell_type": "code",
   "execution_count": 323,
   "metadata": {},
   "outputs": [],
   "source": [
    "# B. Без использования векторизованных операций и методов массивов numpy, но с использованием numba\n",
    "from numba import jit, njit\n",
    "\n",
    "@jit(nopython=True)\n",
    "def find_mape_B(ratings, mn_rating):\n",
    "    sm = 0\n",
    "    for rating in ratings:\n",
    "        sm = sm + abs((mn_rating - rating) / mn_rating)\n",
    "    return sm / len(ratings) * 100"
   ]
  },
  {
   "cell_type": "code",
   "execution_count": 321,
   "metadata": {},
   "outputs": [
    {
     "name": "stderr",
     "output_type": "stream",
     "text": [
      "/Users/alexander/opt/anaconda3/lib/python3.8/site-packages/numba/core/ir_utils.py:2031: NumbaPendingDeprecationWarning: \u001b[1m\n",
      "Encountered the use of a type that is scheduled for deprecation: type 'reflected list' found for argument 'ratings' of function 'find_mape_B'.\n",
      "\n",
      "For more information visit https://numba.pydata.org/numba-doc/latest/reference/deprecation.html#deprecation-of-reflection-for-list-and-set-types\n",
      "\u001b[1m\n",
      "File \"<ipython-input-320-cabc513709cc>\", line 5:\u001b[0m\n",
      "\u001b[1m@jit(nopython=True)\n",
      "\u001b[1mdef find_mape_B(ratings, mn_rating):\n",
      "\u001b[0m\u001b[1m^\u001b[0m\u001b[0m\n",
      "\u001b[0m\n",
      "  warnings.warn(NumbaPendingDeprecationWarning(msg, loc=loc))\n"
     ]
    },
    {
     "name": "stdout",
     "output_type": "stream",
     "text": [
      "17.9 s ± 422 ms per loop (mean ± std. dev. of 7 runs, 1 loop each)\n"
     ]
    }
   ],
   "source": [
    "%%timeit\n",
    "res_B = res.copy()\n",
    "for key in res_B.keys():\n",
    "    ratings = reviews_t4[reviews_t4['recipe_id'] == 48]['rating'].tolist() #все рейтинге у рецепта с id key\n",
    "    res_B = find_mape_B(ratings, mean_rating[key])"
   ]
  },
  {
   "cell_type": "markdown",
   "metadata": {},
   "source": [
    "https://stackoverflow.com/questions/47648133/mape-calculation-in-python"
   ]
  },
  {
   "cell_type": "code",
   "execution_count": 305,
   "metadata": {},
   "outputs": [],
   "source": [
    "# С. использованием векторизованных операций и методов массивов numpy, но без использования numba\n",
    "def find_mape_C(ratings, mn_rating): \n",
    "    y_pred = np.array(ratings)\n",
    "    y_true = np.empty(y_pred.size)\n",
    "    y_true.fill(mn_rating)\n",
    "    return np.mean(np.abs((y_true - y_pred) / y_true)) * 100"
   ]
  },
  {
   "cell_type": "code",
   "execution_count": 312,
   "metadata": {},
   "outputs": [
    {
     "name": "stderr",
     "output_type": "stream",
     "text": [
      "/Users/alexander/opt/anaconda3/lib/python3.8/site-packages/numba/core/ir_utils.py:2031: NumbaPendingDeprecationWarning: \u001b[1m\n",
      "Encountered the use of a type that is scheduled for deprecation: type 'reflected list' found for argument 'ratings' of function 'find_mape_C'.\n",
      "\n",
      "For more information visit https://numba.pydata.org/numba-doc/latest/reference/deprecation.html#deprecation-of-reflection-for-list-and-set-types\n",
      "\u001b[1m\n",
      "File \"<ipython-input-307-692ca2ea199f>\", line 5:\u001b[0m\n",
      "\u001b[1m@jit(nopython=True)\n",
      "\u001b[1mdef find_mape_C(ratings, mn_rating): \n",
      "\u001b[0m\u001b[1m^\u001b[0m\u001b[0m\n",
      "\u001b[0m\n",
      "  warnings.warn(NumbaPendingDeprecationWarning(msg, loc=loc))\n"
     ]
    },
    {
     "name": "stdout",
     "output_type": "stream",
     "text": [
      "18.5 s ± 1.17 s per loop (mean ± std. dev. of 7 runs, 1 loop each)\n"
     ]
    }
   ],
   "source": [
    "%%timeit\n",
    "res_C = res.copy()\n",
    "for key in res_C.keys():\n",
    "    ratings = reviews_t4[reviews_t4['recipe_id'] == 48]['rating'].tolist() #все рейтинге у рецепта с id key\n",
    "    res_C = find_mape_C(ratings, mean_rating[key])"
   ]
  },
  {
   "cell_type": "code",
   "execution_count": null,
   "metadata": {},
   "outputs": [],
   "source": []
  },
  {
   "cell_type": "code",
   "execution_count": 309,
   "metadata": {},
   "outputs": [],
   "source": [
    "# D. C использованием векторизованных операций и методов массивов numpy и numba\n",
    "from numba import jit, njit\n",
    "\n",
    "@jit(nopython=True)\n",
    "def find_mape_D(ratings, mn_rating): \n",
    "    y_pred = np.array(ratings)\n",
    "    y_true = np.empty(y_pred.size)\n",
    "    y_true.fill(mn_rating)\n",
    "    return np.mean(np.abs((y_true - y_pred) / y_true)) * 100"
   ]
  },
  {
   "cell_type": "code",
   "execution_count": 311,
   "metadata": {},
   "outputs": [
    {
     "name": "stdout",
     "output_type": "stream",
     "text": [
      "18.2 s ± 609 ms per loop (mean ± std. dev. of 7 runs, 1 loop each)\n"
     ]
    }
   ],
   "source": [
    "%%timeit\n",
    "res_D = res.copy()\n",
    "for key in res_D.keys():\n",
    "    ratings = reviews_t4[reviews_t4['recipe_id'] == 48]['rating'].tolist() #все рейтинге у рецепта с id key\n",
    "    res_D = find_mape_D(ratings, mean_rating[key])"
   ]
  },
  {
   "cell_type": "code",
   "execution_count": 313,
   "metadata": {},
   "outputs": [
    {
     "data": {
      "text/plain": [
       "True"
      ]
     },
     "execution_count": 313,
     "metadata": {},
     "output_type": "execute_result"
    }
   ],
   "source": [
    "res_A == res_B"
   ]
  },
  {
   "cell_type": "markdown",
   "metadata": {},
   "source": [
    "#### [версия 2]\n",
    "* Уточнены формулировки задач 1, 3, 4"
   ]
  },
  {
   "cell_type": "code",
   "execution_count": null,
   "metadata": {},
   "outputs": [],
   "source": []
  }
 ],
 "metadata": {
  "kernelspec": {
   "display_name": "Python 3",
   "language": "python",
   "name": "python3"
  },
  "language_info": {
   "codemirror_mode": {
    "name": "ipython",
    "version": 3
   },
   "file_extension": ".py",
   "mimetype": "text/x-python",
   "name": "python",
   "nbconvert_exporter": "python",
   "pygments_lexer": "ipython3",
   "version": "3.8.5"
  }
 },
 "nbformat": 4,
 "nbformat_minor": 4
}
