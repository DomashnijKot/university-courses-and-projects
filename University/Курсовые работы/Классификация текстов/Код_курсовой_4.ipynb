{
  "nbformat": 4,
  "nbformat_minor": 0,
  "metadata": {
    "colab": {
      "provenance": [],
      "toc_visible": true
    },
    "kernelspec": {
      "name": "python3",
      "display_name": "Python 3"
    },
    "language_info": {
      "name": "python"
    },
    "gpuClass": "standard",
    "accelerator": "GPU"
  },
  "cells": [
    {
      "cell_type": "markdown",
      "source": [
        "## Загрузка библиотек"
      ],
      "metadata": {
        "id": "3AecfW0d6taE"
      }
    },
    {
      "cell_type": "code",
      "source": [
        "pip install w3lib"
      ],
      "metadata": {
        "colab": {
          "base_uri": "https://localhost:8080/"
        },
        "id": "y4usLnE_JPGY",
        "outputId": "cbea08f1-84d2-4544-c2bd-c99a690a124e"
      },
      "execution_count": 1,
      "outputs": [
        {
          "output_type": "stream",
          "name": "stdout",
          "text": [
            "Looking in indexes: https://pypi.org/simple, https://us-python.pkg.dev/colab-wheels/public/simple/\n",
            "Collecting w3lib\n",
            "  Downloading w3lib-2.1.1-py3-none-any.whl (21 kB)\n",
            "Installing collected packages: w3lib\n",
            "Successfully installed w3lib-2.1.1\n"
          ]
        }
      ]
    },
    {
      "cell_type": "code",
      "execution_count": 2,
      "metadata": {
        "colab": {
          "base_uri": "https://localhost:8080/"
        },
        "id": "SV6sG7YsI0It",
        "outputId": "7c44ce33-1f1f-4a57-88af-49dcc52e60fd"
      },
      "outputs": [
        {
          "output_type": "stream",
          "name": "stderr",
          "text": [
            "[nltk_data] Downloading package punkt to /root/nltk_data...\n",
            "[nltk_data]   Unzipping tokenizers/punkt.zip.\n",
            "[nltk_data] Downloading package stopwords to /root/nltk_data...\n",
            "[nltk_data]   Unzipping corpora/stopwords.zip.\n"
          ]
        }
      ],
      "source": [
        "import re\n",
        "import nltk\n",
        "\n",
        "import torch\n",
        "from torch.utils.data import Dataset, DataLoader\n",
        "import torch.nn as nn\n",
        "import torch.optim as optim\n",
        "\n",
        "import pandas as pd\n",
        "from sklearn.model_selection import train_test_split\n",
        "from sklearn.metrics import accuracy_score\n",
        "from nltk.tokenize import word_tokenize\n",
        "from sklearn.preprocessing import LabelEncoder\n",
        "\n",
        "# Доп. библиотеки\n",
        "import numpy as np\n",
        "import torch.nn.functional as F\n",
        "import matplotlib.pyplot as plt\n",
        "import seaborn as sns\n",
        "import os\n",
        "from google.colab import drive\n",
        "import copy\n",
        "from tqdm import tqdm\n",
        "from nltk.corpus import stopwords\n",
        "nltk.download('punkt')\n",
        "nltk.download(\"stopwords\")\n",
        "\n",
        "# Еще библиотеки\n",
        "from IPython.display import HTML, IFrame\n",
        "from w3lib.html import remove_tags\n",
        "import spacy\n",
        "from tqdm import tqdm_notebook\n",
        "from nltk.tokenize.toktok import ToktokTokenizer\n",
        "\n",
        "from sklearn.feature_extraction.text import CountVectorizer, TfidfVectorizer\n",
        "from sklearn.linear_model import LogisticRegression\n",
        "from sklearn.svm import LinearSVC\n",
        "from sklearn.ensemble import GradientBoostingClassifier\n",
        "from sklearn.naive_bayes import GaussianNB, MultinomialNB\n",
        "from sklearn.model_selection import train_test_split\n",
        "from sklearn.metrics import classification_report, accuracy_score, confusion_matrix, plot_confusion_matrix, plot_roc_curve, plot_precision_recall_curve"
      ]
    },
    {
      "cell_type": "code",
      "source": [
        "device = torch.device(\"cuda\" if torch.cuda.is_available() else \"cpu\")\n",
        "\n",
        "drive.mount('/content/drive/')\n",
        "main_path = \"/content/drive/MyDrive/Университет/Курсовые/Курсовая. Классификация текстов\"\n",
        "os.chdir(main_path)"
      ],
      "metadata": {
        "colab": {
          "base_uri": "https://localhost:8080/"
        },
        "id": "R3sjJ6EJJKd4",
        "outputId": "0bc57130-45df-49ac-ea21-b5fc58b83567"
      },
      "execution_count": 4,
      "outputs": [
        {
          "output_type": "stream",
          "name": "stdout",
          "text": [
            "Mounted at /content/drive/\n"
          ]
        }
      ]
    },
    {
      "cell_type": "markdown",
      "source": [
        "## EDA и предобработка данных"
      ],
      "metadata": {
        "id": "BwGCuY-owvZc"
      }
    },
    {
      "cell_type": "markdown",
      "source": [
        "### Первоначальный обзор данных"
      ],
      "metadata": {
        "id": "7R9GLFpfyyeA"
      }
    },
    {
      "cell_type": "code",
      "source": [
        "data = pd.read_csv(\"data/IMDB Dataset.csv\")\n",
        "data.head()"
      ],
      "metadata": {
        "colab": {
          "base_uri": "https://localhost:8080/",
          "height": 204
        },
        "id": "zN6WQfqUAv5r",
        "outputId": "4b24d257-65d4-455c-9e9d-5555d549c2e0"
      },
      "execution_count": 4,
      "outputs": [
        {
          "output_type": "execute_result",
          "data": {
            "text/plain": [
              "                                              review sentiment\n",
              "0  One of the other reviewers has mentioned that ...  positive\n",
              "1  A wonderful little production. <br /><br />The...  positive\n",
              "2  I thought this was a wonderful way to spend ti...  positive\n",
              "3  Basically there's a family where a little boy ...  negative\n",
              "4  Petter Mattei's \"Love in the Time of Money\" is...  positive"
            ],
            "text/html": [
              "\n",
              "  <div id=\"df-b1bc3b29-a9c2-4233-9a55-4a654f0ed9c1\">\n",
              "    <div class=\"colab-df-container\">\n",
              "      <div>\n",
              "<style scoped>\n",
              "    .dataframe tbody tr th:only-of-type {\n",
              "        vertical-align: middle;\n",
              "    }\n",
              "\n",
              "    .dataframe tbody tr th {\n",
              "        vertical-align: top;\n",
              "    }\n",
              "\n",
              "    .dataframe thead th {\n",
              "        text-align: right;\n",
              "    }\n",
              "</style>\n",
              "<table border=\"1\" class=\"dataframe\">\n",
              "  <thead>\n",
              "    <tr style=\"text-align: right;\">\n",
              "      <th></th>\n",
              "      <th>review</th>\n",
              "      <th>sentiment</th>\n",
              "    </tr>\n",
              "  </thead>\n",
              "  <tbody>\n",
              "    <tr>\n",
              "      <th>0</th>\n",
              "      <td>One of the other reviewers has mentioned that ...</td>\n",
              "      <td>positive</td>\n",
              "    </tr>\n",
              "    <tr>\n",
              "      <th>1</th>\n",
              "      <td>A wonderful little production. &lt;br /&gt;&lt;br /&gt;The...</td>\n",
              "      <td>positive</td>\n",
              "    </tr>\n",
              "    <tr>\n",
              "      <th>2</th>\n",
              "      <td>I thought this was a wonderful way to spend ti...</td>\n",
              "      <td>positive</td>\n",
              "    </tr>\n",
              "    <tr>\n",
              "      <th>3</th>\n",
              "      <td>Basically there's a family where a little boy ...</td>\n",
              "      <td>negative</td>\n",
              "    </tr>\n",
              "    <tr>\n",
              "      <th>4</th>\n",
              "      <td>Petter Mattei's \"Love in the Time of Money\" is...</td>\n",
              "      <td>positive</td>\n",
              "    </tr>\n",
              "  </tbody>\n",
              "</table>\n",
              "</div>\n",
              "      <button class=\"colab-df-convert\" onclick=\"convertToInteractive('df-b1bc3b29-a9c2-4233-9a55-4a654f0ed9c1')\"\n",
              "              title=\"Convert this dataframe to an interactive table.\"\n",
              "              style=\"display:none;\">\n",
              "        \n",
              "  <svg xmlns=\"http://www.w3.org/2000/svg\" height=\"24px\"viewBox=\"0 0 24 24\"\n",
              "       width=\"24px\">\n",
              "    <path d=\"M0 0h24v24H0V0z\" fill=\"none\"/>\n",
              "    <path d=\"M18.56 5.44l.94 2.06.94-2.06 2.06-.94-2.06-.94-.94-2.06-.94 2.06-2.06.94zm-11 1L8.5 8.5l.94-2.06 2.06-.94-2.06-.94L8.5 2.5l-.94 2.06-2.06.94zm10 10l.94 2.06.94-2.06 2.06-.94-2.06-.94-.94-2.06-.94 2.06-2.06.94z\"/><path d=\"M17.41 7.96l-1.37-1.37c-.4-.4-.92-.59-1.43-.59-.52 0-1.04.2-1.43.59L10.3 9.45l-7.72 7.72c-.78.78-.78 2.05 0 2.83L4 21.41c.39.39.9.59 1.41.59.51 0 1.02-.2 1.41-.59l7.78-7.78 2.81-2.81c.8-.78.8-2.07 0-2.86zM5.41 20L4 18.59l7.72-7.72 1.47 1.35L5.41 20z\"/>\n",
              "  </svg>\n",
              "      </button>\n",
              "      \n",
              "  <style>\n",
              "    .colab-df-container {\n",
              "      display:flex;\n",
              "      flex-wrap:wrap;\n",
              "      gap: 12px;\n",
              "    }\n",
              "\n",
              "    .colab-df-convert {\n",
              "      background-color: #E8F0FE;\n",
              "      border: none;\n",
              "      border-radius: 50%;\n",
              "      cursor: pointer;\n",
              "      display: none;\n",
              "      fill: #1967D2;\n",
              "      height: 32px;\n",
              "      padding: 0 0 0 0;\n",
              "      width: 32px;\n",
              "    }\n",
              "\n",
              "    .colab-df-convert:hover {\n",
              "      background-color: #E2EBFA;\n",
              "      box-shadow: 0px 1px 2px rgba(60, 64, 67, 0.3), 0px 1px 3px 1px rgba(60, 64, 67, 0.15);\n",
              "      fill: #174EA6;\n",
              "    }\n",
              "\n",
              "    [theme=dark] .colab-df-convert {\n",
              "      background-color: #3B4455;\n",
              "      fill: #D2E3FC;\n",
              "    }\n",
              "\n",
              "    [theme=dark] .colab-df-convert:hover {\n",
              "      background-color: #434B5C;\n",
              "      box-shadow: 0px 1px 3px 1px rgba(0, 0, 0, 0.15);\n",
              "      filter: drop-shadow(0px 1px 2px rgba(0, 0, 0, 0.3));\n",
              "      fill: #FFFFFF;\n",
              "    }\n",
              "  </style>\n",
              "\n",
              "      <script>\n",
              "        const buttonEl =\n",
              "          document.querySelector('#df-b1bc3b29-a9c2-4233-9a55-4a654f0ed9c1 button.colab-df-convert');\n",
              "        buttonEl.style.display =\n",
              "          google.colab.kernel.accessAllowed ? 'block' : 'none';\n",
              "\n",
              "        async function convertToInteractive(key) {\n",
              "          const element = document.querySelector('#df-b1bc3b29-a9c2-4233-9a55-4a654f0ed9c1');\n",
              "          const dataTable =\n",
              "            await google.colab.kernel.invokeFunction('convertToInteractive',\n",
              "                                                     [key], {});\n",
              "          if (!dataTable) return;\n",
              "\n",
              "          const docLinkHtml = 'Like what you see? Visit the ' +\n",
              "            '<a target=\"_blank\" href=https://colab.research.google.com/notebooks/data_table.ipynb>data table notebook</a>'\n",
              "            + ' to learn more about interactive tables.';\n",
              "          element.innerHTML = '';\n",
              "          dataTable['output_type'] = 'display_data';\n",
              "          await google.colab.output.renderOutput(dataTable, element);\n",
              "          const docLink = document.createElement('div');\n",
              "          docLink.innerHTML = docLinkHtml;\n",
              "          element.appendChild(docLink);\n",
              "        }\n",
              "      </script>\n",
              "    </div>\n",
              "  </div>\n",
              "  "
            ]
          },
          "metadata": {},
          "execution_count": 4
        }
      ]
    },
    {
      "cell_type": "code",
      "source": [
        "data.tail()"
      ],
      "metadata": {
        "colab": {
          "base_uri": "https://localhost:8080/",
          "height": 204
        },
        "id": "n6CxQgi7yDRJ",
        "outputId": "48229930-e22a-4c44-c7b6-ab540b2ce7a2"
      },
      "execution_count": 5,
      "outputs": [
        {
          "output_type": "execute_result",
          "data": {
            "text/plain": [
              "                                                  review sentiment\n",
              "49995  I thought this movie did a down right good job...  positive\n",
              "49996  Bad plot, bad dialogue, bad acting, idiotic di...  negative\n",
              "49997  I am a Catholic taught in parochial elementary...  negative\n",
              "49998  I'm going to have to disagree with the previou...  negative\n",
              "49999  No one expects the Star Trek movies to be high...  negative"
            ],
            "text/html": [
              "\n",
              "  <div id=\"df-baca516e-2bf9-44a4-a619-b19b7f5ae08a\">\n",
              "    <div class=\"colab-df-container\">\n",
              "      <div>\n",
              "<style scoped>\n",
              "    .dataframe tbody tr th:only-of-type {\n",
              "        vertical-align: middle;\n",
              "    }\n",
              "\n",
              "    .dataframe tbody tr th {\n",
              "        vertical-align: top;\n",
              "    }\n",
              "\n",
              "    .dataframe thead th {\n",
              "        text-align: right;\n",
              "    }\n",
              "</style>\n",
              "<table border=\"1\" class=\"dataframe\">\n",
              "  <thead>\n",
              "    <tr style=\"text-align: right;\">\n",
              "      <th></th>\n",
              "      <th>review</th>\n",
              "      <th>sentiment</th>\n",
              "    </tr>\n",
              "  </thead>\n",
              "  <tbody>\n",
              "    <tr>\n",
              "      <th>49995</th>\n",
              "      <td>I thought this movie did a down right good job...</td>\n",
              "      <td>positive</td>\n",
              "    </tr>\n",
              "    <tr>\n",
              "      <th>49996</th>\n",
              "      <td>Bad plot, bad dialogue, bad acting, idiotic di...</td>\n",
              "      <td>negative</td>\n",
              "    </tr>\n",
              "    <tr>\n",
              "      <th>49997</th>\n",
              "      <td>I am a Catholic taught in parochial elementary...</td>\n",
              "      <td>negative</td>\n",
              "    </tr>\n",
              "    <tr>\n",
              "      <th>49998</th>\n",
              "      <td>I'm going to have to disagree with the previou...</td>\n",
              "      <td>negative</td>\n",
              "    </tr>\n",
              "    <tr>\n",
              "      <th>49999</th>\n",
              "      <td>No one expects the Star Trek movies to be high...</td>\n",
              "      <td>negative</td>\n",
              "    </tr>\n",
              "  </tbody>\n",
              "</table>\n",
              "</div>\n",
              "      <button class=\"colab-df-convert\" onclick=\"convertToInteractive('df-baca516e-2bf9-44a4-a619-b19b7f5ae08a')\"\n",
              "              title=\"Convert this dataframe to an interactive table.\"\n",
              "              style=\"display:none;\">\n",
              "        \n",
              "  <svg xmlns=\"http://www.w3.org/2000/svg\" height=\"24px\"viewBox=\"0 0 24 24\"\n",
              "       width=\"24px\">\n",
              "    <path d=\"M0 0h24v24H0V0z\" fill=\"none\"/>\n",
              "    <path d=\"M18.56 5.44l.94 2.06.94-2.06 2.06-.94-2.06-.94-.94-2.06-.94 2.06-2.06.94zm-11 1L8.5 8.5l.94-2.06 2.06-.94-2.06-.94L8.5 2.5l-.94 2.06-2.06.94zm10 10l.94 2.06.94-2.06 2.06-.94-2.06-.94-.94-2.06-.94 2.06-2.06.94z\"/><path d=\"M17.41 7.96l-1.37-1.37c-.4-.4-.92-.59-1.43-.59-.52 0-1.04.2-1.43.59L10.3 9.45l-7.72 7.72c-.78.78-.78 2.05 0 2.83L4 21.41c.39.39.9.59 1.41.59.51 0 1.02-.2 1.41-.59l7.78-7.78 2.81-2.81c.8-.78.8-2.07 0-2.86zM5.41 20L4 18.59l7.72-7.72 1.47 1.35L5.41 20z\"/>\n",
              "  </svg>\n",
              "      </button>\n",
              "      \n",
              "  <style>\n",
              "    .colab-df-container {\n",
              "      display:flex;\n",
              "      flex-wrap:wrap;\n",
              "      gap: 12px;\n",
              "    }\n",
              "\n",
              "    .colab-df-convert {\n",
              "      background-color: #E8F0FE;\n",
              "      border: none;\n",
              "      border-radius: 50%;\n",
              "      cursor: pointer;\n",
              "      display: none;\n",
              "      fill: #1967D2;\n",
              "      height: 32px;\n",
              "      padding: 0 0 0 0;\n",
              "      width: 32px;\n",
              "    }\n",
              "\n",
              "    .colab-df-convert:hover {\n",
              "      background-color: #E2EBFA;\n",
              "      box-shadow: 0px 1px 2px rgba(60, 64, 67, 0.3), 0px 1px 3px 1px rgba(60, 64, 67, 0.15);\n",
              "      fill: #174EA6;\n",
              "    }\n",
              "\n",
              "    [theme=dark] .colab-df-convert {\n",
              "      background-color: #3B4455;\n",
              "      fill: #D2E3FC;\n",
              "    }\n",
              "\n",
              "    [theme=dark] .colab-df-convert:hover {\n",
              "      background-color: #434B5C;\n",
              "      box-shadow: 0px 1px 3px 1px rgba(0, 0, 0, 0.15);\n",
              "      filter: drop-shadow(0px 1px 2px rgba(0, 0, 0, 0.3));\n",
              "      fill: #FFFFFF;\n",
              "    }\n",
              "  </style>\n",
              "\n",
              "      <script>\n",
              "        const buttonEl =\n",
              "          document.querySelector('#df-baca516e-2bf9-44a4-a619-b19b7f5ae08a button.colab-df-convert');\n",
              "        buttonEl.style.display =\n",
              "          google.colab.kernel.accessAllowed ? 'block' : 'none';\n",
              "\n",
              "        async function convertToInteractive(key) {\n",
              "          const element = document.querySelector('#df-baca516e-2bf9-44a4-a619-b19b7f5ae08a');\n",
              "          const dataTable =\n",
              "            await google.colab.kernel.invokeFunction('convertToInteractive',\n",
              "                                                     [key], {});\n",
              "          if (!dataTable) return;\n",
              "\n",
              "          const docLinkHtml = 'Like what you see? Visit the ' +\n",
              "            '<a target=\"_blank\" href=https://colab.research.google.com/notebooks/data_table.ipynb>data table notebook</a>'\n",
              "            + ' to learn more about interactive tables.';\n",
              "          element.innerHTML = '';\n",
              "          dataTable['output_type'] = 'display_data';\n",
              "          await google.colab.output.renderOutput(dataTable, element);\n",
              "          const docLink = document.createElement('div');\n",
              "          docLink.innerHTML = docLinkHtml;\n",
              "          element.appendChild(docLink);\n",
              "        }\n",
              "      </script>\n",
              "    </div>\n",
              "  </div>\n",
              "  "
            ]
          },
          "metadata": {},
          "execution_count": 5
        }
      ]
    },
    {
      "cell_type": "code",
      "source": [
        "# Смотрим на размерность нашего датасета\n",
        "data.shape"
      ],
      "metadata": {
        "colab": {
          "base_uri": "https://localhost:8080/"
        },
        "id": "uTUtZ9N_yFju",
        "outputId": "61e03c11-44ec-4e56-9d59-a68c3582c398"
      },
      "execution_count": 6,
      "outputs": [
        {
          "output_type": "execute_result",
          "data": {
            "text/plain": [
              "(50000, 2)"
            ]
          },
          "metadata": {},
          "execution_count": 6
        }
      ]
    },
    {
      "cell_type": "code",
      "source": [
        "# Смотрим на распределение классов целевого значения \n",
        "data.sentiment.value_counts()"
      ],
      "metadata": {
        "colab": {
          "base_uri": "https://localhost:8080/"
        },
        "id": "Fq__oap8yHPi",
        "outputId": "532dee08-a3ca-490a-fe7e-489aa68fdd36"
      },
      "execution_count": 7,
      "outputs": [
        {
          "output_type": "execute_result",
          "data": {
            "text/plain": [
              "positive    25000\n",
              "negative    25000\n",
              "Name: sentiment, dtype: int64"
            ]
          },
          "metadata": {},
          "execution_count": 7
        }
      ]
    },
    {
      "cell_type": "code",
      "source": [
        "# Проверяем пропущенные значения\n",
        "data.isna().sum()"
      ],
      "metadata": {
        "colab": {
          "base_uri": "https://localhost:8080/"
        },
        "id": "F2kBzRJGyJGE",
        "outputId": "cb382b90-e512-4b43-a1b0-28efb11b3a59"
      },
      "execution_count": 8,
      "outputs": [
        {
          "output_type": "execute_result",
          "data": {
            "text/plain": [
              "review       0\n",
              "sentiment    0\n",
              "dtype: int64"
            ]
          },
          "metadata": {},
          "execution_count": 8
        }
      ]
    },
    {
      "cell_type": "code",
      "source": [
        "# Проверим, если повторяющиеся значения\n",
        "(data\n",
        " .duplicated(keep='last')\n",
        " .sum())"
      ],
      "metadata": {
        "colab": {
          "base_uri": "https://localhost:8080/"
        },
        "id": "H2w7pX09yLRt",
        "outputId": "c959b012-fc69-41a6-b865-c393de757acd"
      },
      "execution_count": 9,
      "outputs": [
        {
          "output_type": "execute_result",
          "data": {
            "text/plain": [
              "418"
            ]
          },
          "metadata": {},
          "execution_count": 9
        }
      ]
    },
    {
      "cell_type": "code",
      "source": [
        "# Удаление дубликатов\n",
        "data.drop_duplicates(keep='first', inplace=True)"
      ],
      "metadata": {
        "id": "s-EK4jyUAag1"
      },
      "execution_count": 10,
      "outputs": []
    },
    {
      "cell_type": "markdown",
      "source": [
        "### Предобработка"
      ],
      "metadata": {
        "id": "_QRzkH8Py4P9"
      }
    },
    {
      "cell_type": "code",
      "source": [
        "mapping = {\"ain't\": \"is not\", \"aren't\": \"are not\",\"can't\": \"cannot\", \n",
        "           \"'cause\": \"because\", \"could've\": \"could have\", \"couldn't\": \"could not\", \n",
        "           \"didn't\": \"did not\",  \"doesn't\": \"does not\", \"don't\": \"do not\", \"hadn't\": \"had not\", \n",
        "           \"hasn't\": \"has not\", \"haven't\": \"have not\", \"he'd\": \"he would\",\"he'll\": \"he will\", \n",
        "           \"he's\": \"he is\", \"how'd\": \"how did\", \"how'd'y\": \"how do you\", \"how'll\": \"how will\", \n",
        "           \"how's\": \"how is\",  \"I'd\": \"I would\", \"I'd've\": \"I would have\", \"I'll\": \"I will\", \n",
        "           \"I'll've\": \"I will have\",\"I'm\": \"I am\", \"I've\": \"I have\", \"i'd\": \"i would\", \n",
        "           \"i'd've\": \"i would have\", \"i'll\": \"i will\",  \"i'll've\": \"i will have\",\n",
        "           \"i'm\": \"i am\", \"i've\": \"i have\", \"isn't\": \"is not\", \"it'd\": \"it would\", \n",
        "           \"it'd've\": \"it would have\", \"it'll\": \"it will\", \"it'll've\": \"it will have\",\n",
        "           \"it's\": \"it is\", \"let's\": \"let us\", \"ma'am\": \"madam\", \"mayn't\": \"may not\", \n",
        "           \"might've\": \"might have\",\"mightn't\": \"might not\",\"mightn't've\": \"might not have\", \n",
        "           \"must've\": \"must have\", \"mustn't\": \"must not\", \"mustn't've\": \"must not have\", \n",
        "           \"needn't\": \"need not\", \"needn't've\": \"need not have\",\"o'clock\": \"of the clock\", \n",
        "           \"oughtn't\": \"ought not\", \"oughtn't've\": \"ought not have\", \"shan't\": \"shall not\", \n",
        "           \"sha'n't\": \"shall not\", \"shan't've\": \"shall not have\", \"she'd\": \"she would\", \n",
        "           \"she'd've\": \"she would have\", \"she'll\": \"she will\", \"she'll've\": \"she will have\", \n",
        "           \"she's\": \"she is\", \"should've\": \"should have\", \"shouldn't\": \"should not\", \n",
        "           \"shouldn't've\": \"should not have\", \"so've\": \"so have\",\"so's\": \"so as\", \"this's\": \"this is\",\n",
        "           \"that'd\": \"that would\", \"that'd've\": \"that would have\", \"that's\": \"that is\", \n",
        "           \"there'd\": \"there would\", \"there'd've\": \"there would have\", \"there's\": \"there is\", \n",
        "           \"here's\": \"here is\",\"they'd\": \"they would\", \"they'd've\": \"they would have\", \n",
        "           \"they'll\": \"they will\", \"they'll've\": \"they will have\", \"they're\": \"they are\", \n",
        "           \"they've\": \"they have\", \"to've\": \"to have\", \"wasn't\": \"was not\", \"we'd\": \"we would\", \n",
        "           \"we'd've\": \"we would have\", \"we'll\": \"we will\", \"we'll've\": \"we will have\", \n",
        "           \"we're\": \"we are\", \"we've\": \"we have\", \"weren't\": \"were not\", \n",
        "           \"what'll\": \"what will\", \"what'll've\": \"what will have\",\"what're\": \"what are\",  \n",
        "           \"what's\": \"what is\", \"what've\": \"what have\", \"when's\": \"when is\", \"when've\": \"when have\", \n",
        "           \"where'd\": \"where did\", \"where's\": \"where is\", \"where've\": \"where have\", \"who'll\": \"who will\", \n",
        "           \"who'll've\": \"who will have\", \"who's\": \"who is\", \"who've\": \"who have\", \"why's\": \"why is\", \n",
        "           \"why've\": \"why have\", \"will've\": \"will have\", \"won't\": \"will not\", \"won't've\": \"will not have\", \n",
        "           \"would've\": \"would have\", \"wouldn't\": \"would not\", \"wouldn't've\": \"would not have\", \n",
        "           \"y'all\": \"you all\", \"y'all'd\": \"you all would\",\"y'all'd've\": \"you all would have\",\n",
        "           \"y'all're\": \"you all are\",\"y'all've\": \"you all have\",\"you'd\": \"you would\", \n",
        "           \"you'd've\": \"you would have\", \"you'll\": \"you will\", \"you'll've\": \"you will have\", \n",
        "           \"you're\": \"you are\", \"you've\": \"you have\" }\n",
        "\n",
        "#Spacy lemmatization\n",
        "spacy_model = spacy.load(\"en_core_web_sm\", disable = ['parser','ner'])"
      ],
      "metadata": {
        "id": "UAr9m2Mu0HFy"
      },
      "execution_count": 16,
      "outputs": []
    },
    {
      "cell_type": "code",
      "source": [
        "t = \"you'reu\"\n",
        "mapping.get(t,t)"
      ],
      "metadata": {
        "colab": {
          "base_uri": "https://localhost:8080/",
          "height": 37
        },
        "id": "mXVavX8W0ldB",
        "outputId": "096a26ca-70aa-4d4c-c262-4cdbe0e6dd1e"
      },
      "execution_count": 13,
      "outputs": [
        {
          "output_type": "execute_result",
          "data": {
            "text/plain": [
              "\"you'reu\""
            ],
            "application/vnd.google.colaboratory.intrinsic+json": {
              "type": "string"
            }
          },
          "metadata": {},
          "execution_count": 13
        }
      ]
    },
    {
      "cell_type": "code",
      "source": [
        "def preprocess_text(text):\n",
        "  text = remove_tags(text)\n",
        "  text = text.lower()\n",
        "  text = text = ' '.join([mapping.get(t,t) for t in text.split(\" \")]) #Заменяем разгвоворные обороты речи\n",
        "  text = re.sub(\"[^a-z]\", \" \", text)\n",
        "  text = re.sub(r\"\\s+\", ' ', text)\n",
        "  doc = spacy_model(text)\n",
        "  text = \" \".join([token.lemma_ for token in doc if not token.is_stop])\n",
        "  return text"
      ],
      "metadata": {
        "id": "7VSdfsPCBPNN"
      },
      "execution_count": 30,
      "outputs": []
    },
    {
      "cell_type": "code",
      "source": [
        "HTML(preprocess_text(data.review.iloc[1]))"
      ],
      "metadata": {
        "colab": {
          "base_uri": "https://localhost:8080/",
          "height": 68
        },
        "id": "3qxpSAzLBnKU",
        "outputId": "c7869090-2edb-47a2-92f9-3bf365919652"
      },
      "execution_count": 31,
      "outputs": [
        {
          "output_type": "execute_result",
          "data": {
            "text/plain": [
              "<IPython.core.display.HTML object>"
            ],
            "text/html": [
              "wonderful little production film technique unassuming old time bbc fashion give comforting discomforte sense realism entire piece actor extremely choose michael sheen get polari voice pat truly seamless editing guide reference williams diary entry worth watching terrificly write perform piece masterful production great master s comedy life realism come home little thing fantasy guard use traditional dream technique remain solid disappear play knowledge sense particularly scene concern orton halliwell set particularly flat halliwell s mural decorate surface terribly"
            ]
          },
          "metadata": {},
          "execution_count": 31
        }
      ]
    },
    {
      "cell_type": "code",
      "source": [
        "data[\"clean_review\"] = data.review.apply(preprocess_text)\n",
        "data.to_csv(\"./data/dataset_clean_4\", index = False)"
      ],
      "metadata": {
        "id": "F3rrdfu2GTcR"
      },
      "execution_count": 32,
      "outputs": []
    },
    {
      "cell_type": "markdown",
      "source": [
        "### Последующий обзор данных"
      ],
      "metadata": {
        "id": "T3UsmK195VXa"
      }
    },
    {
      "cell_type": "code",
      "source": [
        "cdata = pd.read_csv(\"./data/dataset_clean_4\")\n",
        "cdata.sentiment = cdata.sentiment.map({\"positive\": 1,\n",
        "                                       \"negative\": 0})\n",
        "cdata = cdata.iloc[:, [0, 2, 1]]\n",
        "cdata.head()"
      ],
      "metadata": {
        "colab": {
          "base_uri": "https://localhost:8080/",
          "height": 204
        },
        "id": "_wo71CBcKdyX",
        "outputId": "5da7bb20-7831-4d38-ac3f-2bce8015b32c"
      },
      "execution_count": 5,
      "outputs": [
        {
          "output_type": "execute_result",
          "data": {
            "text/plain": [
              "                                              review  \\\n",
              "0  One of the other reviewers has mentioned that ...   \n",
              "1  A wonderful little production. <br /><br />The...   \n",
              "2  I thought this was a wonderful way to spend ti...   \n",
              "3  Basically there's a family where a little boy ...   \n",
              "4  Petter Mattei's \"Love in the Time of Money\" is...   \n",
              "\n",
              "                                        clean_review  sentiment  \n",
              "0  reviewer mention watch oz episode hook right e...          1  \n",
              "1  wonderful little production film technique una...          1  \n",
              "2  think wonderful way spend time hot summer week...          1  \n",
              "3  basically family little boy jake think zombie ...          0  \n",
              "4  petter mattei s love time money visually stunn...          1  "
            ],
            "text/html": [
              "\n",
              "  <div id=\"df-bedf1a9b-0e9c-4944-b458-ac9f938b8558\">\n",
              "    <div class=\"colab-df-container\">\n",
              "      <div>\n",
              "<style scoped>\n",
              "    .dataframe tbody tr th:only-of-type {\n",
              "        vertical-align: middle;\n",
              "    }\n",
              "\n",
              "    .dataframe tbody tr th {\n",
              "        vertical-align: top;\n",
              "    }\n",
              "\n",
              "    .dataframe thead th {\n",
              "        text-align: right;\n",
              "    }\n",
              "</style>\n",
              "<table border=\"1\" class=\"dataframe\">\n",
              "  <thead>\n",
              "    <tr style=\"text-align: right;\">\n",
              "      <th></th>\n",
              "      <th>review</th>\n",
              "      <th>clean_review</th>\n",
              "      <th>sentiment</th>\n",
              "    </tr>\n",
              "  </thead>\n",
              "  <tbody>\n",
              "    <tr>\n",
              "      <th>0</th>\n",
              "      <td>One of the other reviewers has mentioned that ...</td>\n",
              "      <td>reviewer mention watch oz episode hook right e...</td>\n",
              "      <td>1</td>\n",
              "    </tr>\n",
              "    <tr>\n",
              "      <th>1</th>\n",
              "      <td>A wonderful little production. &lt;br /&gt;&lt;br /&gt;The...</td>\n",
              "      <td>wonderful little production film technique una...</td>\n",
              "      <td>1</td>\n",
              "    </tr>\n",
              "    <tr>\n",
              "      <th>2</th>\n",
              "      <td>I thought this was a wonderful way to spend ti...</td>\n",
              "      <td>think wonderful way spend time hot summer week...</td>\n",
              "      <td>1</td>\n",
              "    </tr>\n",
              "    <tr>\n",
              "      <th>3</th>\n",
              "      <td>Basically there's a family where a little boy ...</td>\n",
              "      <td>basically family little boy jake think zombie ...</td>\n",
              "      <td>0</td>\n",
              "    </tr>\n",
              "    <tr>\n",
              "      <th>4</th>\n",
              "      <td>Petter Mattei's \"Love in the Time of Money\" is...</td>\n",
              "      <td>petter mattei s love time money visually stunn...</td>\n",
              "      <td>1</td>\n",
              "    </tr>\n",
              "  </tbody>\n",
              "</table>\n",
              "</div>\n",
              "      <button class=\"colab-df-convert\" onclick=\"convertToInteractive('df-bedf1a9b-0e9c-4944-b458-ac9f938b8558')\"\n",
              "              title=\"Convert this dataframe to an interactive table.\"\n",
              "              style=\"display:none;\">\n",
              "        \n",
              "  <svg xmlns=\"http://www.w3.org/2000/svg\" height=\"24px\"viewBox=\"0 0 24 24\"\n",
              "       width=\"24px\">\n",
              "    <path d=\"M0 0h24v24H0V0z\" fill=\"none\"/>\n",
              "    <path d=\"M18.56 5.44l.94 2.06.94-2.06 2.06-.94-2.06-.94-.94-2.06-.94 2.06-2.06.94zm-11 1L8.5 8.5l.94-2.06 2.06-.94-2.06-.94L8.5 2.5l-.94 2.06-2.06.94zm10 10l.94 2.06.94-2.06 2.06-.94-2.06-.94-.94-2.06-.94 2.06-2.06.94z\"/><path d=\"M17.41 7.96l-1.37-1.37c-.4-.4-.92-.59-1.43-.59-.52 0-1.04.2-1.43.59L10.3 9.45l-7.72 7.72c-.78.78-.78 2.05 0 2.83L4 21.41c.39.39.9.59 1.41.59.51 0 1.02-.2 1.41-.59l7.78-7.78 2.81-2.81c.8-.78.8-2.07 0-2.86zM5.41 20L4 18.59l7.72-7.72 1.47 1.35L5.41 20z\"/>\n",
              "  </svg>\n",
              "      </button>\n",
              "      \n",
              "  <style>\n",
              "    .colab-df-container {\n",
              "      display:flex;\n",
              "      flex-wrap:wrap;\n",
              "      gap: 12px;\n",
              "    }\n",
              "\n",
              "    .colab-df-convert {\n",
              "      background-color: #E8F0FE;\n",
              "      border: none;\n",
              "      border-radius: 50%;\n",
              "      cursor: pointer;\n",
              "      display: none;\n",
              "      fill: #1967D2;\n",
              "      height: 32px;\n",
              "      padding: 0 0 0 0;\n",
              "      width: 32px;\n",
              "    }\n",
              "\n",
              "    .colab-df-convert:hover {\n",
              "      background-color: #E2EBFA;\n",
              "      box-shadow: 0px 1px 2px rgba(60, 64, 67, 0.3), 0px 1px 3px 1px rgba(60, 64, 67, 0.15);\n",
              "      fill: #174EA6;\n",
              "    }\n",
              "\n",
              "    [theme=dark] .colab-df-convert {\n",
              "      background-color: #3B4455;\n",
              "      fill: #D2E3FC;\n",
              "    }\n",
              "\n",
              "    [theme=dark] .colab-df-convert:hover {\n",
              "      background-color: #434B5C;\n",
              "      box-shadow: 0px 1px 3px 1px rgba(0, 0, 0, 0.15);\n",
              "      filter: drop-shadow(0px 1px 2px rgba(0, 0, 0, 0.3));\n",
              "      fill: #FFFFFF;\n",
              "    }\n",
              "  </style>\n",
              "\n",
              "      <script>\n",
              "        const buttonEl =\n",
              "          document.querySelector('#df-bedf1a9b-0e9c-4944-b458-ac9f938b8558 button.colab-df-convert');\n",
              "        buttonEl.style.display =\n",
              "          google.colab.kernel.accessAllowed ? 'block' : 'none';\n",
              "\n",
              "        async function convertToInteractive(key) {\n",
              "          const element = document.querySelector('#df-bedf1a9b-0e9c-4944-b458-ac9f938b8558');\n",
              "          const dataTable =\n",
              "            await google.colab.kernel.invokeFunction('convertToInteractive',\n",
              "                                                     [key], {});\n",
              "          if (!dataTable) return;\n",
              "\n",
              "          const docLinkHtml = 'Like what you see? Visit the ' +\n",
              "            '<a target=\"_blank\" href=https://colab.research.google.com/notebooks/data_table.ipynb>data table notebook</a>'\n",
              "            + ' to learn more about interactive tables.';\n",
              "          element.innerHTML = '';\n",
              "          dataTable['output_type'] = 'display_data';\n",
              "          await google.colab.output.renderOutput(dataTable, element);\n",
              "          const docLink = document.createElement('div');\n",
              "          docLink.innerHTML = docLinkHtml;\n",
              "          element.appendChild(docLink);\n",
              "        }\n",
              "      </script>\n",
              "    </div>\n",
              "  </div>\n",
              "  "
            ]
          },
          "metadata": {},
          "execution_count": 5
        }
      ]
    },
    {
      "cell_type": "code",
      "source": [
        "HTML(cdata.review.iloc[1])"
      ],
      "metadata": {
        "colab": {
          "base_uri": "https://localhost:8080/",
          "height": 170
        },
        "id": "5NWdS_ND5wKJ",
        "outputId": "b30ea4ed-9ca0-4b24-c378-e6ad6e3246cf"
      },
      "execution_count": 36,
      "outputs": [
        {
          "output_type": "execute_result",
          "data": {
            "text/plain": [
              "<IPython.core.display.HTML object>"
            ],
            "text/html": [
              "A wonderful little production. <br /><br />The filming technique is very unassuming- very old-time-BBC fashion and gives a comforting, and sometimes discomforting, sense of realism to the entire piece. <br /><br />The actors are extremely well chosen- Michael Sheen not only \"has got all the polari\" but he has all the voices down pat too! You can truly see the seamless editing guided by the references to Williams' diary entries, not only is it well worth the watching but it is a terrificly written and performed piece. A masterful production about one of the great master's of comedy and his life. <br /><br />The realism really comes home with the little things: the fantasy of the guard which, rather than use the traditional 'dream' techniques remains solid then disappears. It plays on our knowledge and our senses, particularly with the scenes concerning Orton and Halliwell and the sets (particularly of their flat with Halliwell's murals decorating every surface) are terribly well done."
            ]
          },
          "metadata": {},
          "execution_count": 36
        }
      ]
    },
    {
      "cell_type": "code",
      "source": [
        "HTML(cdata.clean_review.iloc[1])"
      ],
      "metadata": {
        "colab": {
          "base_uri": "https://localhost:8080/",
          "height": 68
        },
        "id": "EJkJXoAH6dU8",
        "outputId": "d69d63d5-cb08-4e19-8ad5-f98f626cc781"
      },
      "execution_count": 37,
      "outputs": [
        {
          "output_type": "execute_result",
          "data": {
            "text/plain": [
              "<IPython.core.display.HTML object>"
            ],
            "text/html": [
              "wonderful little production film technique unassuming old time bbc fashion give comforting discomforte sense realism entire piece actor extremely choose michael sheen get polari voice pat truly seamless editing guide reference williams diary entry worth watching terrificly write perform piece masterful production great master s comedy life realism come home little thing fantasy guard use traditional dream technique remain solid disappear play knowledge sense particularly scene concern orton halliwell set particularly flat halliwell s mural decorate surface terribly"
            ]
          },
          "metadata": {},
          "execution_count": 37
        }
      ]
    },
    {
      "cell_type": "code",
      "source": [
        "cdata.drop(\"review\", axis=1, inplace=True)"
      ],
      "metadata": {
        "id": "RPLKpf_87Kdi"
      },
      "execution_count": 38,
      "outputs": []
    },
    {
      "cell_type": "code",
      "source": [
        "cdata.clean_review.str.split().apply(lambda x: len(x)).plot.hist(bins=30)"
      ],
      "metadata": {
        "colab": {
          "base_uri": "https://localhost:8080/",
          "height": 282
        },
        "id": "UGbD8DUBKoBW",
        "outputId": "8ad00b04-f7ad-42ff-e3f1-6d0c0141f269"
      },
      "execution_count": 40,
      "outputs": [
        {
          "output_type": "execute_result",
          "data": {
            "text/plain": [
              "<matplotlib.axes._subplots.AxesSubplot at 0x7f079ed019a0>"
            ]
          },
          "metadata": {},
          "execution_count": 40
        },
        {
          "output_type": "display_data",
          "data": {
            "text/plain": [
              "<Figure size 432x288 with 1 Axes>"
            ],
            "image/png": "[encoded data removed]"
          },
          "metadata": {
            "needs_background": "light"
          }
        }
      ]
    },
    {
      "cell_type": "code",
      "source": [
        "# Распределение количества слов в отзыве\n",
        "scale = 0.5\n",
        "fig, ax = plt.subplots(figsize=(30*scale,15*scale))\n",
        "sns.histplot(cdata.clean_review.str.split().apply(lambda x: len(x)).tolist(), ax=ax)\n",
        "ax.set_xlabel('Number of words per review')\n",
        "plt.show()"
      ],
      "metadata": {
        "colab": {
          "base_uri": "https://localhost:8080/",
          "height": 470
        },
        "id": "KNzYsE3Q7eVr",
        "outputId": "d430fbb0-d38a-4feb-d734-4da14a258514"
      },
      "execution_count": 46,
      "outputs": [
        {
          "output_type": "display_data",
          "data": {
            "text/plain": [
              "<Figure size 1080x540 with 1 Axes>"
            ],
            "image/png": "[encoded data removed]"
          },
          "metadata": {
            "needs_background": "light"
          }
        }
      ]
    },
    {
      "cell_type": "code",
      "source": [
        "rev_len = cdata.clean_review.str.split().apply(lambda x: len(x))\n",
        "rev_len.describe()"
      ],
      "metadata": {
        "colab": {
          "base_uri": "https://localhost:8080/"
        },
        "id": "TSpE8wYm9TPd",
        "outputId": "f4017912-54c0-47a1-b1a3-d9b72fba8650"
      },
      "execution_count": 48,
      "outputs": [
        {
          "output_type": "execute_result",
          "data": {
            "text/plain": [
              "count    49582.000000\n",
              "mean       104.595519\n",
              "std         80.630538\n",
              "min          3.000000\n",
              "25%         55.000000\n",
              "50%         77.000000\n",
              "75%        127.000000\n",
              "max       1310.000000\n",
              "Name: clean_review, dtype: float64"
            ]
          },
          "metadata": {},
          "execution_count": 48
        }
      ]
    },
    {
      "cell_type": "code",
      "source": [
        "def get_ngrams(review, n, g):\n",
        "    vec = CountVectorizer(ngram_range=(g, g)).fit(review)\n",
        "    bag_of_words = vec.transform(review) #sparse matrix of count_vectorizer\n",
        "    sum_words = bag_of_words.sum(axis=0) #total number of words\n",
        "    sum_words = np.array(sum_words)[0].tolist() #convert to list\n",
        "    words_freq = [(word, sum_words[idx]) for word, idx in vec.vocabulary_.items()] #get word freqency for word location in count vec\n",
        "    words_freq =sorted(words_freq, key = lambda x: x[1], reverse=True) #key is used to perform sorting using word_freqency \n",
        "    return words_freq[:n]"
      ],
      "metadata": {
        "id": "_gBksFJz919Q"
      },
      "execution_count": 49,
      "outputs": []
    },
    {
      "cell_type": "code",
      "source": [
        "pos_data = cdata[cdata.sentiment==1].clean_review\n",
        "neg_data = cdata[cdata.sentiment==0].clean_review"
      ],
      "metadata": {
        "id": "8HU7rbvhAFce"
      },
      "execution_count": 51,
      "outputs": []
    },
    {
      "cell_type": "code",
      "source": [
        "#unigrams\n",
        "scale = 0.5\n",
        "fig,(ax1,ax2)=plt.subplots(1,2,figsize=(30*scale,15*scale))\n",
        "uni_positive = get_ngrams(pos_data,20,1)\n",
        "uni_positive = dict(uni_positive)\n",
        "temp = pd.DataFrame(list(uni_positive.items()), columns = [\"Common_words\" , 'Count'])\n",
        "sns.barplot(data = temp, x=\"Count\", y=\"Common_words\", orient='h',ax = ax1)\n",
        "ax1.set_title('Positive reviews')\n",
        "uni_negative = get_ngrams(neg_data,20,1)\n",
        "uni_negative = dict(uni_negative)\n",
        "temp = pd.DataFrame(list(uni_negative.items()), columns = [\"Common_words\" , 'Count'])\n",
        "sns.barplot(data = temp, x=\"Count\", y=\"Common_words\", orient='h',ax = ax2)\n",
        "ax2.set_title('Negative reviews')\n",
        "fig.suptitle('Unigram analysis for positive and negative reviews')\n",
        "plt.show()"
      ],
      "metadata": {
        "colab": {
          "base_uri": "https://localhost:8080/",
          "height": 524
        },
        "id": "1Uv2MNDG9_W8",
        "outputId": "bf0e1a2d-112a-435f-e28c-d7311b788b7a"
      },
      "execution_count": 52,
      "outputs": [
        {
          "output_type": "display_data",
          "data": {
            "text/plain": [
              "<Figure size 1080x540 with 2 Axes>"
            ],
            "image/png": "[encoded data removed]"
          },
          "metadata": {
            "needs_background": "light"
          }
        }
      ]
    },
    {
      "cell_type": "code",
      "source": [
        "# bigrams\n",
        "fig,(ax1,ax2)=plt.subplots(1,2,figsize=(30*scale,15*scale))\n",
        "bi_positive = get_ngrams(pos_data,20,2)\n",
        "bi_positive = dict(bi_positive)\n",
        "temp = pd.DataFrame(list(bi_positive.items()), columns = [\"Common_words\" , 'Count'])\n",
        "sns.barplot(data = temp, x=\"Count\", y=\"Common_words\", orient='h',ax = ax1)\n",
        "ax1.set_title('Positive reviews')\n",
        "bi_negative = get_ngrams(neg_data,20,2)\n",
        "bi_negative = dict(bi_negative)\n",
        "temp = pd.DataFrame(list(bi_negative.items()), columns = [\"Common_words\" , 'Count'])\n",
        "sns.barplot(data = temp, x=\"Count\", y=\"Common_words\", orient='h',ax = ax2)\n",
        "ax2.set_title('Negative reviews')\n",
        "fig.suptitle('Bigram analysis for positive and negative reviews')\n",
        "plt.show()"
      ],
      "metadata": {
        "colab": {
          "base_uri": "https://localhost:8080/",
          "height": 524
        },
        "id": "zTTp6zAYAV0i",
        "outputId": "a8d88b77-2c21-4e43-a65f-6ffaf6402461"
      },
      "execution_count": 53,
      "outputs": [
        {
          "output_type": "display_data",
          "data": {
            "text/plain": [
              "<Figure size 1080x540 with 2 Axes>"
            ],
            "image/png": "[encoded data removed]"
          },
          "metadata": {
            "needs_background": "light"
          }
        }
      ]
    },
    {
      "cell_type": "code",
      "source": [
        "# Trigrams\n",
        "scale = 0.7\n",
        "fig,(ax1,ax2)=plt.subplots(1,2,figsize=(30*scale,15*scale))\n",
        "tri_positive = get_ngrams(pos_data,20,3)\n",
        "tri_positive = dict(tri_positive)\n",
        "temp = pd.DataFrame(list(tri_positive.items()), columns = [\"Common_words\" , 'Count'])\n",
        "sns.barplot(data = temp, x=\"Count\", y=\"Common_words\", orient='h',ax = ax1)\n",
        "ax1.set_title('Positive reviews')\n",
        "tri_negative = get_ngrams(neg_data,20,3)\n",
        "tri_negative = dict(tri_negative)\n",
        "temp = pd.DataFrame(list(tri_negative.items()), columns = [\"Common_words\" , 'Count'])\n",
        "sns.barplot(data = temp, x=\"Count\", y=\"Common_words\", orient='h',ax = ax2)\n",
        "ax2.set_title('Negative reviews')\n",
        "fig.suptitle('Trigram analysis for positive and negative reviews')\n",
        "plt.show()"
      ],
      "metadata": {
        "colab": {
          "base_uri": "https://localhost:8080/",
          "height": 708
        },
        "id": "upWQBpg4AX7d",
        "outputId": "14ef6683-f422-48f7-cf17-e21dbb67d037"
      },
      "execution_count": 58,
      "outputs": [
        {
          "output_type": "display_data",
          "data": {
            "text/plain": [
              "<Figure size 1512x756 with 2 Axes>"
            ],
            "image/png": "[encoded data removed]"
          },
          "metadata": {
            "needs_background": "light"
          }
        }
      ]
    },
    {
      "cell_type": "markdown",
      "source": [
        "## ML"
      ],
      "metadata": {
        "id": "mwjh6ZaQJjVJ"
      }
    },
    {
      "cell_type": "code",
      "source": [
        "#splitting into train and test\n",
        "train, test= train_test_split(cdata, test_size=0.3, random_state=42)\n",
        "Xtrain, ytrain = train['clean_review'], train['sentiment']\n",
        "Xtest, ytest = test['clean_review'], test['sentiment']"
      ],
      "metadata": {
        "id": "W6sD1A9OiLFL"
      },
      "execution_count": 6,
      "outputs": []
    },
    {
      "cell_type": "code",
      "source": [
        "#Vectorizing data\n",
        "\n",
        "tfidf_vect = TfidfVectorizer() #tfidfVectorizer\n",
        "Xtrain_tfidf = tfidf_vect.fit_transform(Xtrain)\n",
        "Xtest_tfidf = tfidf_vect.transform(Xtest)\n",
        "\n",
        "\n",
        "count_vect = CountVectorizer() # CountVectorizer\n",
        "Xtrain_count = count_vect.fit_transform(Xtrain)\n",
        "Xtest_count = count_vect.transform(Xtest)"
      ],
      "metadata": {
        "id": "tka5hSd2Jlrm"
      },
      "execution_count": 6,
      "outputs": []
    },
    {
      "cell_type": "code",
      "source": [
        "res = pd.DataFrame({\"Model\": [], \"Accuracy\": []})\n",
        "res"
      ],
      "metadata": {
        "colab": {
          "base_uri": "https://localhost:8080/",
          "height": 49
        },
        "id": "GOTQPcgpTG70",
        "outputId": "a45cf47e-76fb-4562-9848-7b8b5808935c"
      },
      "execution_count": 63,
      "outputs": [
        {
          "output_type": "execute_result",
          "data": {
            "text/plain": [
              "Empty DataFrame\n",
              "Columns: [Model, Accuracy]\n",
              "Index: []"
            ],
            "text/html": [
              "\n",
              "  <div id=\"df-fb959f81-589d-40c0-afa9-1a955d84ce04\">\n",
              "    <div class=\"colab-df-container\">\n",
              "      <div>\n",
              "<style scoped>\n",
              "    .dataframe tbody tr th:only-of-type {\n",
              "        vertical-align: middle;\n",
              "    }\n",
              "\n",
              "    .dataframe tbody tr th {\n",
              "        vertical-align: top;\n",
              "    }\n",
              "\n",
              "    .dataframe thead th {\n",
              "        text-align: right;\n",
              "    }\n",
              "</style>\n",
              "<table border=\"1\" class=\"dataframe\">\n",
              "  <thead>\n",
              "    <tr style=\"text-align: right;\">\n",
              "      <th></th>\n",
              "      <th>Model</th>\n",
              "      <th>Accuracy</th>\n",
              "    </tr>\n",
              "  </thead>\n",
              "  <tbody>\n",
              "  </tbody>\n",
              "</table>\n",
              "</div>\n",
              "      <button class=\"colab-df-convert\" onclick=\"convertToInteractive('df-fb959f81-589d-40c0-afa9-1a955d84ce04')\"\n",
              "              title=\"Convert this dataframe to an interactive table.\"\n",
              "              style=\"display:none;\">\n",
              "        \n",
              "  <svg xmlns=\"http://www.w3.org/2000/svg\" height=\"24px\"viewBox=\"0 0 24 24\"\n",
              "       width=\"24px\">\n",
              "    <path d=\"M0 0h24v24H0V0z\" fill=\"none\"/>\n",
              "    <path d=\"M18.56 5.44l.94 2.06.94-2.06 2.06-.94-2.06-.94-.94-2.06-.94 2.06-2.06.94zm-11 1L8.5 8.5l.94-2.06 2.06-.94-2.06-.94L8.5 2.5l-.94 2.06-2.06.94zm10 10l.94 2.06.94-2.06 2.06-.94-2.06-.94-.94-2.06-.94 2.06-2.06.94z\"/><path d=\"M17.41 7.96l-1.37-1.37c-.4-.4-.92-.59-1.43-.59-.52 0-1.04.2-1.43.59L10.3 9.45l-7.72 7.72c-.78.78-.78 2.05 0 2.83L4 21.41c.39.39.9.59 1.41.59.51 0 1.02-.2 1.41-.59l7.78-7.78 2.81-2.81c.8-.78.8-2.07 0-2.86zM5.41 20L4 18.59l7.72-7.72 1.47 1.35L5.41 20z\"/>\n",
              "  </svg>\n",
              "      </button>\n",
              "      \n",
              "  <style>\n",
              "    .colab-df-container {\n",
              "      display:flex;\n",
              "      flex-wrap:wrap;\n",
              "      gap: 12px;\n",
              "    }\n",
              "\n",
              "    .colab-df-convert {\n",
              "      background-color: #E8F0FE;\n",
              "      border: none;\n",
              "      border-radius: 50%;\n",
              "      cursor: pointer;\n",
              "      display: none;\n",
              "      fill: #1967D2;\n",
              "      height: 32px;\n",
              "      padding: 0 0 0 0;\n",
              "      width: 32px;\n",
              "    }\n",
              "\n",
              "    .colab-df-convert:hover {\n",
              "      background-color: #E2EBFA;\n",
              "      box-shadow: 0px 1px 2px rgba(60, 64, 67, 0.3), 0px 1px 3px 1px rgba(60, 64, 67, 0.15);\n",
              "      fill: #174EA6;\n",
              "    }\n",
              "\n",
              "    [theme=dark] .colab-df-convert {\n",
              "      background-color: #3B4455;\n",
              "      fill: #D2E3FC;\n",
              "    }\n",
              "\n",
              "    [theme=dark] .colab-df-convert:hover {\n",
              "      background-color: #434B5C;\n",
              "      box-shadow: 0px 1px 3px 1px rgba(0, 0, 0, 0.15);\n",
              "      filter: drop-shadow(0px 1px 2px rgba(0, 0, 0, 0.3));\n",
              "      fill: #FFFFFF;\n",
              "    }\n",
              "  </style>\n",
              "\n",
              "      <script>\n",
              "        const buttonEl =\n",
              "          document.querySelector('#df-fb959f81-589d-40c0-afa9-1a955d84ce04 button.colab-df-convert');\n",
              "        buttonEl.style.display =\n",
              "          google.colab.kernel.accessAllowed ? 'block' : 'none';\n",
              "\n",
              "        async function convertToInteractive(key) {\n",
              "          const element = document.querySelector('#df-fb959f81-589d-40c0-afa9-1a955d84ce04');\n",
              "          const dataTable =\n",
              "            await google.colab.kernel.invokeFunction('convertToInteractive',\n",
              "                                                     [key], {});\n",
              "          if (!dataTable) return;\n",
              "\n",
              "          const docLinkHtml = 'Like what you see? Visit the ' +\n",
              "            '<a target=\"_blank\" href=https://colab.research.google.com/notebooks/data_table.ipynb>data table notebook</a>'\n",
              "            + ' to learn more about interactive tables.';\n",
              "          element.innerHTML = '';\n",
              "          dataTable['output_type'] = 'display_data';\n",
              "          await google.colab.output.renderOutput(dataTable, element);\n",
              "          const docLink = document.createElement('div');\n",
              "          docLink.innerHTML = docLinkHtml;\n",
              "          element.appendChild(docLink);\n",
              "        }\n",
              "      </script>\n",
              "    </div>\n",
              "  </div>\n",
              "  "
            ]
          },
          "metadata": {},
          "execution_count": 63
        }
      ]
    },
    {
      "cell_type": "markdown",
      "source": [
        "### Logistic Regression"
      ],
      "metadata": {
        "id": "cnnIOGyrJ-Ao"
      }
    },
    {
      "cell_type": "code",
      "source": [
        "lr = LogisticRegression()\n",
        "lr.fit(Xtrain_tfidf,ytrain)\n",
        "p1=lr.predict(Xtest_tfidf)\n",
        "s1=accuracy_score(ytest,p1)\n",
        "print(\"Logistic Regression Accuracy :\", \"{:.2f}%\".format(100*s1))\n"
      ],
      "metadata": {
        "colab": {
          "base_uri": "https://localhost:8080/"
        },
        "id": "D4s8m8pRJoTn",
        "outputId": "81f62196-8b1d-4a2f-c957-bf7973ff7b43"
      },
      "execution_count": 53,
      "outputs": [
        {
          "output_type": "stream",
          "name": "stdout",
          "text": [
            "Logistic Regression Accuracy : 88.97%\n"
          ]
        }
      ]
    },
    {
      "cell_type": "code",
      "source": [
        "res = res.append({\"Model\": \"Log Regression\", \n",
        "                  \"Accuracy\": \"{:.2f}%\".format(100*s1)}, ignore_index=True)"
      ],
      "metadata": {
        "id": "Eo0zXkOsXAKi"
      },
      "execution_count": 64,
      "outputs": []
    },
    {
      "cell_type": "markdown",
      "source": [
        "### Naive Bayes"
      ],
      "metadata": {
        "id": "OFVIEtbjEPIV"
      }
    },
    {
      "cell_type": "code",
      "source": [
        "mnb= MultinomialNB()\n",
        "mnb.fit(Xtrain_count,ytrain)\n",
        "p2=mnb.predict(Xtest_count)\n",
        "s2=accuracy_score(ytest,p2)\n",
        "print(\"Multinomial Naive Bayes Classifier Accuracy :\", \"{:.2f}%\".format(100*s2))"
      ],
      "metadata": {
        "colab": {
          "base_uri": "https://localhost:8080/"
        },
        "id": "6oWEIZqYKAob",
        "outputId": "0f624a0b-cd61-4ef9-a50d-b107fef0fe73"
      },
      "execution_count": 56,
      "outputs": [
        {
          "output_type": "stream",
          "name": "stdout",
          "text": [
            "Multinomial Naive Bayes Classifier Accuracy : 85.28%\n"
          ]
        }
      ]
    },
    {
      "cell_type": "code",
      "source": [
        "res = res.append({\"Model\": \"Naive Bayes\", \n",
        "                  \"Accuracy\": \"{:.2f}%\".format(100*s2)}, ignore_index=True)"
      ],
      "metadata": {
        "id": "QSORQ0acY7qF"
      },
      "execution_count": 65,
      "outputs": []
    },
    {
      "cell_type": "code",
      "source": [
        "res.style.hide_index()"
      ],
      "metadata": {
        "colab": {
          "base_uri": "https://localhost:8080/",
          "height": 111
        },
        "id": "0oGnZujVaX4z",
        "outputId": "df0b26f2-0d5e-49d2-aa6c-bc744c47fb04"
      },
      "execution_count": 69,
      "outputs": [
        {
          "output_type": "execute_result",
          "data": {
            "text/plain": [
              "<pandas.io.formats.style.Styler at 0x7f704d8ffc70>"
            ],
            "text/html": [
              "<style type=\"text/css\">\n",
              "</style>\n",
              "<table id=\"T_ee87b_\" class=\"dataframe\">\n",
              "  <thead>\n",
              "    <tr>\n",
              "      <th class=\"col_heading level0 col0\" >Model</th>\n",
              "      <th class=\"col_heading level0 col1\" >Accuracy</th>\n",
              "    </tr>\n",
              "  </thead>\n",
              "  <tbody>\n",
              "    <tr>\n",
              "      <td id=\"T_ee87b_row0_col0\" class=\"data row0 col0\" >Log Regression</td>\n",
              "      <td id=\"T_ee87b_row0_col1\" class=\"data row0 col1\" >88.97%</td>\n",
              "    </tr>\n",
              "    <tr>\n",
              "      <td id=\"T_ee87b_row1_col0\" class=\"data row1 col0\" >Naive Bayes</td>\n",
              "      <td id=\"T_ee87b_row1_col1\" class=\"data row1 col1\" >85.28%</td>\n",
              "    </tr>\n",
              "  </tbody>\n",
              "</table>\n"
            ]
          },
          "metadata": {},
          "execution_count": 69
        }
      ]
    },
    {
      "cell_type": "markdown",
      "source": [
        "## Deep learning"
      ],
      "metadata": {
        "id": "jQz3NVQqJgtJ"
      }
    },
    {
      "cell_type": "code",
      "source": [
        "Xtrain_len = Xtrain.str.split().apply(lambda x: len(x))\n",
        "Xtrain_len.describe()"
      ],
      "metadata": {
        "colab": {
          "base_uri": "https://localhost:8080/"
        },
        "id": "vo3hmbK4GyaM",
        "outputId": "6b2109de-3928-4c51-c81b-45a6889a453d"
      },
      "execution_count": 7,
      "outputs": [
        {
          "output_type": "execute_result",
          "data": {
            "text/plain": [
              "count    34707.000000\n",
              "mean       104.692252\n",
              "std         80.691193\n",
              "min          3.000000\n",
              "25%         55.000000\n",
              "50%         77.000000\n",
              "75%        127.000000\n",
              "max       1007.000000\n",
              "Name: clean_review, dtype: float64"
            ]
          },
          "metadata": {},
          "execution_count": 7
        }
      ]
    },
    {
      "cell_type": "code",
      "source": [
        "max_seq_len = int(Xtrain_len.mean() + 2 * Xtrain_len.std())\n",
        "max_seq_len"
      ],
      "metadata": {
        "colab": {
          "base_uri": "https://localhost:8080/"
        },
        "id": "ESr98S4SG1Yo",
        "outputId": "46981a41-fea2-4b44-d268-c96cdba6d328"
      },
      "execution_count": 8,
      "outputs": [
        {
          "output_type": "execute_result",
          "data": {
            "text/plain": [
              "266"
            ]
          },
          "metadata": {},
          "execution_count": 8
        }
      ]
    },
    {
      "cell_type": "code",
      "source": [
        "perc_covered = np.sum(Xtrain_len < max_seq_len) / len(Xtrain_len)*100\n",
        "print('The above calculated number coveres approximately {} % of data'.format(np.round(perc_covered,2)))"
      ],
      "metadata": {
        "colab": {
          "base_uri": "https://localhost:8080/"
        },
        "id": "SR9MCqu3eqBP",
        "outputId": "f420139c-3f65-4336-cfb7-53c872b143cc"
      },
      "execution_count": 72,
      "outputs": [
        {
          "output_type": "stream",
          "name": "stdout",
          "text": [
            "The above calculated number coveres approximately 94.49 % of data\n"
          ]
        }
      ]
    },
    {
      "cell_type": "code",
      "source": [
        "class Vocab:\n",
        "  def __init__(self, data: list, max_seq_len):\n",
        "    st = set()\n",
        "    self.max_seq_len = max_seq_len\n",
        "    for x in data:\n",
        "      rev = nltk.word_tokenize(x)\n",
        "      st.update(rev)\n",
        "    self.unk_token = '<UNK>'\n",
        "    self.pad_token = '<PAD>'\n",
        "    #unique_words = [self.pad_token, self.unk_token] + sorted(list(st - set(stopwords.words('english'))))\n",
        "    unique_words = [self.pad_token, self.unk_token] + sorted(list(st))\n",
        "    word_ind = list(np.arange(len(unique_words)))\n",
        "    self.idx_to_token = dict(zip(word_ind, unique_words))\n",
        "    self.token_to_idx = dict(zip(unique_words, word_ind))\n",
        "    self.vocab_len = len(unique_words)\n",
        "\n",
        "\n",
        "class ReviewDataset(Dataset):\n",
        "  def __init__(self, X, y, vocab: Vocab):\n",
        "    self.X = X\n",
        "    self.y = y\n",
        "    self.vocab = vocab\n",
        "\n",
        "  def get_idx(self, review):\n",
        "    review = nltk.word_tokenize(review)\n",
        "    pad_idx = self.vocab.token_to_idx[self.vocab.pad_token]\n",
        "    unk_idx = self.vocab.token_to_idx[self.vocab.unk_token]\n",
        "    idx = [pad_idx] * self.vocab.max_seq_len\n",
        "    n = min(len(review), self.vocab.max_seq_len)\n",
        "    for i in range(n):\n",
        "      idx[i] = self.vocab.token_to_idx.get(review[i], unk_idx)\n",
        "\n",
        "    \n",
        "    return torch.tensor(idx, dtype=torch.int64)\n",
        "\n",
        "\n",
        "  def __len__(self):\n",
        "    return len(self.X)\n",
        "\n",
        "  def __getitem__(self, idx):\n",
        "    #return self.X.iloc[idx], self.get_idx(self.X.iloc[idx]), self.y.iloc[idx]\n",
        "    return self.get_idx(self.X.iloc[idx]), self.y.iloc[idx]"
      ],
      "metadata": {
        "id": "EKmUxe-jG2gR"
      },
      "execution_count": 9,
      "outputs": []
    },
    {
      "cell_type": "code",
      "source": [
        "vocab = Vocab(Xtrain.tolist(), max_seq_len)\n",
        "review_train = ReviewDataset(Xtrain, ytrain, vocab)\n",
        "review_test = ReviewDataset(Xtest, ytest, vocab)\n",
        "\n",
        "batch_size = 32\n",
        "train_iter = DataLoader(review_train, batch_size, shuffle=True)\n",
        "test_iter = DataLoader(review_test, batch_size, shuffle=False)"
      ],
      "metadata": {
        "id": "kq-mLyKZG4S_"
      },
      "execution_count": 36,
      "outputs": []
    },
    {
      "cell_type": "code",
      "source": [
        "vocab.vocab_len"
      ],
      "metadata": {
        "colab": {
          "base_uri": "https://localhost:8080/"
        },
        "id": "4AJfRlRbG5dL",
        "outputId": "269318c0-0bd5-4fb7-b24d-b59f5af33b02"
      },
      "execution_count": 74,
      "outputs": [
        {
          "output_type": "execute_result",
          "data": {
            "text/plain": [
              "73569"
            ]
          },
          "metadata": {},
          "execution_count": 74
        }
      ]
    },
    {
      "cell_type": "code",
      "source": [
        "# v2\n",
        "\n",
        "def number_of_correct_ans(y_hat, y):\n",
        "  # Считаем кол-во верных ответов (работает для ответов - векторов)\n",
        "  y_hat = y_hat.argmax(axis=1)\n",
        "  correct_mask = y_hat == y\n",
        "  return correct_mask.sum()\n",
        "\n",
        "\n",
        "def evaluate_accuracy(net, test_iter):\n",
        "\n",
        "  # Выставляем режим оценки модели\n",
        "  net.eval()\n",
        "\n",
        "  total_samples = len(test_iter.dataset) #Общее кол-во элементво в выборке\n",
        "  correct_ans = 0\n",
        "\n",
        "  with torch.no_grad():\n",
        "    for X, y in test_iter:\n",
        "      X, y = X.to(device), y.to(device)\n",
        "\n",
        "      y_hat = net(X)\n",
        "      correct_ans += number_of_correct_ans(y_hat, y)\n",
        "\n",
        "  return correct_ans / total_samples\n",
        "\n",
        "\n",
        "def train_epoch(net, train_iter, loss, updater, clip_value):\n",
        "\n",
        "  # Выставляем режим обучения модели\n",
        "  net.train()\n",
        "\n",
        "  total_samples = len(train_iter.dataset)\n",
        "  correct_samples = 0\n",
        "  total_loss = 0\n",
        "\n",
        "  for X, y in train_iter:\n",
        "    X, y = X.to(device), y.to(device)\n",
        "\n",
        "    y_hat = net(X)\n",
        "    l = loss(y_hat, y)\n",
        "\n",
        "    updater.zero_grad()\n",
        "    l.backward()\n",
        "    if clip_value:\n",
        "      torch.nn.utils.clip_grad_norm_(net.parameters(), clip_value)\n",
        "    updater.step()\n",
        "\n",
        "    total_loss += l\n",
        "    correct_samples += number_of_correct_ans(y_hat, y)\n",
        "\n",
        "  return total_loss / total_samples, correct_samples / total_samples\n",
        "\n",
        "\n",
        "class Model_metrics:\n",
        "  def __init__(self):\n",
        "    self.train_loss = []\n",
        "    self.train_accuracy = []\n",
        "    self.test_accuracy = []\n",
        "\n",
        "  def add(self, train_loss, train_accuracy, test_accuracy):\n",
        "      self.train_loss.append(train_loss.cpu().item())\n",
        "      self.train_accuracy.append(train_accuracy.cpu().item())\n",
        "      self.test_accuracy.append(test_accuracy.cpu().item())\n",
        "\n",
        "  def plot(self):\n",
        "      plt.rcParams.update({'font.size': 12})\n",
        "      fig, ax = plt.subplots(nrows=1, ncols=2, figsize=(15, 5))\n",
        "      epochs = np.arange(len(self.train_loss))\n",
        "\n",
        "      # График функции потерь\n",
        "      ax[0].plot(epochs, self.train_loss, label=\"train loss\")\n",
        "      ax[0].set_xticks(epochs)\n",
        "      ax[0].grid()\n",
        "      ax[0].legend()\n",
        "\n",
        "      # График точности на обучении и тесте\n",
        "      ax[1].plot(epochs, self.train_accuracy, label=\"train accuracy\")\n",
        "      ax[1].plot(epochs, self.test_accuracy, label=\"test accuracy\")\n",
        "      ax[1].set_xticks(epochs)\n",
        "      ax[1].grid()\n",
        "      ax[1].legend()\n",
        "\n",
        "      plt.show()\n",
        "\n",
        "\n",
        "  def return_dict(self):\n",
        "    res = {\n",
        "        \"train_loss\": self.train_loss,\n",
        "        \"train_accuracy\": self.train_accuracy,\n",
        "        \"test_accuracy\": self.test_accuracy\n",
        "    }\n",
        "    return res\n",
        "\n",
        "\n",
        "def saving(net, model_metrics, path):\n",
        "  state = {\"state_dict\": net.state_dict()}\n",
        "  metrics_dict = model_metrics.return_dict()\n",
        "  state = {**state, **metrics_dict}\n",
        "  torch.save(state, path)\n",
        "\n",
        "\n",
        "def train_rnn_model(net, train_iter, test_iter, loss,\n",
        "                num_epochs, updater, clip_value = None, path=None):\n",
        "\n",
        "  model_metrics = Model_metrics()\n",
        "  for epoch in tqdm(range(num_epochs)):\n",
        "    train_loss, train_accuracy = train_epoch(net, train_iter, loss, updater, clip_value)\n",
        "    test_accuracy = evaluate_accuracy(net, test_iter)\n",
        "    model_metrics.add(train_loss, train_accuracy, test_accuracy)\n",
        "    print (f': Loss: {train_loss:.4f}, Train acc: {train_accuracy:.4f}, Test acc: {test_accuracy:.4f}')\n",
        "  model_metrics.plot()\n",
        "  if path:\n",
        "    saving(net, model_metrics, path)\n"
      ],
      "metadata": {
        "id": "sNATqHDtG_du"
      },
      "execution_count": 11,
      "outputs": []
    },
    {
      "cell_type": "markdown",
      "source": [
        "### Two layer GRU"
      ],
      "metadata": {
        "id": "DOTXM7imh_Sk"
      }
    },
    {
      "cell_type": "code",
      "source": [
        "class GRU_model(nn.Module):\n",
        "  def __init__(self, vocab_len, embedding_size, rnn_hidden_size,\n",
        "               num_classes, seq_len, num_layers=1, bidir=False):\n",
        "    super().__init__()\n",
        "    self.hidden_dim = rnn_hidden_size\n",
        "    self.seq_len = seq_len\n",
        "    self.num_layers = num_layers\n",
        "    self.bidir = bidir\n",
        "    self.embedding = nn.Embedding(vocab_len, embedding_size, padding_idx=0)\n",
        "    self.rnn = nn.GRU(embedding_size, rnn_hidden_size,\n",
        "                      num_layers = num_layers, batch_first=True, bidirectional = bidir)\n",
        "    self.classifier = nn.Sequential(nn.Linear(rnn_hidden_size  * (1 + self.bidir), \n",
        "                                              rnn_hidden_size),nn.ReLU(), nn.Dropout(0.5),\n",
        "                                     nn.Linear(rnn_hidden_size, num_classes))\n",
        "    self.dropout = nn.Dropout(0.5)\n",
        "    \n",
        "  def forward(self, X):\n",
        "    #h0 = torch.zeros((1 + self.bidir) * numm, X.size(0), self.hidden_dim).to(device)\n",
        "    batch_size = X.shape[0]\n",
        "    \n",
        "    emb = self.embedding(X) # batch x seq x emb\n",
        "    out, hidden = self.rnn(emb)\n",
        "    out = out.sum(axis=1)\n",
        "    out = self.dropout(out) # batch x rnn_hidden\n",
        "    out = self.classifier(out) # batch x num_classes\n",
        "    return out\n",
        "\n",
        "\n",
        "vocab_len = vocab.vocab_len\n",
        "embedding_size = 64\n",
        "rnn_hidden_size = 256\n",
        "num_classes = 2\n",
        "seq_len = vocab.max_seq_len\n",
        "net = GRU_model(vocab_len, embedding_size, rnn_hidden_size,\n",
        "                num_classes, seq_len, num_layers = 2)\n",
        "net.to(device)\n",
        "\n",
        "loss = nn.CrossEntropyLoss()  \n",
        "lr = 0.001\n",
        "updater = optim.Adam(net.parameters(), lr=lr)\n",
        "clip_value = 5\n",
        "\n",
        "num_epochs = 5 "
      ],
      "metadata": {
        "id": "kSzBYjk6HBBX"
      },
      "execution_count": 76,
      "outputs": []
    },
    {
      "cell_type": "code",
      "source": [
        "#Обучение сети\n",
        "path = \"./Saved models/GRU_code_2_1.pt\"\n",
        "train_rnn_model(net, train_iter, test_iter, loss, num_epochs, updater, clip_value, path)"
      ],
      "metadata": {
        "colab": {
          "base_uri": "https://localhost:8080/",
          "height": 427
        },
        "id": "er6ZFpBRfSoK",
        "outputId": "a7f1bc7c-631d-42e4-b354-15e015406b23"
      },
      "execution_count": 78,
      "outputs": [
        {
          "output_type": "stream",
          "name": "stderr",
          "text": [
            " 20%|██        | 1/5 [01:02<04:11, 62.98s/it]"
          ]
        },
        {
          "output_type": "stream",
          "name": "stdout",
          "text": [
            ": Loss: 0.0134, Train acc: 0.8229, Test acc: 0.8458\n"
          ]
        },
        {
          "output_type": "stream",
          "name": "stderr",
          "text": [
            "\r 40%|████      | 2/5 [02:00<02:59, 59.97s/it]"
          ]
        },
        {
          "output_type": "stream",
          "name": "stdout",
          "text": [
            ": Loss: 0.0102, Train acc: 0.8766, Test acc: 0.8701\n"
          ]
        },
        {
          "output_type": "stream",
          "name": "stderr",
          "text": [
            "\r 60%|██████    | 3/5 [02:59<01:59, 59.58s/it]"
          ]
        },
        {
          "output_type": "stream",
          "name": "stdout",
          "text": [
            ": Loss: 0.0080, Train acc: 0.9103, Test acc: 0.8761\n"
          ]
        },
        {
          "output_type": "stream",
          "name": "stderr",
          "text": [
            "\r 80%|████████  | 4/5 [03:57<00:58, 58.72s/it]"
          ]
        },
        {
          "output_type": "stream",
          "name": "stdout",
          "text": [
            ": Loss: 0.0061, Train acc: 0.9328, Test acc: 0.8706\n"
          ]
        },
        {
          "output_type": "stream",
          "name": "stderr",
          "text": [
            "100%|██████████| 5/5 [04:55<00:00, 59.08s/it]"
          ]
        },
        {
          "output_type": "stream",
          "name": "stdout",
          "text": [
            ": Loss: 0.0045, Train acc: 0.9547, Test acc: 0.8742\n"
          ]
        },
        {
          "output_type": "stream",
          "name": "stderr",
          "text": [
            "\n"
          ]
        },
        {
          "output_type": "display_data",
          "data": {
            "text/plain": [
              "<Figure size 1080x360 with 2 Axes>"
            ],
            "image/png": "[encoded data removed]"
          },
          "metadata": {
            "needs_background": "light"
          }
        }
      ]
    },
    {
      "cell_type": "code",
      "source": [
        "state = torch.load(path, map_location=device)\n",
        "net.load_state_dict(state[\"state_dict\"])\n",
        "acc = evaluate_accuracy(net, test_iter)\n",
        "print(\"Точность на тестовом множестве:\", \"{:.2f}%\".format(100*acc))"
      ],
      "metadata": {
        "colab": {
          "base_uri": "https://localhost:8080/"
        },
        "id": "LerfFRzegrVv",
        "outputId": "9cdb8d7d-e220-4e5a-fe5d-e1700c6cdc03"
      },
      "execution_count": 80,
      "outputs": [
        {
          "output_type": "stream",
          "name": "stdout",
          "text": [
            "Точность на тестовом множестве: 87.42%\n"
          ]
        }
      ]
    },
    {
      "cell_type": "code",
      "source": [
        "res = res.append({\"Model\": \"Two layer gru\", \n",
        "                  \"Accuracy\": \"{:.2f}%\".format(100*acc)}, ignore_index=True)"
      ],
      "metadata": {
        "id": "C2_lFrO9h9Nb"
      },
      "execution_count": 81,
      "outputs": []
    },
    {
      "cell_type": "markdown",
      "source": [
        "### 3 layer gru"
      ],
      "metadata": {
        "id": "1yOpWqMw6guV"
      }
    },
    {
      "cell_type": "code",
      "source": [
        "vocab_len = vocab.vocab_len\n",
        "embedding_size = 64\n",
        "rnn_hidden_size = 256\n",
        "num_classes = 2\n",
        "seq_len = vocab.max_seq_len\n",
        "net = GRU_model(vocab_len, embedding_size, rnn_hidden_size,\n",
        "                num_classes, seq_len, num_layers = 3)\n",
        "net.to(device)\n",
        "\n",
        "loss = nn.CrossEntropyLoss()  \n",
        "lr = 0.001\n",
        "updater = optim.Adam(net.parameters(), lr=lr)\n",
        "clip_value = 5\n",
        "\n",
        "path = \"./Saved models/GRU_code_2_3.pt\"\n",
        "num_epochs = 10"
      ],
      "metadata": {
        "id": "0FeLHBSF6lW4"
      },
      "execution_count": 90,
      "outputs": []
    },
    {
      "cell_type": "code",
      "source": [
        "#Обучение сети\n",
        "train_rnn_model(net, train_iter, test_iter, loss, num_epochs, updater, clip_value, path)"
      ],
      "metadata": {
        "colab": {
          "base_uri": "https://localhost:8080/",
          "height": 513
        },
        "id": "7Z4KAy7miUk6",
        "outputId": "e36c2a64-50f6-4d41-b14d-d4193d931acc"
      },
      "execution_count": 91,
      "outputs": [
        {
          "output_type": "stream",
          "name": "stderr",
          "text": [
            " 10%|█         | 1/10 [01:13<11:00, 73.37s/it]"
          ]
        },
        {
          "output_type": "stream",
          "name": "stdout",
          "text": [
            ": Loss: 0.0193, Train acc: 0.7351, Test acc: 0.8337\n"
          ]
        },
        {
          "output_type": "stream",
          "name": "stderr",
          "text": [
            "\r 20%|██        | 2/10 [02:24<09:35, 71.88s/it]"
          ]
        },
        {
          "output_type": "stream",
          "name": "stdout",
          "text": [
            ": Loss: 0.0119, Train acc: 0.8526, Test acc: 0.8614\n"
          ]
        },
        {
          "output_type": "stream",
          "name": "stderr",
          "text": [
            "\r 30%|███       | 3/10 [03:34<08:17, 71.10s/it]"
          ]
        },
        {
          "output_type": "stream",
          "name": "stdout",
          "text": [
            ": Loss: 0.0092, Train acc: 0.8925, Test acc: 0.8684\n"
          ]
        },
        {
          "output_type": "stream",
          "name": "stderr",
          "text": [
            "\r 40%|████      | 4/10 [04:46<07:08, 71.38s/it]"
          ]
        },
        {
          "output_type": "stream",
          "name": "stdout",
          "text": [
            ": Loss: 0.0072, Train acc: 0.9189, Test acc: 0.8749\n"
          ]
        },
        {
          "output_type": "stream",
          "name": "stderr",
          "text": [
            "\r 50%|█████     | 5/10 [05:56<05:54, 70.92s/it]"
          ]
        },
        {
          "output_type": "stream",
          "name": "stdout",
          "text": [
            ": Loss: 0.0054, Train acc: 0.9433, Test acc: 0.8424\n"
          ]
        },
        {
          "output_type": "stream",
          "name": "stderr",
          "text": [
            "\r 60%|██████    | 6/10 [07:06<04:43, 70.77s/it]"
          ]
        },
        {
          "output_type": "stream",
          "name": "stdout",
          "text": [
            ": Loss: 0.0037, Train acc: 0.9646, Test acc: 0.8700\n"
          ]
        },
        {
          "output_type": "stream",
          "name": "stderr",
          "text": [
            "\r 70%|███████   | 7/10 [08:18<03:33, 71.17s/it]"
          ]
        },
        {
          "output_type": "stream",
          "name": "stdout",
          "text": [
            ": Loss: 0.0028, Train acc: 0.9770, Test acc: 0.8643\n"
          ]
        },
        {
          "output_type": "stream",
          "name": "stderr",
          "text": [
            "\r 80%|████████  | 8/10 [09:29<02:21, 70.98s/it]"
          ]
        },
        {
          "output_type": "stream",
          "name": "stdout",
          "text": [
            ": Loss: 0.0021, Train acc: 0.9845, Test acc: 0.8602\n"
          ]
        },
        {
          "output_type": "stream",
          "name": "stderr",
          "text": [
            "\r 90%|█████████ | 9/10 [10:46<01:12, 72.99s/it]"
          ]
        },
        {
          "output_type": "stream",
          "name": "stdout",
          "text": [
            ": Loss: 0.0021, Train acc: 0.9874, Test acc: 0.8655\n"
          ]
        },
        {
          "output_type": "stream",
          "name": "stderr",
          "text": [
            "100%|██████████| 10/10 [12:04<00:00, 72.45s/it]"
          ]
        },
        {
          "output_type": "stream",
          "name": "stdout",
          "text": [
            ": Loss: 0.0015, Train acc: 0.9893, Test acc: 0.8585\n"
          ]
        },
        {
          "output_type": "stream",
          "name": "stderr",
          "text": [
            "\n"
          ]
        },
        {
          "output_type": "display_data",
          "data": {
            "text/plain": [
              "<Figure size 1080x360 with 2 Axes>"
            ],
            "image/png": "[encoded data removed]"
          },
          "metadata": {
            "needs_background": "light"
          }
        }
      ]
    },
    {
      "cell_type": "markdown",
      "source": [
        "### Concat GRU"
      ],
      "metadata": {
        "id": "XItbmn8qn9RM"
      }
    },
    {
      "cell_type": "code",
      "source": [
        "class GRU_model(nn.Module):\n",
        "  def __init__(self, vocab_len, embedding_size, rnn_hidden_size,\n",
        "               num_classes, seq_len, num_layers=1, bidir=False):\n",
        "    super().__init__()\n",
        "    self.hidden_dim = rnn_hidden_size\n",
        "    self.seq_len = seq_len\n",
        "    self.num_layers = num_layers\n",
        "    self.bidir = bidir\n",
        "    self.embedding = nn.Embedding(vocab_len, embedding_size, padding_idx=0)\n",
        "    self.rnn = nn.GRU(embedding_size, rnn_hidden_size,\n",
        "                      num_layers = num_layers, batch_first=True, bidirectional = bidir)\n",
        "    self.classifier = nn.Sequential(nn.Linear(rnn_hidden_size  * (1 + self.bidir) * self.seq_len, \n",
        "                                              rnn_hidden_size),nn.ReLU(), nn.Dropout(0.5),\n",
        "                                     nn.Linear(rnn_hidden_size, num_classes))\n",
        "    self.dropout = nn.Dropout(0.5)\n",
        "    \n",
        "  def forward(self, X):\n",
        "    #h0 = torch.zeros((1 + self.bidir) * numm, X.size(0), self.hidden_dim).to(device)\n",
        "    batch_size = X.shape[0]\n",
        "    \n",
        "    emb = self.embedding(X) # batch x seq x emb\n",
        "    out, hidden = self.rnn(emb)\n",
        "    out = out.reshape(batch_size, self.hidden_dim * self.seq_len)\n",
        "    out = self.dropout(out) # batch x rnn_hidden\n",
        "    out = self.classifier(out) # batch x num_classes\n",
        "    return out\n",
        "\n",
        "\n",
        "vocab_len = vocab.vocab_len\n",
        "embedding_size = 64\n",
        "rnn_hidden_size = 256\n",
        "num_classes = 2\n",
        "seq_len = vocab.max_seq_len\n",
        "net = GRU_model(vocab_len, embedding_size, rnn_hidden_size,\n",
        "                num_classes, seq_len, num_layers = 2)\n",
        "net.to(device)\n",
        "\n",
        "loss = nn.CrossEntropyLoss()  \n",
        "lr = 0.001\n",
        "updater = optim.Adam(net.parameters(), lr=lr)\n",
        "clip_value = 5\n",
        "\n",
        "num_epochs = 5 "
      ],
      "metadata": {
        "id": "i6G-UacgJAbH"
      },
      "execution_count": 93,
      "outputs": []
    },
    {
      "cell_type": "code",
      "source": [
        "#Обучение сети\n",
        "path = \"./Saved models/GRU_code_2_concat.pt\"\n",
        "train_rnn_model(net, train_iter, test_iter, loss, num_epochs, updater, clip_value, path)"
      ],
      "metadata": {
        "colab": {
          "base_uri": "https://localhost:8080/",
          "height": 425
        },
        "id": "Zl_r4-vwtqEv",
        "outputId": "ba77fe7e-4947-4bde-d903-6b5dd7002341"
      },
      "execution_count": 94,
      "outputs": [
        {
          "output_type": "stream",
          "name": "stderr",
          "text": [
            " 20%|██        | 1/5 [00:57<03:50, 57.61s/it]"
          ]
        },
        {
          "output_type": "stream",
          "name": "stdout",
          "text": [
            ": Loss: 0.0154, Train acc: 0.7631, Test acc: 0.8376\n"
          ]
        },
        {
          "output_type": "stream",
          "name": "stderr",
          "text": [
            "\r 40%|████      | 2/5 [01:55<02:53, 57.76s/it]"
          ]
        },
        {
          "output_type": "stream",
          "name": "stdout",
          "text": [
            ": Loss: 0.0101, Train acc: 0.8694, Test acc: 0.8633\n"
          ]
        },
        {
          "output_type": "stream",
          "name": "stderr",
          "text": [
            "\r 60%|██████    | 3/5 [02:54<01:56, 58.30s/it]"
          ]
        },
        {
          "output_type": "stream",
          "name": "stdout",
          "text": [
            ": Loss: 0.0073, Train acc: 0.9071, Test acc: 0.8584\n"
          ]
        },
        {
          "output_type": "stream",
          "name": "stderr",
          "text": [
            "\r 80%|████████  | 4/5 [03:51<00:58, 58.00s/it]"
          ]
        },
        {
          "output_type": "stream",
          "name": "stdout",
          "text": [
            ": Loss: 0.0050, Train acc: 0.9403, Test acc: 0.8640\n"
          ]
        },
        {
          "output_type": "stream",
          "name": "stderr",
          "text": [
            "100%|██████████| 5/5 [04:50<00:00, 58.03s/it]"
          ]
        },
        {
          "output_type": "stream",
          "name": "stdout",
          "text": [
            ": Loss: 0.0031, Train acc: 0.9632, Test acc: 0.8606\n"
          ]
        },
        {
          "output_type": "stream",
          "name": "stderr",
          "text": [
            "\n"
          ]
        },
        {
          "output_type": "display_data",
          "data": {
            "text/plain": [
              "<Figure size 1080x360 with 2 Axes>"
            ],
            "image/png": "[encoded data removed]"
          },
          "metadata": {
            "needs_background": "light"
          }
        }
      ]
    },
    {
      "cell_type": "markdown",
      "source": [
        "## Pre-trained deep learning"
      ],
      "metadata": {
        "id": "JuthTNHkOSrY"
      }
    },
    {
      "cell_type": "code",
      "source": [
        "words_path = \"../../ТОБД/2 семестр/Задание 7/embeddings/glove.6B.50d.txt\"\n",
        "with open(words_path) as f:\n",
        "    lines = f.readlines()"
      ],
      "metadata": {
        "id": "PxB49GkPPFhT"
      },
      "execution_count": 16,
      "outputs": []
    },
    {
      "cell_type": "code",
      "source": [
        "words = set()\n",
        "emb_dim = 50\n",
        "embeddings = np.empty((len(lines), emb_dim))\n",
        "word2idx = dict()\n",
        "for idx, line in enumerate(lines):\n",
        "  line = line.split()\n",
        "  word = line[0]\n",
        "  words.add(word)\n",
        "  embeddings[idx] = np.array(line[1:]).astype(float)\n",
        "  word2idx[word] = idx\n",
        "\n",
        "len(words)"
      ],
      "metadata": {
        "colab": {
          "base_uri": "https://localhost:8080/"
        },
        "id": "cS-c21eyPHBo",
        "outputId": "9b3de2af-180b-4b54-db8f-c4c1c733eae2"
      },
      "execution_count": 40,
      "outputs": [
        {
          "output_type": "execute_result",
          "data": {
            "text/plain": [
              "400000"
            ]
          },
          "metadata": {},
          "execution_count": 40
        }
      ]
    },
    {
      "cell_type": "code",
      "source": [
        "vocab_emb = np.empty((vocab.vocab_len, emb_dim))\n",
        "missed_words = 0\n",
        "for idx, word in enumerate(vocab.idx_to_token.values()):\n",
        "  if word in words:\n",
        "    word_idx = word2idx[word]\n",
        "    vocab_emb[idx] = embeddings[word_idx]\n",
        "  else:\n",
        "    vocab_emb[idx] = np.random.normal(scale=0.6, size=(emb_dim, ))\n",
        "    missed_words += 1\n",
        "\n",
        "missed_words"
      ],
      "metadata": {
        "id": "lY5r1tmwUVYS"
      },
      "execution_count": 42,
      "outputs": []
    },
    {
      "cell_type": "markdown",
      "source": [
        "### 2 layer GRU with pretrained word embeddings"
      ],
      "metadata": {
        "id": "BVc2Xi1vlkp7"
      }
    },
    {
      "cell_type": "code",
      "source": [
        "class GRU_model(nn.Module):\n",
        "  def __init__(self, vocab_len, embedding_size, rnn_hidden_size,\n",
        "               num_classes, seq_len, num_layers=1, bidir=False, pr_embs=None):\n",
        "    super().__init__()\n",
        "    self.hidden_dim = rnn_hidden_size\n",
        "    self.seq_len = seq_len\n",
        "    self.num_layers = num_layers\n",
        "    self.bidir = bidir\n",
        "    if pr_embs.any():\n",
        "      self.embedding = torch.nn.Embedding.from_pretrained(torch.from_numpy(pr_embs).float(),\n",
        "                                                          freeze=False, padding_idx=0)\n",
        "    else:\n",
        "      self.embedding = nn.Embedding(vocab_len, embedding_size, padding_idx=0)\n",
        "    self.rnn = nn.GRU(embedding_size, rnn_hidden_size,\n",
        "                      num_layers = num_layers, batch_first=True, bidirectional = bidir)\n",
        "    self.classifier = nn.Sequential(nn.Linear(rnn_hidden_size  * (1 + self.bidir), \n",
        "                                              rnn_hidden_size),nn.ReLU(), nn.Dropout(0.5),\n",
        "                                     nn.Linear(rnn_hidden_size, num_classes))\n",
        "    self.dropout = nn.Dropout(0.5)\n",
        "    \n",
        "  def forward(self, X):\n",
        "    #h0 = torch.zeros((1 + self.bidir) * numm, X.size(0), self.hidden_dim).to(device)\n",
        "    batch_size = X.shape[0]\n",
        "    \n",
        "    emb = self.embedding(X) # batch x seq x emb\n",
        "    out, hidden = self.rnn(emb)\n",
        "    out = out.sum(axis=1)\n",
        "    out = self.dropout(out) # batch x rnn_hidden\n",
        "    out = self.classifier(out) # batch x num_classes\n",
        "    return out\n",
        "\n",
        "\n",
        "vocab_len = vocab.vocab_len\n",
        "embedding_size = 50\n",
        "rnn_hidden_size = 256\n",
        "num_classes = 2\n",
        "seq_len = vocab.max_seq_len\n",
        "net = GRU_model(vocab_len, embedding_size, rnn_hidden_size,\n",
        "                num_classes, seq_len, num_layers = 2, pr_embs=vocab_emb)\n",
        "net.to(device)\n",
        "\n",
        "loss = nn.CrossEntropyLoss()  \n",
        "lr = 0.001\n",
        "updater = optim.Adam(net.parameters(), lr=lr)\n",
        "clip_value = 5\n",
        "\n",
        "num_epochs = 4"
      ],
      "metadata": {
        "id": "ovXLZY4HlzX3"
      },
      "execution_count": 74,
      "outputs": []
    },
    {
      "cell_type": "code",
      "source": [
        "#Обучение сети\n",
        "path = \"./Saved models/GRU_code_2_pre_2.pt\"\n",
        "train_rnn_model(net, train_iter, test_iter, loss, num_epochs, updater, clip_value, path)"
      ],
      "metadata": {
        "colab": {
          "base_uri": "https://localhost:8080/",
          "height": 408
        },
        "id": "cnM_v6qLatwk",
        "outputId": "484bd790-866c-4f45-ad31-9c0c562e542f"
      },
      "execution_count": 75,
      "outputs": [
        {
          "output_type": "stream",
          "name": "stderr",
          "text": [
            " 25%|██▌       | 1/4 [00:57<02:53, 57.80s/it]"
          ]
        },
        {
          "output_type": "stream",
          "name": "stdout",
          "text": [
            ": Loss: 0.0205, Train acc: 0.7605, Test acc: 0.8368\n"
          ]
        },
        {
          "output_type": "stream",
          "name": "stderr",
          "text": [
            "\r 50%|█████     | 2/4 [01:53<01:53, 56.59s/it]"
          ]
        },
        {
          "output_type": "stream",
          "name": "stdout",
          "text": [
            ": Loss: 0.0111, Train acc: 0.8759, Test acc: 0.8840\n"
          ]
        },
        {
          "output_type": "stream",
          "name": "stderr",
          "text": [
            "\r 75%|███████▌  | 3/4 [02:49<00:56, 56.39s/it]"
          ]
        },
        {
          "output_type": "stream",
          "name": "stdout",
          "text": [
            ": Loss: 0.0086, Train acc: 0.9114, Test acc: 0.8709\n"
          ]
        },
        {
          "output_type": "stream",
          "name": "stderr",
          "text": [
            "100%|██████████| 4/4 [03:46<00:00, 56.72s/it]"
          ]
        },
        {
          "output_type": "stream",
          "name": "stdout",
          "text": [
            ": Loss: 0.0065, Train acc: 0.9389, Test acc: 0.8756\n"
          ]
        },
        {
          "output_type": "stream",
          "name": "stderr",
          "text": [
            "\n"
          ]
        },
        {
          "output_type": "display_data",
          "data": {
            "text/plain": [
              "<Figure size 1080x360 with 2 Axes>"
            ],
            "image/png": "[encoded data removed]"
          },
          "metadata": {
            "needs_background": "light"
          }
        }
      ]
    },
    {
      "cell_type": "code",
      "source": [
        "state = torch.load(path, map_location=device)\n",
        "net.load_state_dict(state[\"state_dict\"])\n",
        "acc = evaluate_accuracy(net, test_iter)\n",
        "print(\"Точность на тестовом множестве:\", \"{:.2f}%\".format(100*acc))"
      ],
      "metadata": {
        "colab": {
          "base_uri": "https://localhost:8080/"
        },
        "id": "dK6TjKNMygG9",
        "outputId": "694162aa-6df7-4593-9356-711c19014e15"
      },
      "execution_count": 76,
      "outputs": [
        {
          "output_type": "stream",
          "name": "stdout",
          "text": [
            "Точность на тестовом множестве: 87.56%\n"
          ]
        }
      ]
    },
    {
      "cell_type": "code",
      "source": [],
      "metadata": {
        "id": "kDEsU16L51lP"
      },
      "execution_count": null,
      "outputs": []
    }
  ]
}