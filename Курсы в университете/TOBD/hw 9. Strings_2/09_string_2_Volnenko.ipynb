{
 "cells": [
  {
   "cell_type": "markdown",
   "metadata": {},
   "source": [
    "# Введение в обработку текста на естественном языке"
   ]
  },
  {
   "cell_type": "markdown",
   "metadata": {},
   "source": [
    "Материалы:\n",
    "* Макрушин С.В. Лекция 9: Введение в обработку текста на естественном языке\\\n",
    "* https://realpython.com/nltk-nlp-python/\n",
    "* https://scikit-learn.org/stable/modules/feature_extraction.html"
   ]
  },
  {
   "cell_type": "markdown",
   "metadata": {},
   "source": [
    "## Задачи для совместного разбора"
   ]
  },
  {
   "cell_type": "code",
   "execution_count": 1,
   "metadata": {},
   "outputs": [],
   "source": [
    "from sklearn.feature_extraction.text import CountVectorizer\n",
    "import pymorphy2\n",
    "from nltk.metrics.distance import edit_distance"
   ]
  },
  {
   "cell_type": "markdown",
   "metadata": {},
   "source": [
    "1. Считайте слова из файла `litw-win.txt` и запишите их в список `words`. В заданном предложении исправьте все опечатки, заменив слова с опечатками на ближайшие (в смысле расстояния Левенштейна) к ним слова из списка `words`. Считайте, что в слове есть опечатка, если данное слово не содержится в списке `words`. "
   ]
  },
  {
   "cell_type": "code",
   "execution_count": 2,
   "metadata": {},
   "outputs": [
    {
     "data": {
      "text/plain": [
       "1"
      ]
     },
     "execution_count": 2,
     "metadata": {},
     "output_type": "execute_result"
    }
   ],
   "source": [
    "s1 = \"ПИ19-3\"\n",
    "s2 = \"ПМ19-3\"\n",
    "edit_distance(s1, s2)"
   ]
  },
  {
   "cell_type": "code",
   "execution_count": 3,
   "metadata": {},
   "outputs": [],
   "source": [
    "text = '''с велечайшим усилием выбравшись из потока убегающих людей Кутузов со свитой уменьшевшейся вдвое поехал на звуки выстрелов русских орудий'''"
   ]
  },
  {
   "cell_type": "code",
   "execution_count": 4,
   "metadata": {},
   "outputs": [
    {
     "data": {
      "text/plain": [
       "['высокопревосходительства',\n",
       " 'попреблагорассмотрительст',\n",
       " 'попреблагорассмотрительствующемуся',\n",
       " 'убегающих',\n",
       " 'уменьшившейся']"
      ]
     },
     "execution_count": 4,
     "metadata": {},
     "output_type": "execute_result"
    }
   ],
   "source": [
    "word = \"велечайшим\"\n",
    "with open (\"./data/litw-win.txt\", \"r\", encoding='windows-1251') as fp:\n",
    "    words = [line.strip().split()[-1] for line in fp]\n",
    "words[-5:]"
   ]
  },
  {
   "cell_type": "code",
   "execution_count": 5,
   "metadata": {},
   "outputs": [
    {
     "data": {
      "text/plain": [
       "'величайшим'"
      ]
     },
     "execution_count": 5,
     "metadata": {},
     "output_type": "execute_result"
    }
   ],
   "source": [
    "min(words, key=lambda w: edit_distance(w, word))"
   ]
  },
  {
   "cell_type": "markdown",
   "metadata": {},
   "source": [
    "2. Разбейте текст из формулировки задания 1 на слова; проведите стеминг и лемматизацию слов"
   ]
  },
  {
   "cell_type": "markdown",
   "metadata": {},
   "source": [
    "**Стемминг - это выкидывание окончаний и т д со слова**"
   ]
  },
  {
   "cell_type": "code",
   "execution_count": 6,
   "metadata": {},
   "outputs": [],
   "source": [
    "from nltk.stem import SnowballStemmer\n",
    "from nltk.tokenize import sent_tokenize, word_tokenize"
   ]
  },
  {
   "cell_type": "code",
   "execution_count": 7,
   "metadata": {},
   "outputs": [
    {
     "name": "stdout",
     "output_type": "stream",
     "text": [
      "с\n",
      "велечайш\n",
      "усил\n",
      "выбра\n",
      "из\n",
      "поток\n",
      "убега\n",
      "люд\n",
      "кутуз\n",
      "со\n",
      "свит\n",
      "уменьшевш\n",
      "вдво\n",
      "поеха\n",
      "на\n",
      "звук\n",
      "выстрел\n",
      "русск\n",
      "оруд\n"
     ]
    }
   ],
   "source": [
    "stemmer = SnowballStemmer('russian')\n",
    "\n",
    "for word in word_tokenize(text):\n",
    "    result = stemmer.stem(word)\n",
    "    print(result)"
   ]
  },
  {
   "cell_type": "markdown",
   "metadata": {},
   "source": [
    "**Лемматизация - это более правильное приведение слова в начальную форму**"
   ]
  },
  {
   "cell_type": "code",
   "execution_count": 8,
   "metadata": {},
   "outputs": [
    {
     "name": "stdout",
     "output_type": "stream",
     "text": [
      "с\n",
      "велечайший\n",
      "усилие\n",
      "выбраться\n",
      "из\n",
      "поток\n",
      "убегать\n",
      "человек\n",
      "кутузов\n",
      "с\n",
      "свита\n",
      "уменьшевшийся\n",
      "вдвое\n",
      "поехать\n",
      "на\n",
      "звук\n",
      "выстрел\n",
      "русский\n",
      "орудие\n"
     ]
    }
   ],
   "source": [
    "morph = pymorphy2.MorphAnalyzer()\n",
    "for word in word_tokenize(text):\n",
    "    result = morph.parse(word)[0].normalized.word\n",
    "    print(result)"
   ]
  },
  {
   "cell_type": "markdown",
   "metadata": {},
   "source": [
    "3. Преобразуйте предложения из формулировки задания 1 в векторы при помощи `CountVectorizer`."
   ]
  },
  {
   "cell_type": "code",
   "execution_count": 9,
   "metadata": {},
   "outputs": [
    {
     "data": {
      "text/plain": [
       "['Считайте слова из файла `litw-win.txt` и запишите их в список `words`.',\n",
       " 'В заданном предложении исправьте все опечатки, заменив слова с опечатками на ближайшие (в смысле расстояния Левенштейна) к ним слова из списка `words`.',\n",
       " 'Считайте, что в слове есть опечатка, если данное слово не содержится в списке `words`.']"
      ]
     },
     "execution_count": 9,
     "metadata": {},
     "output_type": "execute_result"
    }
   ],
   "source": [
    "text = '''Считайте слова из файла `litw-win.txt` и запишите их в список `words`. В заданном предложении исправьте все опечатки, заменив слова с опечатками на ближайшие (в смысле расстояния Левенштейна) к ним слова из списка `words`. Считайте, что в слове есть опечатка, если данное слово не содержится в списке `words`. '''\n",
    "sents = sent_tokenize(text)\n",
    "sents"
   ]
  },
  {
   "cell_type": "code",
   "execution_count": 10,
   "metadata": {},
   "outputs": [
    {
     "data": {
      "text/plain": [
       "array([[1, 1, 1, 1, 0, 0, 0, 0, 0, 0, 0, 1, 1, 0, 1, 0, 0, 0, 0, 0, 0, 0,\n",
       "        0, 0, 1, 0, 0, 0, 0, 0, 0, 1, 1, 1, 0],\n",
       "       [0, 0, 0, 1, 1, 1, 0, 0, 0, 1, 1, 0, 1, 1, 0, 1, 1, 0, 1, 0, 1, 1,\n",
       "        1, 1, 2, 0, 0, 1, 0, 1, 0, 0, 0, 0, 0],\n",
       "       [0, 0, 0, 1, 0, 0, 1, 1, 1, 0, 0, 0, 0, 0, 0, 0, 0, 1, 0, 1, 0, 0,\n",
       "        0, 0, 0, 1, 1, 0, 1, 0, 1, 0, 1, 0, 1]])"
      ]
     },
     "execution_count": 10,
     "metadata": {},
     "output_type": "execute_result"
    }
   ],
   "source": [
    "cv = CountVectorizer()\n",
    "cv.fit(sents)\n",
    "sents_cv = cv.transform(sents).toarray()\n",
    "sents_cv"
   ]
  },
  {
   "cell_type": "code",
   "execution_count": 11,
   "metadata": {},
   "outputs": [
    {
     "data": {
      "text/plain": [
       "(3, 35)"
      ]
     },
     "execution_count": 11,
     "metadata": {},
     "output_type": "execute_result"
    }
   ],
   "source": [
    "sents_cv.shape"
   ]
  },
  {
   "cell_type": "code",
   "execution_count": null,
   "metadata": {},
   "outputs": [],
   "source": [
    "cv.vocabulary_"
   ]
  },
  {
   "cell_type": "markdown",
   "metadata": {},
   "source": [
    "## Лабораторная работа 9"
   ]
  },
  {
   "cell_type": "markdown",
   "metadata": {},
   "source": [
    "### Расстояние редактирования"
   ]
  },
  {
   "cell_type": "markdown",
   "metadata": {},
   "source": [
    "1.1 Загрузите предобработанные описания рецептов из файла `preprocessed_descriptions.csv`. Получите набор уникальных слов `words`, содержащихся в текстах описаний рецептов (воспользуйтесь `word_tokenize` из `nltk`). "
   ]
  },
  {
   "cell_type": "code",
   "execution_count": 13,
   "metadata": {},
   "outputs": [],
   "source": [
    "import pandas as pd\n",
    "from nltk.tokenize import word_tokenize"
   ]
  },
  {
   "cell_type": "code",
   "execution_count": 14,
   "metadata": {},
   "outputs": [
    {
     "data": {
      "text/html": [
       "<div>\n",
       "<style scoped>\n",
       "    .dataframe tbody tr th:only-of-type {\n",
       "        vertical-align: middle;\n",
       "    }\n",
       "\n",
       "    .dataframe tbody tr th {\n",
       "        vertical-align: top;\n",
       "    }\n",
       "\n",
       "    .dataframe thead th {\n",
       "        text-align: right;\n",
       "    }\n",
       "</style>\n",
       "<table border=\"1\" class=\"dataframe\">\n",
       "  <thead>\n",
       "    <tr style=\"text-align: right;\">\n",
       "      <th></th>\n",
       "      <th>Unnamed: 0</th>\n",
       "      <th>name</th>\n",
       "      <th>preprocessed_descriptions</th>\n",
       "    </tr>\n",
       "  </thead>\n",
       "  <tbody>\n",
       "    <tr>\n",
       "      <th>0</th>\n",
       "      <td>0</td>\n",
       "      <td>george s at the cove  black bean soup</td>\n",
       "      <td>an original recipe created by chef scott meska...</td>\n",
       "    </tr>\n",
       "    <tr>\n",
       "      <th>1</th>\n",
       "      <td>1</td>\n",
       "      <td>healthy for them  yogurt popsicles</td>\n",
       "      <td>my children and their friends ask for my homem...</td>\n",
       "    </tr>\n",
       "    <tr>\n",
       "      <th>2</th>\n",
       "      <td>2</td>\n",
       "      <td>i can t believe it s spinach</td>\n",
       "      <td>these were so go it surprised even me</td>\n",
       "    </tr>\n",
       "    <tr>\n",
       "      <th>3</th>\n",
       "      <td>3</td>\n",
       "      <td>italian  gut busters</td>\n",
       "      <td>my sisterinlaw made these for us at a family g...</td>\n",
       "    </tr>\n",
       "    <tr>\n",
       "      <th>4</th>\n",
       "      <td>4</td>\n",
       "      <td>love is in the air  beef fondue   sauces</td>\n",
       "      <td>i think a fondue is a very romantic casual din...</td>\n",
       "    </tr>\n",
       "    <tr>\n",
       "      <th>...</th>\n",
       "      <td>...</td>\n",
       "      <td>...</td>\n",
       "      <td>...</td>\n",
       "    </tr>\n",
       "    <tr>\n",
       "      <th>29995</th>\n",
       "      <td>29995</td>\n",
       "      <td>zurie s holey rustic olive and cheddar bread</td>\n",
       "      <td>this is based on a french recipe but i changed...</td>\n",
       "    </tr>\n",
       "    <tr>\n",
       "      <th>29996</th>\n",
       "      <td>29996</td>\n",
       "      <td>zwetschgenkuchen  bavarian plum cake</td>\n",
       "      <td>this is a traditional fresh plum cake thought ...</td>\n",
       "    </tr>\n",
       "    <tr>\n",
       "      <th>29997</th>\n",
       "      <td>29997</td>\n",
       "      <td>zwiebelkuchen   southwest german onion cake</td>\n",
       "      <td>this is a traditional late summer early fall s...</td>\n",
       "    </tr>\n",
       "    <tr>\n",
       "      <th>29998</th>\n",
       "      <td>29998</td>\n",
       "      <td>zydeco soup</td>\n",
       "      <td>this is a delicious soup that i originally fou...</td>\n",
       "    </tr>\n",
       "    <tr>\n",
       "      <th>29999</th>\n",
       "      <td>29999</td>\n",
       "      <td>cookies by design   cookies on a stick</td>\n",
       "      <td>ive heard of the cookies by design company but...</td>\n",
       "    </tr>\n",
       "  </tbody>\n",
       "</table>\n",
       "<p>30000 rows × 3 columns</p>\n",
       "</div>"
      ],
      "text/plain": [
       "       Unnamed: 0                                          name  \\\n",
       "0               0         george s at the cove  black bean soup   \n",
       "1               1            healthy for them  yogurt popsicles   \n",
       "2               2                  i can t believe it s spinach   \n",
       "3               3                          italian  gut busters   \n",
       "4               4      love is in the air  beef fondue   sauces   \n",
       "...           ...                                           ...   \n",
       "29995       29995  zurie s holey rustic olive and cheddar bread   \n",
       "29996       29996          zwetschgenkuchen  bavarian plum cake   \n",
       "29997       29997   zwiebelkuchen   southwest german onion cake   \n",
       "29998       29998                                   zydeco soup   \n",
       "29999       29999        cookies by design   cookies on a stick   \n",
       "\n",
       "                               preprocessed_descriptions  \n",
       "0      an original recipe created by chef scott meska...  \n",
       "1      my children and their friends ask for my homem...  \n",
       "2                  these were so go it surprised even me  \n",
       "3      my sisterinlaw made these for us at a family g...  \n",
       "4      i think a fondue is a very romantic casual din...  \n",
       "...                                                  ...  \n",
       "29995  this is based on a french recipe but i changed...  \n",
       "29996  this is a traditional fresh plum cake thought ...  \n",
       "29997  this is a traditional late summer early fall s...  \n",
       "29998  this is a delicious soup that i originally fou...  \n",
       "29999  ive heard of the cookies by design company but...  \n",
       "\n",
       "[30000 rows x 3 columns]"
      ]
     },
     "execution_count": 14,
     "metadata": {},
     "output_type": "execute_result"
    }
   ],
   "source": [
    "preprocessed_descriptions = pd.read_csv(\"./data/preprocessed_descriptions.csv\")\n",
    "preprocessed_descriptions"
   ]
  },
  {
   "cell_type": "code",
   "execution_count": null,
   "metadata": {},
   "outputs": [],
   "source": [
    "words_set = set()\n",
    "words_list = list()\n",
    "words = [word_tokenize(item) for item in preprocessed_descriptions[\"preprocessed_descriptions\"].to_list() if isinstance(item, str)]\n",
    "\n",
    "[[words_set.add(x) for x in item] for item in words]\n",
    "[[words_list.append(x) for x in item] for item in words]\n",
    "\n",
    "for item in words:\n",
    "    print(item)\n",
    "#for item in preprocessed_descriptions[\"preprocessed_descriptions\"].to_list():\n",
    "#    print(type(item))"
   ]
  },
  {
   "cell_type": "code",
   "execution_count": 16,
   "metadata": {},
   "outputs": [
    {
     "name": "stdout",
     "output_type": "stream",
     "text": [
      "Весего 1069254 слов\n",
      "Среди них 32868 уникальных\n"
     ]
    }
   ],
   "source": [
    "print(f\"Весего {len(words_list)} слов\\nСреди них {len(words_set)} уникальных\")"
   ]
  },
  {
   "cell_type": "markdown",
   "metadata": {},
   "source": [
    "1.2 Сгенерируйте 5 пар случайно выбранных слов и посчитайте между ними расстояние редактирования."
   ]
  },
  {
   "cell_type": "code",
   "execution_count": 17,
   "metadata": {},
   "outputs": [
    {
     "name": "stdout",
     "output_type": "stream",
     "text": [
      "8 fruitcake familystyle\n",
      "7 despair durcholz\n",
      "5 roast much\n",
      "7 cazuela occupies\n",
      "9 skilletsthe kaysville\n"
     ]
    }
   ],
   "source": [
    "import random\n",
    "data = random.sample(list(words_set), 10)\n",
    "for i in range(0,len(data),2):\n",
    "    x, y = data[i], data[i+1]\n",
    "    print(edit_distance(x, y), x, y)\n"
   ]
  },
  {
   "cell_type": "markdown",
   "metadata": {},
   "source": [
    "1.3 Напишите функцию, которая для заданного слова `word` возвращает `k` ближайших к нему слов из списка `words` (близость слов измеряется с помощью расстояния Левенштейна)<br>Список words с 1.1"
   ]
  },
  {
   "cell_type": "code",
   "execution_count": 18,
   "metadata": {},
   "outputs": [],
   "source": [
    "# Я все жду, когда Jupyter начнет 3.10 поддерживать с нативными generic typing\n",
    "from typing import Set, List"
   ]
  },
  {
   "cell_type": "code",
   "execution_count": 19,
   "metadata": {},
   "outputs": [],
   "source": [
    "def same_words(word: str, k: int, words_data: Set[str]) -> List[str]:\n",
    "    \"\"\"Функция для возврата k подобных слов для word из коллекции words_data\"\"\"\n",
    "    buf_tuple = [(edit_distance(word, item), item) for item in words_data]\n",
    "    buf_tuple.sort(key=lambda x: x[0])\n",
    "    return buf_tuple[:k]"
   ]
  },
  {
   "cell_type": "code",
   "execution_count": 20,
   "metadata": {},
   "outputs": [
    {
     "data": {
      "text/plain": [
       "[(0, 'seedless'),\n",
       " (1, 'needless'),\n",
       " (2, 'needles'),\n",
       " (2, 'endless'),\n",
       " (3, 'needle'),\n",
       " (3, 'seeds'),\n",
       " (3, 'sweetness'),\n",
       " (3, 'seeded'),\n",
       " (3, 'swedes'),\n",
       " (3, 'feeders'),\n",
       " (3, 'eggless')]"
      ]
     },
     "execution_count": 20,
     "metadata": {},
     "output_type": "execute_result"
    }
   ],
   "source": [
    "same_words(\"seedless\", 11, words_set)"
   ]
  },
  {
   "cell_type": "markdown",
   "metadata": {},
   "source": [
    "### Стемминг, лемматизация"
   ]
  },
  {
   "cell_type": "markdown",
   "metadata": {},
   "source": [
    "2.1 На основе результатов 1.1 создайте `pd.DataFrame` со столбцами: \n",
    "    * word\n",
    "    * stemmed_word \n",
    "    * normalized_word \n",
    "\n",
    "Столбец `word` укажите в качестве индекса. \n",
    "\n",
    "Для стемминга воспользуйтесь `SnowballStemmer`, для лемматизации слов - `WordNetLemmatizer`. Сравните результаты стемминга и лемматизации."
   ]
  },
  {
   "cell_type": "code",
   "execution_count": 21,
   "metadata": {},
   "outputs": [],
   "source": [
    "from nltk.stem import WordNetLemmatizer, SnowballStemmer\n",
    "\n",
    "lemmatizer = WordNetLemmatizer()\n",
    "stemmer = SnowballStemmer('english')"
   ]
  },
  {
   "cell_type": "code",
   "execution_count": 22,
   "metadata": {},
   "outputs": [
    {
     "data": {
      "text/html": [
       "<div>\n",
       "<style scoped>\n",
       "    .dataframe tbody tr th:only-of-type {\n",
       "        vertical-align: middle;\n",
       "    }\n",
       "\n",
       "    .dataframe tbody tr th {\n",
       "        vertical-align: top;\n",
       "    }\n",
       "\n",
       "    .dataframe thead th {\n",
       "        text-align: right;\n",
       "    }\n",
       "</style>\n",
       "<table border=\"1\" class=\"dataframe\">\n",
       "  <thead>\n",
       "    <tr style=\"text-align: right;\">\n",
       "      <th></th>\n",
       "      <th>word</th>\n",
       "      <th>stemmed_word</th>\n",
       "      <th>normalized_word</th>\n",
       "    </tr>\n",
       "  </thead>\n",
       "  <tbody>\n",
       "    <tr>\n",
       "      <th>61</th>\n",
       "      <td>titled</td>\n",
       "      <td>titl</td>\n",
       "      <td>title</td>\n",
       "    </tr>\n",
       "    <tr>\n",
       "      <th>153</th>\n",
       "      <td>found</td>\n",
       "      <td>found</td>\n",
       "      <td>find</td>\n",
       "    </tr>\n",
       "    <tr>\n",
       "      <th>163</th>\n",
       "      <td>stuffing</td>\n",
       "      <td>stuf</td>\n",
       "      <td>stuff</td>\n",
       "    </tr>\n",
       "    <tr>\n",
       "      <th>206</th>\n",
       "      <td>served</td>\n",
       "      <td>serv</td>\n",
       "      <td>serve</td>\n",
       "    </tr>\n",
       "    <tr>\n",
       "      <th>228</th>\n",
       "      <td>worrying</td>\n",
       "      <td>worri</td>\n",
       "      <td>worry</td>\n",
       "    </tr>\n",
       "    <tr>\n",
       "      <th>...</th>\n",
       "      <td>...</td>\n",
       "      <td>...</td>\n",
       "      <td>...</td>\n",
       "    </tr>\n",
       "    <tr>\n",
       "      <th>32612</th>\n",
       "      <td>stuck</td>\n",
       "      <td>stuck</td>\n",
       "      <td>stick</td>\n",
       "    </tr>\n",
       "    <tr>\n",
       "      <th>32692</th>\n",
       "      <td>agrees</td>\n",
       "      <td>agre</td>\n",
       "      <td>agree</td>\n",
       "    </tr>\n",
       "    <tr>\n",
       "      <th>32699</th>\n",
       "      <td>tasted</td>\n",
       "      <td>tast</td>\n",
       "      <td>taste</td>\n",
       "    </tr>\n",
       "    <tr>\n",
       "      <th>32728</th>\n",
       "      <td>plunging</td>\n",
       "      <td>plung</td>\n",
       "      <td>plunge</td>\n",
       "    </tr>\n",
       "    <tr>\n",
       "      <th>32849</th>\n",
       "      <td>cringed</td>\n",
       "      <td>cring</td>\n",
       "      <td>cringe</td>\n",
       "    </tr>\n",
       "  </tbody>\n",
       "</table>\n",
       "<p>1309 rows × 3 columns</p>\n",
       "</div>"
      ],
      "text/plain": [
       "           word stemmed_word normalized_word\n",
       "61       titled         titl           title\n",
       "153       found        found            find\n",
       "163    stuffing         stuf           stuff\n",
       "206      served         serv           serve\n",
       "228    worrying        worri           worry\n",
       "...         ...          ...             ...\n",
       "32612     stuck        stuck           stick\n",
       "32692    agrees         agre           agree\n",
       "32699    tasted         tast           taste\n",
       "32728  plunging        plung          plunge\n",
       "32849   cringed        cring          cringe\n",
       "\n",
       "[1309 rows x 3 columns]"
      ]
     },
     "execution_count": 22,
     "metadata": {},
     "output_type": "execute_result"
    }
   ],
   "source": [
    "words_df = pd.DataFrame(words_set)\n",
    "words_df.columns = ['word']\n",
    "words_df['stemmed_word'] = words_df.apply(lambda x: stemmer.stem(x[\"word\"]), axis=1)\n",
    "words_df['normalized_word'] = words_df.apply(lambda x: lemmatizer.lemmatize(x[\"word\"], \"v\"), axis=1)\n",
    "words_df[(words_df[\"word\"] != words_df[\"normalized_word\"]) & (words_df[\"stemmed_word\"] != words_df[\"normalized_word\"])]\n"
   ]
  },
  {
   "cell_type": "markdown",
   "metadata": {},
   "source": [
    "2.2. Удалите стоп-слова из описаний рецептов. Какую долю об общего количества слов составляли стоп-слова? Сравните топ-10 самых часто употребляемых слов до и после удаления стоп-слов."
   ]
  },
  {
   "cell_type": "code",
   "execution_count": 23,
   "metadata": {},
   "outputs": [],
   "source": [
    "#import nltk\n",
    "#nltk.download('stopwords')"
   ]
  },
  {
   "cell_type": "code",
   "execution_count": 24,
   "metadata": {},
   "outputs": [],
   "source": [
    "import nltk\n",
    "from nltk.corpus import stopwords\n",
    "stopwords_set = set(stopwords.words('english'))"
   ]
  },
  {
   "cell_type": "code",
   "execution_count": 25,
   "metadata": {},
   "outputs": [
    {
     "name": "stdout",
     "output_type": "stream",
     "text": [
      "Всего слов: 1069254\n",
      "С удалением стоп-слов: 580889\n",
      "Доля стоп-слов: 54.33%\n"
     ]
    }
   ],
   "source": [
    "words_filtered = [item for item in words_list if item not in stopwords_set]\n",
    "diff = round(len(words_filtered)/len(words_list)*100,2)\n",
    "print(f\"Всего слов: {len(words_list)}\\nС удалением стоп-слов: {len(words_filtered)}\\nДоля стоп-слов: {diff}%\")"
   ]
  },
  {
   "cell_type": "markdown",
   "metadata": {},
   "source": [
    "Топ-10 слов до удаления"
   ]
  },
  {
   "cell_type": "code",
   "execution_count": 26,
   "metadata": {},
   "outputs": [
    {
     "name": "stdout",
     "output_type": "stream",
     "text": [
      "40072 -> the\n",
      "34951 -> a\n",
      "30245 -> and\n",
      "26859 -> this\n",
      "24836 -> i\n",
      "23471 -> to\n",
      "20285 -> is\n",
      "19756 -> it\n",
      "18364 -> of\n",
      "15939 -> for\n"
     ]
    }
   ],
   "source": [
    "freq = nltk.FreqDist(words_list)\n",
    "for word, number in freq.most_common(10):\n",
    "    print(f\"{number} -> {word}\")"
   ]
  },
  {
   "cell_type": "markdown",
   "metadata": {},
   "source": [
    "Топ-10 слов после удаления"
   ]
  },
  {
   "cell_type": "code",
   "execution_count": 27,
   "metadata": {},
   "outputs": [
    {
     "name": "stdout",
     "output_type": "stream",
     "text": [
      "14871 -> recipe\n",
      "6326 -> make\n",
      "5137 -> time\n",
      "4620 -> use\n",
      "4430 -> great\n",
      "4167 -> like\n",
      "4152 -> easy\n",
      "3872 -> one\n",
      "3810 -> made\n",
      "3791 -> good\n"
     ]
    }
   ],
   "source": [
    "freq = nltk.FreqDist(words_filtered)\n",
    "for word, number in freq.most_common(10):\n",
    "    print(f\"{number} -> {word}\")"
   ]
  },
  {
   "cell_type": "markdown",
   "metadata": {},
   "source": [
    "### Векторное представление текста"
   ]
  },
  {
   "cell_type": "markdown",
   "metadata": {},
   "source": [
    "3.1 Выберите случайным образом 5 рецептов из набора данных. Представьте описание каждого рецепта в виде числового вектора при помощи `TfidfVectorizer`"
   ]
  },
  {
   "cell_type": "code",
   "execution_count": 28,
   "metadata": {},
   "outputs": [],
   "source": [
    "from sklearn.feature_extraction.text import TfidfVectorizer"
   ]
  },
  {
   "cell_type": "code",
   "execution_count": 29,
   "metadata": {},
   "outputs": [
    {
     "data": {
      "text/html": [
       "<div>\n",
       "<style scoped>\n",
       "    .dataframe tbody tr th:only-of-type {\n",
       "        vertical-align: middle;\n",
       "    }\n",
       "\n",
       "    .dataframe tbody tr th {\n",
       "        vertical-align: top;\n",
       "    }\n",
       "\n",
       "    .dataframe thead th {\n",
       "        text-align: right;\n",
       "    }\n",
       "</style>\n",
       "<table border=\"1\" class=\"dataframe\">\n",
       "  <thead>\n",
       "    <tr style=\"text-align: right;\">\n",
       "      <th></th>\n",
       "      <th>Unnamed: 0</th>\n",
       "      <th>name</th>\n",
       "      <th>preprocessed_descriptions</th>\n",
       "    </tr>\n",
       "  </thead>\n",
       "  <tbody>\n",
       "    <tr>\n",
       "      <th>24317</th>\n",
       "      <td>24317</td>\n",
       "      <td>simply delicious cookies</td>\n",
       "      <td>these are sooooo good recipe makes a lot but t...</td>\n",
       "    </tr>\n",
       "    <tr>\n",
       "      <th>5874</th>\n",
       "      <td>5874</td>\n",
       "      <td>chicken paprikash  aka  sour cream soup</td>\n",
       "      <td>a great hungarian meal my italian grandmother ...</td>\n",
       "    </tr>\n",
       "    <tr>\n",
       "      <th>12448</th>\n",
       "      <td>12448</td>\n",
       "      <td>grandpa long s blueberry cake</td>\n",
       "      <td>my mother recommended i post this recipe as sh...</td>\n",
       "    </tr>\n",
       "    <tr>\n",
       "      <th>9393</th>\n",
       "      <td>9393</td>\n",
       "      <td>dhal soup</td>\n",
       "      <td>dhal is a term traditionally used to describe ...</td>\n",
       "    </tr>\n",
       "    <tr>\n",
       "      <th>27161</th>\n",
       "      <td>27161</td>\n",
       "      <td>tex mex cornbread</td>\n",
       "      <td>this is an easy yet tasty cornbread i serve it...</td>\n",
       "    </tr>\n",
       "  </tbody>\n",
       "</table>\n",
       "</div>"
      ],
      "text/plain": [
       "       Unnamed: 0                                     name  \\\n",
       "24317       24317                 simply delicious cookies   \n",
       "5874         5874  chicken paprikash  aka  sour cream soup   \n",
       "12448       12448            grandpa long s blueberry cake   \n",
       "9393         9393                                dhal soup   \n",
       "27161       27161                        tex mex cornbread   \n",
       "\n",
       "                               preprocessed_descriptions  \n",
       "24317  these are sooooo good recipe makes a lot but t...  \n",
       "5874   a great hungarian meal my italian grandmother ...  \n",
       "12448  my mother recommended i post this recipe as sh...  \n",
       "9393   dhal is a term traditionally used to describe ...  \n",
       "27161  this is an easy yet tasty cornbread i serve it...  "
      ]
     },
     "execution_count": 29,
     "metadata": {},
     "output_type": "execute_result"
    }
   ],
   "source": [
    "preprocessed_descriptions = pd.read_csv(\"./data/preprocessed_descriptions.csv\")\n",
    "data = preprocessed_descriptions.sample(5)\n",
    "data"
   ]
  },
  {
   "cell_type": "markdown",
   "metadata": {},
   "source": [
    "## Через fit для всего датасета, transform для конкретного предложения"
   ]
  },
  {
   "cell_type": "code",
   "execution_count": 30,
   "metadata": {},
   "outputs": [],
   "source": [
    "vectorizer = TfidfVectorizer(analyzer=\"word\", stop_words=\"english\")\n",
    "vectorizer.fit(data[\"preprocessed_descriptions\"])\n",
    "\n",
    "def vectorizer_processing(x):\n",
    "    sents = [x[\"preprocessed_descriptions\"]]\n",
    "    vector = vectorizer.transform(sents)\n",
    "    return vector.toarray()\n",
    "\n",
    "data['TfidfVectorizer'] = data.apply(lambda x: vectorizer_processing(x), axis=1)"
   ]
  },
  {
   "cell_type": "code",
   "execution_count": null,
   "metadata": {
    "scrolled": true
   },
   "outputs": [],
   "source": [
    "valuess = [(k,v) for (k, v) in dict(vectorizer.vocabulary_).items()]\n",
    "valuess.sort(key=lambda x: x[1])\n",
    "valuess"
   ]
  },
  {
   "cell_type": "code",
   "execution_count": null,
   "metadata": {},
   "outputs": [],
   "source": [
    "for word, vector in zip(data[\"preprocessed_descriptions\"].to_list(), data[\"TfidfVectorizer\"].to_list()):\n",
    "    print(vector.shape)\n",
    "    print(f\"{word}\\n{vector}\\n{'-'*10}\\n\")"
   ]
  },
  {
   "cell_type": "markdown",
   "metadata": {},
   "source": [
    "## Через fit_transform для всего датасета"
   ]
  },
  {
   "cell_type": "code",
   "execution_count": 33,
   "metadata": {},
   "outputs": [
    {
     "data": {
      "text/plain": [
       "(5, 65)"
      ]
     },
     "execution_count": 33,
     "metadata": {},
     "output_type": "execute_result"
    }
   ],
   "source": [
    "vectorizer2 = TfidfVectorizer(analyzer=\"word\", stop_words=\"english\")\n",
    "transform2 = vectorizer2.fit_transform(data[\"preprocessed_descriptions\"].to_list())\n",
    "transform2.shape"
   ]
  },
  {
   "cell_type": "code",
   "execution_count": null,
   "metadata": {
    "scrolled": true
   },
   "outputs": [],
   "source": [
    "valuess = [(k,v) for (k, v) in dict(vectorizer2.vocabulary_).items()]\n",
    "valuess.sort(key=lambda x: x[1])\n",
    "valuess"
   ]
  },
  {
   "cell_type": "code",
   "execution_count": 35,
   "metadata": {},
   "outputs": [],
   "source": [
    "buffer_list = []"
   ]
  },
  {
   "cell_type": "code",
   "execution_count": null,
   "metadata": {
    "scrolled": true
   },
   "outputs": [],
   "source": [
    "for text, narray in zip(data[\"preprocessed_descriptions\"].to_list(), transform2.toarray()):\n",
    "    print(narray)\n",
    "    print(f\"\\n*{text}*\\n\")\n",
    "    for index, koeff in enumerate(narray):\n",
    "        word = vectorizer2.get_feature_names()[index]\n",
    "        print(f\"{index}. {word} -> {koeff}\")\n",
    "    \n",
    "    print(\"------------\\n\")"
   ]
  },
  {
   "cell_type": "code",
   "execution_count": 37,
   "metadata": {},
   "outputs": [
    {
     "data": {
      "text/html": [
       "<div>\n",
       "<style scoped>\n",
       "    .dataframe tbody tr th:only-of-type {\n",
       "        vertical-align: middle;\n",
       "    }\n",
       "\n",
       "    .dataframe tbody tr th {\n",
       "        vertical-align: top;\n",
       "    }\n",
       "\n",
       "    .dataframe thead th {\n",
       "        text-align: right;\n",
       "    }\n",
       "</style>\n",
       "<table border=\"1\" class=\"dataframe\">\n",
       "  <thead>\n",
       "    <tr style=\"text-align: right;\">\n",
       "      <th></th>\n",
       "      <th>10</th>\n",
       "      <th>asked</th>\n",
       "      <th>childhood</th>\n",
       "      <th>chili</th>\n",
       "      <th>choice</th>\n",
       "      <th>choys</th>\n",
       "      <th>community</th>\n",
       "      <th>cookbook</th>\n",
       "      <th>cookie</th>\n",
       "      <th>cookies</th>\n",
       "      <th>...</th>\n",
       "      <th>spicy</th>\n",
       "      <th>swap</th>\n",
       "      <th>tasty</th>\n",
       "      <th>term</th>\n",
       "      <th>traditionally</th>\n",
       "      <th>travel</th>\n",
       "      <th>use</th>\n",
       "      <th>used</th>\n",
       "      <th>winter</th>\n",
       "      <th>years</th>\n",
       "    </tr>\n",
       "  </thead>\n",
       "  <tbody>\n",
       "    <tr>\n",
       "      <th>0</th>\n",
       "      <td>0.17275</td>\n",
       "      <td>0.000000</td>\n",
       "      <td>0.000000</td>\n",
       "      <td>0.000000</td>\n",
       "      <td>0.000000</td>\n",
       "      <td>0.00000</td>\n",
       "      <td>0.17275</td>\n",
       "      <td>0.17275</td>\n",
       "      <td>0.17275</td>\n",
       "      <td>0.3455</td>\n",
       "      <td>...</td>\n",
       "      <td>0.00000</td>\n",
       "      <td>0.17275</td>\n",
       "      <td>0.000000</td>\n",
       "      <td>0.00000</td>\n",
       "      <td>0.00000</td>\n",
       "      <td>0.17275</td>\n",
       "      <td>0.000000</td>\n",
       "      <td>0.00000</td>\n",
       "      <td>0.000000</td>\n",
       "      <td>0.17275</td>\n",
       "    </tr>\n",
       "    <tr>\n",
       "      <th>1</th>\n",
       "      <td>0.00000</td>\n",
       "      <td>0.000000</td>\n",
       "      <td>0.000000</td>\n",
       "      <td>0.000000</td>\n",
       "      <td>0.000000</td>\n",
       "      <td>0.00000</td>\n",
       "      <td>0.00000</td>\n",
       "      <td>0.00000</td>\n",
       "      <td>0.00000</td>\n",
       "      <td>0.0000</td>\n",
       "      <td>...</td>\n",
       "      <td>0.00000</td>\n",
       "      <td>0.00000</td>\n",
       "      <td>0.000000</td>\n",
       "      <td>0.00000</td>\n",
       "      <td>0.00000</td>\n",
       "      <td>0.00000</td>\n",
       "      <td>0.239987</td>\n",
       "      <td>0.00000</td>\n",
       "      <td>0.000000</td>\n",
       "      <td>0.00000</td>\n",
       "    </tr>\n",
       "    <tr>\n",
       "      <th>2</th>\n",
       "      <td>0.00000</td>\n",
       "      <td>0.233751</td>\n",
       "      <td>0.233751</td>\n",
       "      <td>0.000000</td>\n",
       "      <td>0.233751</td>\n",
       "      <td>0.00000</td>\n",
       "      <td>0.00000</td>\n",
       "      <td>0.00000</td>\n",
       "      <td>0.00000</td>\n",
       "      <td>0.0000</td>\n",
       "      <td>...</td>\n",
       "      <td>0.00000</td>\n",
       "      <td>0.00000</td>\n",
       "      <td>0.000000</td>\n",
       "      <td>0.00000</td>\n",
       "      <td>0.00000</td>\n",
       "      <td>0.00000</td>\n",
       "      <td>0.188589</td>\n",
       "      <td>0.00000</td>\n",
       "      <td>0.000000</td>\n",
       "      <td>0.00000</td>\n",
       "    </tr>\n",
       "    <tr>\n",
       "      <th>3</th>\n",
       "      <td>0.00000</td>\n",
       "      <td>0.000000</td>\n",
       "      <td>0.000000</td>\n",
       "      <td>0.000000</td>\n",
       "      <td>0.000000</td>\n",
       "      <td>0.27735</td>\n",
       "      <td>0.00000</td>\n",
       "      <td>0.00000</td>\n",
       "      <td>0.00000</td>\n",
       "      <td>0.0000</td>\n",
       "      <td>...</td>\n",
       "      <td>0.27735</td>\n",
       "      <td>0.00000</td>\n",
       "      <td>0.000000</td>\n",
       "      <td>0.27735</td>\n",
       "      <td>0.27735</td>\n",
       "      <td>0.00000</td>\n",
       "      <td>0.000000</td>\n",
       "      <td>0.27735</td>\n",
       "      <td>0.000000</td>\n",
       "      <td>0.00000</td>\n",
       "    </tr>\n",
       "    <tr>\n",
       "      <th>4</th>\n",
       "      <td>0.00000</td>\n",
       "      <td>0.000000</td>\n",
       "      <td>0.000000</td>\n",
       "      <td>0.377964</td>\n",
       "      <td>0.000000</td>\n",
       "      <td>0.00000</td>\n",
       "      <td>0.00000</td>\n",
       "      <td>0.00000</td>\n",
       "      <td>0.00000</td>\n",
       "      <td>0.0000</td>\n",
       "      <td>...</td>\n",
       "      <td>0.00000</td>\n",
       "      <td>0.00000</td>\n",
       "      <td>0.377964</td>\n",
       "      <td>0.00000</td>\n",
       "      <td>0.00000</td>\n",
       "      <td>0.00000</td>\n",
       "      <td>0.000000</td>\n",
       "      <td>0.00000</td>\n",
       "      <td>0.377964</td>\n",
       "      <td>0.00000</td>\n",
       "    </tr>\n",
       "  </tbody>\n",
       "</table>\n",
       "<p>5 rows × 65 columns</p>\n",
       "</div>"
      ],
      "text/plain": [
       "        10     asked  childhood     chili    choice    choys  community  \\\n",
       "0  0.17275  0.000000   0.000000  0.000000  0.000000  0.00000    0.17275   \n",
       "1  0.00000  0.000000   0.000000  0.000000  0.000000  0.00000    0.00000   \n",
       "2  0.00000  0.233751   0.233751  0.000000  0.233751  0.00000    0.00000   \n",
       "3  0.00000  0.000000   0.000000  0.000000  0.000000  0.27735    0.00000   \n",
       "4  0.00000  0.000000   0.000000  0.377964  0.000000  0.00000    0.00000   \n",
       "\n",
       "   cookbook   cookie  cookies  ...    spicy     swap     tasty     term  \\\n",
       "0   0.17275  0.17275   0.3455  ...  0.00000  0.17275  0.000000  0.00000   \n",
       "1   0.00000  0.00000   0.0000  ...  0.00000  0.00000  0.000000  0.00000   \n",
       "2   0.00000  0.00000   0.0000  ...  0.00000  0.00000  0.000000  0.00000   \n",
       "3   0.00000  0.00000   0.0000  ...  0.27735  0.00000  0.000000  0.27735   \n",
       "4   0.00000  0.00000   0.0000  ...  0.00000  0.00000  0.377964  0.00000   \n",
       "\n",
       "   traditionally   travel       use     used    winter    years  \n",
       "0        0.00000  0.17275  0.000000  0.00000  0.000000  0.17275  \n",
       "1        0.00000  0.00000  0.239987  0.00000  0.000000  0.00000  \n",
       "2        0.00000  0.00000  0.188589  0.00000  0.000000  0.00000  \n",
       "3        0.27735  0.00000  0.000000  0.27735  0.000000  0.00000  \n",
       "4        0.00000  0.00000  0.000000  0.00000  0.377964  0.00000  \n",
       "\n",
       "[5 rows x 65 columns]"
      ]
     },
     "execution_count": 37,
     "metadata": {},
     "output_type": "execute_result"
    }
   ],
   "source": [
    "df = pd.DataFrame(transform2.toarray(), columns = vectorizer2.get_feature_names())\n",
    "df"
   ]
  },
  {
   "cell_type": "markdown",
   "metadata": {},
   "source": [
    "3.2 Вычислите близость между каждой парой рецептов, выбранных в задании 3.1, используя косинусное расстояние (`scipy.spatial.distance.cosine`) Результаты оформите в виде таблицы `pd.DataFrame`. В качестве названий строк и столбцов используйте названия рецептов."
   ]
  },
  {
   "cell_type": "markdown",
   "metadata": {},
   "source": [
    "## Через перемножение Numpy"
   ]
  },
  {
   "cell_type": "code",
   "execution_count": 38,
   "metadata": {},
   "outputs": [
    {
     "data": {
      "text/html": [
       "<div>\n",
       "<style scoped>\n",
       "    .dataframe tbody tr th:only-of-type {\n",
       "        vertical-align: middle;\n",
       "    }\n",
       "\n",
       "    .dataframe tbody tr th {\n",
       "        vertical-align: top;\n",
       "    }\n",
       "\n",
       "    .dataframe thead th {\n",
       "        text-align: right;\n",
       "    }\n",
       "</style>\n",
       "<table border=\"1\" class=\"dataframe\">\n",
       "  <thead>\n",
       "    <tr style=\"text-align: right;\">\n",
       "      <th></th>\n",
       "      <th>Unnamed: 0</th>\n",
       "      <th>name</th>\n",
       "      <th>preprocessed_descriptions</th>\n",
       "      <th>TfidfVectorizer</th>\n",
       "    </tr>\n",
       "  </thead>\n",
       "  <tbody>\n",
       "    <tr>\n",
       "      <th>24317</th>\n",
       "      <td>24317</td>\n",
       "      <td>simply delicious cookies</td>\n",
       "      <td>these are sooooo good recipe makes a lot but t...</td>\n",
       "      <td>[[0.17275006689808725, 0.0, 0.0, 0.0, 0.0, 0.0...</td>\n",
       "    </tr>\n",
       "    <tr>\n",
       "      <th>5874</th>\n",
       "      <td>5874</td>\n",
       "      <td>chicken paprikash  aka  sour cream soup</td>\n",
       "      <td>a great hungarian meal my italian grandmother ...</td>\n",
       "      <td>[[0.0, 0.0, 0.0, 0.0, 0.0, 0.0, 0.0, 0.0, 0.0,...</td>\n",
       "    </tr>\n",
       "    <tr>\n",
       "      <th>12448</th>\n",
       "      <td>12448</td>\n",
       "      <td>grandpa long s blueberry cake</td>\n",
       "      <td>my mother recommended i post this recipe as sh...</td>\n",
       "      <td>[[0.0, 0.2337505900744905, 0.2337505900744905,...</td>\n",
       "    </tr>\n",
       "    <tr>\n",
       "      <th>9393</th>\n",
       "      <td>9393</td>\n",
       "      <td>dhal soup</td>\n",
       "      <td>dhal is a term traditionally used to describe ...</td>\n",
       "      <td>[[0.0, 0.0, 0.0, 0.0, 0.0, 0.2773500981126146,...</td>\n",
       "    </tr>\n",
       "    <tr>\n",
       "      <th>27161</th>\n",
       "      <td>27161</td>\n",
       "      <td>tex mex cornbread</td>\n",
       "      <td>this is an easy yet tasty cornbread i serve it...</td>\n",
       "      <td>[[0.0, 0.0, 0.0, 0.3779644730092272, 0.0, 0.0,...</td>\n",
       "    </tr>\n",
       "  </tbody>\n",
       "</table>\n",
       "</div>"
      ],
      "text/plain": [
       "       Unnamed: 0                                     name  \\\n",
       "24317       24317                 simply delicious cookies   \n",
       "5874         5874  chicken paprikash  aka  sour cream soup   \n",
       "12448       12448            grandpa long s blueberry cake   \n",
       "9393         9393                                dhal soup   \n",
       "27161       27161                        tex mex cornbread   \n",
       "\n",
       "                               preprocessed_descriptions  \\\n",
       "24317  these are sooooo good recipe makes a lot but t...   \n",
       "5874   a great hungarian meal my italian grandmother ...   \n",
       "12448  my mother recommended i post this recipe as sh...   \n",
       "9393   dhal is a term traditionally used to describe ...   \n",
       "27161  this is an easy yet tasty cornbread i serve it...   \n",
       "\n",
       "                                         TfidfVectorizer  \n",
       "24317  [[0.17275006689808725, 0.0, 0.0, 0.0, 0.0, 0.0...  \n",
       "5874   [[0.0, 0.0, 0.0, 0.0, 0.0, 0.0, 0.0, 0.0, 0.0,...  \n",
       "12448  [[0.0, 0.2337505900744905, 0.2337505900744905,...  \n",
       "9393   [[0.0, 0.0, 0.0, 0.0, 0.0, 0.2773500981126146,...  \n",
       "27161  [[0.0, 0.0, 0.0, 0.3779644730092272, 0.0, 0.0,...  "
      ]
     },
     "execution_count": 38,
     "metadata": {},
     "output_type": "execute_result"
    }
   ],
   "source": [
    "data"
   ]
  },
  {
   "cell_type": "code",
   "execution_count": 39,
   "metadata": {},
   "outputs": [],
   "source": [
    "vectorizer = TfidfVectorizer(analyzer=\"word\", stop_words=\"english\")\n",
    "fit_transform = vectorizer2.fit_transform(data[\"preprocessed_descriptions\"].to_list())"
   ]
  },
  {
   "cell_type": "code",
   "execution_count": 40,
   "metadata": {
    "scrolled": true
   },
   "outputs": [
    {
     "data": {
      "text/plain": [
       "array([[1.        , 0.0334479 , 0.07885281, 0.        , 0.        ],\n",
       "       [0.0334479 , 1.        , 0.04525883, 0.        , 0.        ],\n",
       "       [0.07885281, 0.04525883, 1.        , 0.        , 0.        ],\n",
       "       [0.        , 0.        , 0.        , 1.        , 0.        ],\n",
       "       [0.        , 0.        , 0.        , 0.        , 1.        ]])"
      ]
     },
     "execution_count": 40,
     "metadata": {},
     "output_type": "execute_result"
    }
   ],
   "source": [
    "final1 = (transform2 * transform2.T).toarray()\n",
    "final1"
   ]
  },
  {
   "cell_type": "code",
   "execution_count": 41,
   "metadata": {},
   "outputs": [
    {
     "data": {
      "text/html": [
       "<div>\n",
       "<style scoped>\n",
       "    .dataframe tbody tr th:only-of-type {\n",
       "        vertical-align: middle;\n",
       "    }\n",
       "\n",
       "    .dataframe tbody tr th {\n",
       "        vertical-align: top;\n",
       "    }\n",
       "\n",
       "    .dataframe thead th {\n",
       "        text-align: right;\n",
       "    }\n",
       "</style>\n",
       "<table border=\"1\" class=\"dataframe\">\n",
       "  <thead>\n",
       "    <tr style=\"text-align: right;\">\n",
       "      <th></th>\n",
       "      <th>these are sooooo good recipe makes a lot but they go quickly the cookies freeze well but do not travel well i got the recipe from a community cookbook and have enjoyed making them for years especially around the holidays recipe makes about 10 dozen cookies so they are great for a cookie swap party</th>\n",
       "      <th>a great hungarian meal my italian grandmother use to make this for my hungarian grandfather this is how i remembered how it was made</th>\n",
       "      <th>my mother recommended i post this recipe as she remembers it from her childhood  i asked her if it had a frosting to go with it and she said it never lasted long enough to be frosted  so enjoy it plain or use your choice of frosting</th>\n",
       "      <th>dhal is a term traditionally used to describe a spicy dish made with lentils or other legumes  from sam choys polynesian kitchen  fiji</th>\n",
       "      <th>this is an easy yet tasty cornbread i serve it in the winter with soup or chili</th>\n",
       "    </tr>\n",
       "  </thead>\n",
       "  <tbody>\n",
       "    <tr>\n",
       "      <th>these are sooooo good recipe makes a lot but they go quickly the cookies freeze well but do not travel well i got the recipe from a community cookbook and have enjoyed making them for years especially around the holidays recipe makes about 10 dozen cookies so they are great for a cookie swap party</th>\n",
       "      <td>1.000000</td>\n",
       "      <td>0.033448</td>\n",
       "      <td>0.078853</td>\n",
       "      <td>0.0</td>\n",
       "      <td>0.0</td>\n",
       "    </tr>\n",
       "    <tr>\n",
       "      <th>a great hungarian meal my italian grandmother use to make this for my hungarian grandfather this is how i remembered how it was made</th>\n",
       "      <td>0.033448</td>\n",
       "      <td>1.000000</td>\n",
       "      <td>0.045259</td>\n",
       "      <td>0.0</td>\n",
       "      <td>0.0</td>\n",
       "    </tr>\n",
       "    <tr>\n",
       "      <th>my mother recommended i post this recipe as she remembers it from her childhood  i asked her if it had a frosting to go with it and she said it never lasted long enough to be frosted  so enjoy it plain or use your choice of frosting</th>\n",
       "      <td>0.078853</td>\n",
       "      <td>0.045259</td>\n",
       "      <td>1.000000</td>\n",
       "      <td>0.0</td>\n",
       "      <td>0.0</td>\n",
       "    </tr>\n",
       "    <tr>\n",
       "      <th>dhal is a term traditionally used to describe a spicy dish made with lentils or other legumes  from sam choys polynesian kitchen  fiji</th>\n",
       "      <td>0.000000</td>\n",
       "      <td>0.000000</td>\n",
       "      <td>0.000000</td>\n",
       "      <td>1.0</td>\n",
       "      <td>0.0</td>\n",
       "    </tr>\n",
       "    <tr>\n",
       "      <th>this is an easy yet tasty cornbread i serve it in the winter with soup or chili</th>\n",
       "      <td>0.000000</td>\n",
       "      <td>0.000000</td>\n",
       "      <td>0.000000</td>\n",
       "      <td>0.0</td>\n",
       "      <td>1.0</td>\n",
       "    </tr>\n",
       "  </tbody>\n",
       "</table>\n",
       "</div>"
      ],
      "text/plain": [
       "                                                    these are sooooo good recipe makes a lot but they go quickly the cookies freeze well but do not travel well i got the recipe from a community cookbook and have enjoyed making them for years especially around the holidays recipe makes about 10 dozen cookies so they are great for a cookie swap party  \\\n",
       "these are sooooo good recipe makes a lot but th...                                           1.000000                                                                                                                                                                                                                                                            \n",
       "a great hungarian meal my italian grandmother u...                                           0.033448                                                                                                                                                                                                                                                            \n",
       "my mother recommended i post this recipe as she...                                           0.078853                                                                                                                                                                                                                                                            \n",
       "dhal is a term traditionally used to describe a...                                           0.000000                                                                                                                                                                                                                                                            \n",
       "this is an easy yet tasty cornbread i serve it ...                                           0.000000                                                                                                                                                                                                                                                            \n",
       "\n",
       "                                                    a great hungarian meal my italian grandmother use to make this for my hungarian grandfather this is how i remembered how it was made  \\\n",
       "these are sooooo good recipe makes a lot but th...                                           0.033448                                                                                      \n",
       "a great hungarian meal my italian grandmother u...                                           1.000000                                                                                      \n",
       "my mother recommended i post this recipe as she...                                           0.045259                                                                                      \n",
       "dhal is a term traditionally used to describe a...                                           0.000000                                                                                      \n",
       "this is an easy yet tasty cornbread i serve it ...                                           0.000000                                                                                      \n",
       "\n",
       "                                                    my mother recommended i post this recipe as she remembers it from her childhood  i asked her if it had a frosting to go with it and she said it never lasted long enough to be frosted  so enjoy it plain or use your choice of frosting  \\\n",
       "these are sooooo good recipe makes a lot but th...                                           0.078853                                                                                                                                                                                          \n",
       "a great hungarian meal my italian grandmother u...                                           0.045259                                                                                                                                                                                          \n",
       "my mother recommended i post this recipe as she...                                           1.000000                                                                                                                                                                                          \n",
       "dhal is a term traditionally used to describe a...                                           0.000000                                                                                                                                                                                          \n",
       "this is an easy yet tasty cornbread i serve it ...                                           0.000000                                                                                                                                                                                          \n",
       "\n",
       "                                                    dhal is a term traditionally used to describe a spicy dish made with lentils or other legumes  from sam choys polynesian kitchen  fiji  \\\n",
       "these are sooooo good recipe makes a lot but th...                                                0.0                                                                                        \n",
       "a great hungarian meal my italian grandmother u...                                                0.0                                                                                        \n",
       "my mother recommended i post this recipe as she...                                                0.0                                                                                        \n",
       "dhal is a term traditionally used to describe a...                                                1.0                                                                                        \n",
       "this is an easy yet tasty cornbread i serve it ...                                                0.0                                                                                        \n",
       "\n",
       "                                                    this is an easy yet tasty cornbread i serve it in the winter with soup or chili  \n",
       "these are sooooo good recipe makes a lot but th...                                                0.0                                \n",
       "a great hungarian meal my italian grandmother u...                                                0.0                                \n",
       "my mother recommended i post this recipe as she...                                                0.0                                \n",
       "dhal is a term traditionally used to describe a...                                                0.0                                \n",
       "this is an easy yet tasty cornbread i serve it ...                                                1.0                                "
      ]
     },
     "execution_count": 41,
     "metadata": {},
     "output_type": "execute_result"
    }
   ],
   "source": [
    "df_final1 = pd.DataFrame(final1)\n",
    "df_final1.columns = data[\"preprocessed_descriptions\"].to_list()\n",
    "df_final1.index = data[\"preprocessed_descriptions\"].to_list()\n",
    "df_final1"
   ]
  },
  {
   "cell_type": "markdown",
   "metadata": {},
   "source": [
    "## Через scipy spatial.distance.cosine"
   ]
  },
  {
   "cell_type": "code",
   "execution_count": 42,
   "metadata": {},
   "outputs": [],
   "source": [
    "import scipy\n",
    "import numpy as np\n",
    "import itertools"
   ]
  },
  {
   "cell_type": "code",
   "execution_count": 43,
   "metadata": {},
   "outputs": [],
   "source": [
    "max_pair = None\n",
    "max_result = -1"
   ]
  },
  {
   "cell_type": "code",
   "execution_count": null,
   "metadata": {
    "scrolled": false
   },
   "outputs": [],
   "source": [
    "coeff_dict = {}\n",
    "vectorizer3 = TfidfVectorizer(analyzer=\"word\", stop_words=\"english\")\n",
    "transform3 = vectorizer3.fit_transform(data[\"preprocessed_descriptions\"].to_list())\n",
    "\n",
    "all_data = list(zip(data[\"preprocessed_descriptions\"].to_list(), transform3.toarray()))\n",
    "\n",
    "for pair in itertools.product(all_data, repeat=2):\n",
    "    \n",
    "    text1, matrix1 = pair[0]\n",
    "    text2, matrix2 = pair[1]\n",
    "    result = scipy.spatial.distance.cosine(matrix1, matrix2)\n",
    "    inverse_result = 1-result\n",
    "    \n",
    "    if text1 not in coeff_dict:\n",
    "        coeff_dict[text1] = []\n",
    "    coeff_dict[text1].append(inverse_result)\n",
    "    \n",
    "\n",
    "    if inverse_result > max_result and text1 != text2:\n",
    "        max_result = inverse_result\n",
    "        max_pair = (text1, text2)\n",
    "    \n",
    "    print(f\"{text1}\\n{text2}\\n{inverse_result}\\n\")"
   ]
  },
  {
   "cell_type": "code",
   "execution_count": 45,
   "metadata": {},
   "outputs": [
    {
     "data": {
      "text/html": [
       "<div>\n",
       "<style scoped>\n",
       "    .dataframe tbody tr th:only-of-type {\n",
       "        vertical-align: middle;\n",
       "    }\n",
       "\n",
       "    .dataframe tbody tr th {\n",
       "        vertical-align: top;\n",
       "    }\n",
       "\n",
       "    .dataframe thead th {\n",
       "        text-align: right;\n",
       "    }\n",
       "</style>\n",
       "<table border=\"1\" class=\"dataframe\">\n",
       "  <thead>\n",
       "    <tr style=\"text-align: right;\">\n",
       "      <th></th>\n",
       "      <th>these are sooooo good recipe makes a lot but they go quickly the cookies freeze well but do not travel well i got the recipe from a community cookbook and have enjoyed making them for years especially around the holidays recipe makes about 10 dozen cookies so they are great for a cookie swap party</th>\n",
       "      <th>a great hungarian meal my italian grandmother use to make this for my hungarian grandfather this is how i remembered how it was made</th>\n",
       "      <th>my mother recommended i post this recipe as she remembers it from her childhood  i asked her if it had a frosting to go with it and she said it never lasted long enough to be frosted  so enjoy it plain or use your choice of frosting</th>\n",
       "      <th>dhal is a term traditionally used to describe a spicy dish made with lentils or other legumes  from sam choys polynesian kitchen  fiji</th>\n",
       "      <th>this is an easy yet tasty cornbread i serve it in the winter with soup or chili</th>\n",
       "    </tr>\n",
       "  </thead>\n",
       "  <tbody>\n",
       "    <tr>\n",
       "      <th>these are sooooo good recipe makes a lot but they go quickly the cookies freeze well but do not travel well i got the recipe from a community cookbook and have enjoyed making them for years especially around the holidays recipe makes about 10 dozen cookies so they are great for a cookie swap party</th>\n",
       "      <td>1.000000</td>\n",
       "      <td>0.033448</td>\n",
       "      <td>0.078853</td>\n",
       "      <td>0.0</td>\n",
       "      <td>0.0</td>\n",
       "    </tr>\n",
       "    <tr>\n",
       "      <th>a great hungarian meal my italian grandmother use to make this for my hungarian grandfather this is how i remembered how it was made</th>\n",
       "      <td>0.033448</td>\n",
       "      <td>1.000000</td>\n",
       "      <td>0.045259</td>\n",
       "      <td>0.0</td>\n",
       "      <td>0.0</td>\n",
       "    </tr>\n",
       "    <tr>\n",
       "      <th>my mother recommended i post this recipe as she remembers it from her childhood  i asked her if it had a frosting to go with it and she said it never lasted long enough to be frosted  so enjoy it plain or use your choice of frosting</th>\n",
       "      <td>0.078853</td>\n",
       "      <td>0.045259</td>\n",
       "      <td>1.000000</td>\n",
       "      <td>0.0</td>\n",
       "      <td>0.0</td>\n",
       "    </tr>\n",
       "    <tr>\n",
       "      <th>dhal is a term traditionally used to describe a spicy dish made with lentils or other legumes  from sam choys polynesian kitchen  fiji</th>\n",
       "      <td>0.000000</td>\n",
       "      <td>0.000000</td>\n",
       "      <td>0.000000</td>\n",
       "      <td>1.0</td>\n",
       "      <td>0.0</td>\n",
       "    </tr>\n",
       "    <tr>\n",
       "      <th>this is an easy yet tasty cornbread i serve it in the winter with soup or chili</th>\n",
       "      <td>0.000000</td>\n",
       "      <td>0.000000</td>\n",
       "      <td>0.000000</td>\n",
       "      <td>0.0</td>\n",
       "      <td>1.0</td>\n",
       "    </tr>\n",
       "  </tbody>\n",
       "</table>\n",
       "</div>"
      ],
      "text/plain": [
       "                                                    these are sooooo good recipe makes a lot but they go quickly the cookies freeze well but do not travel well i got the recipe from a community cookbook and have enjoyed making them for years especially around the holidays recipe makes about 10 dozen cookies so they are great for a cookie swap party  \\\n",
       "these are sooooo good recipe makes a lot but th...                                           1.000000                                                                                                                                                                                                                                                            \n",
       "a great hungarian meal my italian grandmother u...                                           0.033448                                                                                                                                                                                                                                                            \n",
       "my mother recommended i post this recipe as she...                                           0.078853                                                                                                                                                                                                                                                            \n",
       "dhal is a term traditionally used to describe a...                                           0.000000                                                                                                                                                                                                                                                            \n",
       "this is an easy yet tasty cornbread i serve it ...                                           0.000000                                                                                                                                                                                                                                                            \n",
       "\n",
       "                                                    a great hungarian meal my italian grandmother use to make this for my hungarian grandfather this is how i remembered how it was made  \\\n",
       "these are sooooo good recipe makes a lot but th...                                           0.033448                                                                                      \n",
       "a great hungarian meal my italian grandmother u...                                           1.000000                                                                                      \n",
       "my mother recommended i post this recipe as she...                                           0.045259                                                                                      \n",
       "dhal is a term traditionally used to describe a...                                           0.000000                                                                                      \n",
       "this is an easy yet tasty cornbread i serve it ...                                           0.000000                                                                                      \n",
       "\n",
       "                                                    my mother recommended i post this recipe as she remembers it from her childhood  i asked her if it had a frosting to go with it and she said it never lasted long enough to be frosted  so enjoy it plain or use your choice of frosting  \\\n",
       "these are sooooo good recipe makes a lot but th...                                           0.078853                                                                                                                                                                                          \n",
       "a great hungarian meal my italian grandmother u...                                           0.045259                                                                                                                                                                                          \n",
       "my mother recommended i post this recipe as she...                                           1.000000                                                                                                                                                                                          \n",
       "dhal is a term traditionally used to describe a...                                           0.000000                                                                                                                                                                                          \n",
       "this is an easy yet tasty cornbread i serve it ...                                           0.000000                                                                                                                                                                                          \n",
       "\n",
       "                                                    dhal is a term traditionally used to describe a spicy dish made with lentils or other legumes  from sam choys polynesian kitchen  fiji  \\\n",
       "these are sooooo good recipe makes a lot but th...                                                0.0                                                                                        \n",
       "a great hungarian meal my italian grandmother u...                                                0.0                                                                                        \n",
       "my mother recommended i post this recipe as she...                                                0.0                                                                                        \n",
       "dhal is a term traditionally used to describe a...                                                1.0                                                                                        \n",
       "this is an easy yet tasty cornbread i serve it ...                                                0.0                                                                                        \n",
       "\n",
       "                                                    this is an easy yet tasty cornbread i serve it in the winter with soup or chili  \n",
       "these are sooooo good recipe makes a lot but th...                                                0.0                                \n",
       "a great hungarian meal my italian grandmother u...                                                0.0                                \n",
       "my mother recommended i post this recipe as she...                                                0.0                                \n",
       "dhal is a term traditionally used to describe a...                                                0.0                                \n",
       "this is an easy yet tasty cornbread i serve it ...                                                1.0                                "
      ]
     },
     "execution_count": 45,
     "metadata": {},
     "output_type": "execute_result"
    }
   ],
   "source": [
    "df_final2 = pd.DataFrame.from_dict(coeff_dict)\n",
    "df_final2.columns = data[\"preprocessed_descriptions\"].to_list()\n",
    "df_final2.index = data[\"preprocessed_descriptions\"].to_list()\n",
    "df_final2"
   ]
  },
  {
   "cell_type": "markdown",
   "metadata": {},
   "source": [
    "3.3 Какие рецепты являются наиболее похожими? Прокомментируйте результат (словами)."
   ]
  },
  {
   "cell_type": "markdown",
   "metadata": {},
   "source": [
    "Те коэффициенты, где результат ближе к единице больше всего"
   ]
  },
  {
   "cell_type": "code",
   "execution_count": 47,
   "metadata": {},
   "outputs": [
    {
     "name": "stdout",
     "output_type": "stream",
     "text": [
      "Из датасета выше больше всего совпадений в предложениях:\n",
      "\n",
      "these are sooooo good recipe makes a lot but they go quickly the cookies freeze well but do not travel well i got the recipe from a community cookbook and have enjoyed making them for years especially around the holidays recipe makes about 10 dozen cookies so they are great for a cookie swap party\n",
      "\n",
      "my mother recommended i post this recipe as she remembers it from her childhood  i asked her if it had a frosting to go with it and she said it never lasted long enough to be frosted  so enjoy it plain or use your choice of frosting\n",
      "\n",
      "0.07885281375370234\n"
     ]
    }
   ],
   "source": [
    "print(f\"Из датасета выше больше всего совпадений в предложениях:\\n\\n{max_pair[0]}\\n\\n{max_pair[1]}\\n\\n{max_result}\")"
   ]
  },
  {
   "cell_type": "code",
   "execution_count": 48,
   "metadata": {},
   "outputs": [
    {
     "data": {
      "text/plain": [
       "{'a', 'and', 'from', 'go', 'i', 'recipe', 'so'}"
      ]
     },
     "execution_count": 48,
     "metadata": {},
     "output_type": "execute_result"
    }
   ],
   "source": [
    "set(max_pair[0].split(\" \")) & set(max_pair[1].split(\" \"))"
   ]
  }
 ],
 "metadata": {
  "kernelspec": {
   "display_name": "Python 3 (ipykernel)",
   "language": "python",
   "name": "python3"
  },
  "language_info": {
   "codemirror_mode": {
    "name": "ipython",
    "version": 3
   },
   "file_extension": ".py",
   "mimetype": "text/x-python",
   "name": "python",
   "nbconvert_exporter": "python",
   "pygments_lexer": "ipython3",
   "version": "3.10.6"
  }
 },
 "nbformat": 4,
 "nbformat_minor": 4
}
