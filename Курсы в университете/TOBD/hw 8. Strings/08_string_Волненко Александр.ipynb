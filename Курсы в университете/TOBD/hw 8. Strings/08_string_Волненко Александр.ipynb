{
 "cells": [
  {
   "cell_type": "markdown",
   "metadata": {},
   "source": [
    "# Работа со строковыми значениями"
   ]
  },
  {
   "cell_type": "markdown",
   "metadata": {},
   "source": [
    "pyformat.info - хороший сайт"
   ]
  },
  {
   "cell_type": "markdown",
   "metadata": {},
   "source": [
    "Материалы:\n",
    "* Макрушин С.В. Лекция 8: Работа со строковыми значениям\n",
    "* https://pyformat.info/\n",
    "* https://docs.python.org/3/library/re.html\n",
    "* https://tproger.ru/translations/regular-expression-python/\n",
    "* https://realpython.com/nltk-nlp-python/"
   ]
  },
  {
   "cell_type": "markdown",
   "metadata": {},
   "source": [
    "## Задачи для совместного разбора"
   ]
  },
  {
   "cell_type": "markdown",
   "metadata": {},
   "source": [
    "1. Вывести на экран данные из словаря `obj` построчно в виде `k = v`, задав формат таким образом, чтобы знак равенства оказался на одной и той же позиции во всех строках. Строковые литералы обернуть в кавычки."
   ]
  },
  {
   "cell_type": "code",
   "execution_count": 1,
   "metadata": {},
   "outputs": [],
   "source": [
    "obj = {  \n",
    "         'home_page': 'https://github.com/pypa/sampleproject',\n",
    "         'keywords': 'sample setuptools development',\n",
    "         'license': 'MIT'\n",
    "      }"
   ]
  },
  {
   "cell_type": "code",
   "execution_count": null,
   "metadata": {},
   "outputs": [],
   "source": [
    "for k, v in obj.items():\n",
    "    print(f'{k:10} = \"{v}\"')"
   ]
  },
  {
   "cell_type": "markdown",
   "metadata": {},
   "source": [
    "2. Дана строка 'aaa--bbb==ccc__ddd'. Написать регулярное выражение для разбивки строки на список ['aaa','bbb','ccc','ddd']."
   ]
  },
  {
   "cell_type": "code",
   "execution_count": 3,
   "metadata": {},
   "outputs": [],
   "source": [
    "import re"
   ]
  },
  {
   "cell_type": "code",
   "execution_count": 4,
   "metadata": {},
   "outputs": [],
   "source": [
    "s = \"aaa--bbb==ccc__ddd\""
   ]
  },
  {
   "cell_type": "code",
   "execution_count": 5,
   "metadata": {},
   "outputs": [
    {
     "data": {
      "text/plain": [
       "['aaa', 'bbb', 'ccc', 'ddd']"
      ]
     },
     "execution_count": 5,
     "metadata": {},
     "output_type": "execute_result"
    }
   ],
   "source": [
    "pattern = re.compile(r'[a-z]{3}')\n",
    "pattern.findall(s)"
   ]
  },
  {
   "cell_type": "markdown",
   "metadata": {},
   "source": [
    "3. Проверить корректность введенного E-mail"
   ]
  },
  {
   "cell_type": "code",
   "execution_count": 6,
   "metadata": {},
   "outputs": [
    {
     "name": "stdout",
     "output_type": "stream",
     "text": [
      "<re.Match object; span=(0, 13), match='check@mail.ru'>\n",
      "Строка валидна\n"
     ]
    }
   ],
   "source": [
    "email = \"check@mail.ru\"\n",
    "pattern = re.compile(r'\\w+@[a-z]+\\.[a-z]{2,3}$')\n",
    "result = pattern.match(email)\n",
    "print(result)\n",
    "if result is None:\n",
    "    print(\"Строка невалидна\")\n",
    "else:\n",
    "    print(\"Строка валидна\")"
   ]
  },
  {
   "cell_type": "markdown",
   "metadata": {},
   "source": [
    "4. Разбейте текст формулировки задачи 1 на слова."
   ]
  },
  {
   "cell_type": "code",
   "execution_count": 7,
   "metadata": {},
   "outputs": [],
   "source": [
    "import nltk"
   ]
  },
  {
   "cell_type": "code",
   "execution_count": 8,
   "metadata": {},
   "outputs": [],
   "source": [
    "#nltk.download('punkt')"
   ]
  },
  {
   "cell_type": "code",
   "execution_count": null,
   "metadata": {},
   "outputs": [],
   "source": [
    "text = '''Вывести на экран данные из словаря `obj` построчно в виде `k = v`, задав формат таким образом, чтобы знак равенства оказался на одной и той же позиции во всех строках. Строковые литералы обернуть в кавычки.'''\n",
    "nltk.word_tokenize(text)"
   ]
  },
  {
   "cell_type": "code",
   "execution_count": 10,
   "metadata": {},
   "outputs": [
    {
     "data": {
      "text/plain": [
       "['Вывести на экран данные из словаря `obj` построчно в виде `k = v`, задав формат таким образом, чтобы знак равенства оказался на одной и той же позиции во всех строках.',\n",
       " 'Строковые литералы обернуть в кавычки.']"
      ]
     },
     "execution_count": 10,
     "metadata": {},
     "output_type": "execute_result"
    }
   ],
   "source": [
    "nltk.sent_tokenize(text)"
   ]
  },
  {
   "cell_type": "markdown",
   "metadata": {},
   "source": [
    "## Лабораторная работа 8"
   ]
  },
  {
   "cell_type": "markdown",
   "metadata": {},
   "source": [
    "### Форматирование строк"
   ]
  },
  {
   "cell_type": "markdown",
   "metadata": {},
   "source": [
    "1.1 Загрузите данные из файла `recipes_sample_with_tags_ingredients.csv` (__ЛР5__) в таблицу `recipes` При помощи форматирования строк выведите информацию об id рецепта и кол-ве игредиентов 5 случайных рецептов в виде таблицы следующего вида:\n",
    "\n",
    "    \n",
    "    |    id     | n_in  |\n",
    "    |-------------------|\n",
    "    |  400894   |  13   |\n",
    "    |   68588   |   8   |\n",
    "    |  362081   |   6   |\n",
    "    |   53408   |  12   |\n",
    "    |  221203   |   4   |"
   ]
  },
  {
   "cell_type": "code",
   "execution_count": 11,
   "metadata": {},
   "outputs": [],
   "source": [
    "import pandas as pd"
   ]
  },
  {
   "cell_type": "code",
   "execution_count": 12,
   "metadata": {},
   "outputs": [
    {
     "data": {
      "text/html": [
       "<div>\n",
       "<style scoped>\n",
       "    .dataframe tbody tr th:only-of-type {\n",
       "        vertical-align: middle;\n",
       "    }\n",
       "\n",
       "    .dataframe tbody tr th {\n",
       "        vertical-align: top;\n",
       "    }\n",
       "\n",
       "    .dataframe thead th {\n",
       "        text-align: right;\n",
       "    }\n",
       "</style>\n",
       "<table border=\"1\" class=\"dataframe\">\n",
       "  <thead>\n",
       "    <tr style=\"text-align: right;\">\n",
       "      <th></th>\n",
       "      <th>Unnamed: 0</th>\n",
       "      <th>id</th>\n",
       "      <th>name</th>\n",
       "      <th>minutes</th>\n",
       "      <th>contributor_id</th>\n",
       "      <th>submitted</th>\n",
       "      <th>n_steps</th>\n",
       "      <th>description</th>\n",
       "      <th>n_ingredients</th>\n",
       "      <th>n_tags</th>\n",
       "      <th>tags</th>\n",
       "      <th>ingredients</th>\n",
       "    </tr>\n",
       "  </thead>\n",
       "  <tbody>\n",
       "    <tr>\n",
       "      <th>27300</th>\n",
       "      <td>27300</td>\n",
       "      <td>14640</td>\n",
       "      <td>thanksgiving for 10  new pasta salad</td>\n",
       "      <td>30</td>\n",
       "      <td>22782</td>\n",
       "      <td>2001-11-20</td>\n",
       "      <td>7</td>\n",
       "      <td>a great way to make a beautiful pasta salad th...</td>\n",
       "      <td>5</td>\n",
       "      <td>25</td>\n",
       "      <td>30-minutes-or-less;time-to-make;course;main-in...</td>\n",
       "      <td>olive oil*balsamic vinegar*bulb of garlic*past...</td>\n",
       "    </tr>\n",
       "    <tr>\n",
       "      <th>16214</th>\n",
       "      <td>16214</td>\n",
       "      <td>215150</td>\n",
       "      <td>lime and honey glazed salmon with warm black b...</td>\n",
       "      <td>30</td>\n",
       "      <td>280696</td>\n",
       "      <td>2007-03-05</td>\n",
       "      <td>15</td>\n",
       "      <td>we got this recipe from a rachael ray cookbook...</td>\n",
       "      <td>15</td>\n",
       "      <td>18</td>\n",
       "      <td>30-minutes-or-less;time-to-make;course;main-in...</td>\n",
       "      <td>onion*chicken stock*black beans*honey*fresh ci...</td>\n",
       "    </tr>\n",
       "    <tr>\n",
       "      <th>23618</th>\n",
       "      <td>23618</td>\n",
       "      <td>403160</td>\n",
       "      <td>savoury apple stuffed bbq pork sirloin</td>\n",
       "      <td>220</td>\n",
       "      <td>1467568</td>\n",
       "      <td>2009-12-09</td>\n",
       "      <td>20</td>\n",
       "      <td>this recipe i made up on the spot when asked t...</td>\n",
       "      <td>10</td>\n",
       "      <td>27</td>\n",
       "      <td>lactose;time-to-make;course;main-ingredient;cu...</td>\n",
       "      <td>onion*garlic powder*apples*black pepper*raisin...</td>\n",
       "    </tr>\n",
       "    <tr>\n",
       "      <th>1491</th>\n",
       "      <td>1491</td>\n",
       "      <td>439979</td>\n",
       "      <td>avocado fettuccine</td>\n",
       "      <td>15</td>\n",
       "      <td>514826</td>\n",
       "      <td>2010-10-21</td>\n",
       "      <td>11</td>\n",
       "      <td>from the california avocado commission. yummy!!!</td>\n",
       "      <td>8</td>\n",
       "      <td>13</td>\n",
       "      <td>15-minutes-or-less;time-to-make;course;main-in...</td>\n",
       "      <td>olive oil*avocado*white wine vinegar*tomatoes*...</td>\n",
       "    </tr>\n",
       "    <tr>\n",
       "      <th>16271</th>\n",
       "      <td>16271</td>\n",
       "      <td>377448</td>\n",
       "      <td>linguini and clams</td>\n",
       "      <td>20</td>\n",
       "      <td>167527</td>\n",
       "      <td>2009-06-16</td>\n",
       "      <td>7</td>\n",
       "      <td>this is an easy delicious pasta dish.  elegant...</td>\n",
       "      <td>9</td>\n",
       "      <td>17</td>\n",
       "      <td>30-minutes-or-less;time-to-make;course;main-in...</td>\n",
       "      <td>butter*parmesan cheese*half-and-half*parsley*g...</td>\n",
       "    </tr>\n",
       "  </tbody>\n",
       "</table>\n",
       "</div>"
      ],
      "text/plain": [
       "       Unnamed: 0      id                                               name  \\\n",
       "27300       27300   14640               thanksgiving for 10  new pasta salad   \n",
       "16214       16214  215150  lime and honey glazed salmon with warm black b...   \n",
       "23618       23618  403160             savoury apple stuffed bbq pork sirloin   \n",
       "1491         1491  439979                                 avocado fettuccine   \n",
       "16271       16271  377448                                 linguini and clams   \n",
       "\n",
       "       minutes  contributor_id   submitted  n_steps  \\\n",
       "27300       30           22782  2001-11-20        7   \n",
       "16214       30          280696  2007-03-05       15   \n",
       "23618      220         1467568  2009-12-09       20   \n",
       "1491        15          514826  2010-10-21       11   \n",
       "16271       20          167527  2009-06-16        7   \n",
       "\n",
       "                                             description  n_ingredients  \\\n",
       "27300  a great way to make a beautiful pasta salad th...              5   \n",
       "16214  we got this recipe from a rachael ray cookbook...             15   \n",
       "23618  this recipe i made up on the spot when asked t...             10   \n",
       "1491    from the california avocado commission. yummy!!!              8   \n",
       "16271  this is an easy delicious pasta dish.  elegant...              9   \n",
       "\n",
       "       n_tags                                               tags  \\\n",
       "27300      25  30-minutes-or-less;time-to-make;course;main-in...   \n",
       "16214      18  30-minutes-or-less;time-to-make;course;main-in...   \n",
       "23618      27  lactose;time-to-make;course;main-ingredient;cu...   \n",
       "1491       13  15-minutes-or-less;time-to-make;course;main-in...   \n",
       "16271      17  30-minutes-or-less;time-to-make;course;main-in...   \n",
       "\n",
       "                                             ingredients  \n",
       "27300  olive oil*balsamic vinegar*bulb of garlic*past...  \n",
       "16214  onion*chicken stock*black beans*honey*fresh ci...  \n",
       "23618  onion*garlic powder*apples*black pepper*raisin...  \n",
       "1491   olive oil*avocado*white wine vinegar*tomatoes*...  \n",
       "16271  butter*parmesan cheese*half-and-half*parsley*g...  "
      ]
     },
     "execution_count": 12,
     "metadata": {},
     "output_type": "execute_result"
    }
   ],
   "source": [
    "recipes = pd.read_csv(\"./data/recipes_sample_with_tags_ingredients.csv\")\n",
    "new_recipes = recipes.sample(n=5)\n",
    "new_recipes"
   ]
  },
  {
   "cell_type": "code",
   "execution_count": 13,
   "metadata": {},
   "outputs": [
    {
     "name": "stdout",
     "output_type": "stream",
     "text": [
      "|    id     |  n_in |\n",
      "|-------------------|\n",
      "|   14640   |   5   |\n",
      "|  215150   |   15  |\n",
      "|  403160   |   10  |\n",
      "|  439979   |   8   |\n",
      "|  377448   |   9   |\n"
     ]
    }
   ],
   "source": [
    "print(\"|{0:^11}| {1:^6}|\\n|{2}|\".format(\"id\", \"n_in\",\"-\"*19))\n",
    "for index, row in new_recipes.iterrows():\n",
    "    print(\"|{0:^11}| {1:^6}|\".format(row['id'], row['n_ingredients']))  #  10 - это ширина  поля "
   ]
  },
  {
   "cell_type": "markdown",
   "metadata": {},
   "source": [
    "1.2 Напишите функцию `show_info`, которая для рецепта по его `id` создает строку (в смысле объекта python) с описанием следующего вида:\n",
    "\n",
    "```\n",
    "\"Название\"\n",
    "\n",
    "1. Шаг 1.\n",
    "2. Шаг 2.\n",
    "----------\n",
    "#тэг1 #тэг2\n",
    "```\n",
    "\n",
    "    \n",
    "Данные для создания строки получите из файлов `recipes_sample_with_tags_ingredients.csv`, `steps_sample.xml` (__ЛР4__) и `tags_sample.csv` (__ЛР5__). \n",
    "Выведите созданную строку на экран."
   ]
  },
  {
   "cell_type": "code",
   "execution_count": 14,
   "metadata": {},
   "outputs": [],
   "source": [
    "from bs4 import BeautifulSoup\n",
    "from typing import List\n",
    "from pydantic import validate_arguments, ValidationError"
   ]
  },
  {
   "cell_type": "code",
   "execution_count": 15,
   "metadata": {},
   "outputs": [],
   "source": [
    "class Recipe:\n",
    "    \"\"\"Класс рецепта\"\"\"\n",
    "    @validate_arguments\n",
    "    def __init__(self, recipe_id: int, name: str) -> None:\n",
    "        self._recipe_id = recipe_id\n",
    "        self._name = name\n",
    "        self._steps_list = []\n",
    "        self._tags_list = []\n",
    "    \n",
    "    @validate_arguments\n",
    "    def add_tag(self, data: str) -> None:\n",
    "        \"\"\"Добавление тега\"\"\"\n",
    "        tag = f\"#{data}\"\n",
    "        if tag not in self._tags_list:\n",
    "            self._tags_list.append(tag)\n",
    "    \n",
    "    @validate_arguments\n",
    "    def add_step(self, data: str) -> None:\n",
    "        \"\"\"Добавление шага приготовления\"\"\"\n",
    "        if data not in self._steps_list:\n",
    "            self._steps_list.append(data)    \n",
    "    \n",
    "    def show_info(self) -> None:\n",
    "        \"\"\"Вывод информации о рецепте\"\"\"\n",
    "        print(self.__repr__())\n",
    "        \n",
    "    def __repr__(self) -> str:\n",
    "        steps_str = \"\\n\".join(map(lambda x: f\"{x[0]}. {x[1].capitalize()}.\",enumerate(self._steps_list, 1)))\n",
    "        tags_str = \" \".join(self._tags_list)\n",
    "        final_str = f\"\\\"{self._name.capitalize()}\\\"\\n{steps_str}\\n{'-'*10}\\n{tags_str}\"\n",
    "        return final_str"
   ]
  },
  {
   "cell_type": "code",
   "execution_count": 16,
   "metadata": {},
   "outputs": [],
   "source": [
    "class RecipeManager:\n",
    "    \"\"\"Класс-менеджер рецептов\"\"\"\n",
    "    def __init__(self, names: pd.core.frame.DataFrame, steps: BeautifulSoup, tags: pd.core.frame.DataFrame) -> None:\n",
    "        \n",
    "        self._names = names\n",
    "        self._steps = steps\n",
    "        self._tags = tags\n",
    "        \n",
    "        self.recipes = {}\n",
    "        \n",
    "        self.names_processing()\n",
    "        self.steps_processing()\n",
    "        self.tags_processing()\n",
    "    \n",
    "    def names_processing(self) -> None:\n",
    "        for item in self._names.apply(lambda x: (x[\"id\"], x[\"name\"]), axis=1):\n",
    "            r_id, r_name = item\n",
    "            self.recipes[r_id] = Recipe(r_id, r_name)\n",
    "        \n",
    "    def steps_processing(self) -> None:\n",
    "        \"\"\"Обработка шагов рецептов\"\"\"\n",
    "        \n",
    "        for recipe in self._steps.find_all('recipe'):\n",
    "            recipe_id = int(recipe.find(\"id\").get_text())\n",
    "            for step in recipe.find_all(\"step\"):\n",
    "                step_text = step.get_text()\n",
    "                self.recipes[recipe_id].add_step(step_text)\n",
    "                \n",
    "    def tags_processing(self) -> None:\n",
    "        \"\"\"Обработка тегов рецептов\"\"\"\n",
    "        for item in self._tags.apply(lambda x: (x[\"id\"], x[\"tag\"]), axis=1):\n",
    "            recipe_id, tag = item\n",
    "            self.recipes[recipe_id].add_tag(tag)    \n",
    "    \n",
    "    def find(self, recipe_id: int) -> Recipe:\n",
    "        if recipe_id not in self.recipes:\n",
    "            raise ValueError(f\"Рецепта с идентификатором {recipe_id} нет в списке\")\n",
    "        return self.recipes[recipe_id]\n",
    "\n",
    "    def ids(self) -> List[int]:\n",
    "        return list(self.recipes.keys())\n",
    "\n",
    "content = open(\"./data/steps_sample.xml\",\"r\").read()\n",
    "steps = BeautifulSoup(content,'xml')\n",
    "\n",
    "tags = pd.read_csv(\"./data/tags_sample.csv\")\n",
    "recipe_manager = RecipeManager(recipes, steps, tags)"
   ]
  },
  {
   "cell_type": "code",
   "execution_count": null,
   "metadata": {},
   "outputs": [],
   "source": [
    "recipe_manager.find(44123)"
   ]
  },
  {
   "cell_type": "code",
   "execution_count": null,
   "metadata": {},
   "outputs": [],
   "source": []
  },
  {
   "cell_type": "markdown",
   "metadata": {},
   "source": [
    "## Работа с регулярными выражениями"
   ]
  },
  {
   "cell_type": "markdown",
   "metadata": {},
   "source": [
    "В задачах данного блока подразумевается, что вы не будете использовать никаких строковые методы (`split`, `startswith` и т.д.). Все задачи необходимо решить при помощи регулярных выражений."
   ]
  },
  {
   "cell_type": "code",
   "execution_count": 18,
   "metadata": {},
   "outputs": [],
   "source": [
    "reviews = pd.read_csv(\"./data/reviews_sample.csv\")\n",
    "reviews_list = [item for item in reviews[\"review\"].to_list() if isinstance(item, str)]"
   ]
  },
  {
   "cell_type": "code",
   "execution_count": null,
   "metadata": {},
   "outputs": [],
   "source": []
  },
  {
   "cell_type": "markdown",
   "metadata": {},
   "source": [
    "2.1 Посчитайте кол-во отзывов, в которых встречаются числа."
   ]
  },
  {
   "cell_type": "code",
   "execution_count": 19,
   "metadata": {},
   "outputs": [
    {
     "data": {
      "text/plain": [
       "47336"
      ]
     },
     "execution_count": 19,
     "metadata": {},
     "output_type": "execute_result"
    }
   ],
   "source": [
    "pattern = re.compile(r'.*[0-9].*')\n",
    "sum([pattern.match(item) is not None for item in reviews_list])"
   ]
  },
  {
   "cell_type": "markdown",
   "metadata": {},
   "source": [
    "2.2 Найдите все смайлики в отзывах. Смайлик состоит из трех частей: глаза (символ `=` или `:`), нос (символ `-`), губы (символ `)` или `(`). Смайлик может иметь вид \"глаза-нос-губы\" или \"губы-нос-глаза\". Нос может отсутствовать."
   ]
  },
  {
   "cell_type": "code",
   "execution_count": null,
   "metadata": {},
   "outputs": [],
   "source": [
    "pattern = re.compile(r'([()]-?[=:])|([=:]-?[()])')\n",
    "results_set ={item for item in reviews_list if pattern.findall(item) is not None}\n",
    "[print(f\"{x}\\n{'-'*100}\\n\") for x in results_set]"
   ]
  },
  {
   "cell_type": "markdown",
   "metadata": {},
   "source": [
    "2.3 Проверьте, что все даты в датасете имеют вид \"YYYY-MM-DD\". Продемонстрируйте работу вашего решения, приведя пример из датасета и контрпример не из датасета."
   ]
  },
  {
   "cell_type": "code",
   "execution_count": 21,
   "metadata": {},
   "outputs": [
    {
     "name": "stdout",
     "output_type": "stream",
     "text": [
      "Все ок\n"
     ]
    }
   ],
   "source": [
    "pattern = re.compile(r'^[0-9]{4}\\-[0-9]{2}\\-[0-9]{2}$')\n",
    "result1 = sum([pattern.match(item) is not None for item in reviews[\"date\"]])\n",
    "result2 = reviews[\"date\"].shape[0]\n",
    "assert result1 == result2\n",
    "print(\"Все ок\")"
   ]
  },
  {
   "cell_type": "code",
   "execution_count": 22,
   "metadata": {},
   "outputs": [],
   "source": [
    "for test_str in (\"1901-01-01p\",\"1901-101-01\",\"9999.00.00\"):\n",
    "    assert pattern.match(test_str) is None"
   ]
  },
  {
   "cell_type": "markdown",
   "metadata": {},
   "source": [
    "2.4 Используя строку-результат задачи 1.2, найдите первое слово каждого шага в рецепте"
   ]
  },
  {
   "cell_type": "code",
   "execution_count": 23,
   "metadata": {},
   "outputs": [],
   "source": [
    "import random"
   ]
  },
  {
   "cell_type": "code",
   "execution_count": 24,
   "metadata": {},
   "outputs": [
    {
     "name": "stdout",
     "output_type": "stream",
     "text": [
      "\"Chicken  n peas tostada\"\n",
      "1. Chicken:.\n",
      "2. Cut chicken breasts into strips and place in medium bowl.\n",
      "3. Add chili powder , cumin , garlic powder , lime juice and olive oil.\n",
      "4. Stir to coat chicken.\n",
      "5. Cover and refrigerate 30 minutes , stirring once.\n",
      "6. Remove chicken from marinade with slotted spoon.\n",
      "7. In large nonstick frypan sprayed with cooking spray , place chicken and saute over medium high heat about 5 minutes or until lightly browned and no longer pink.\n",
      "8. Assembly:.\n",
      "9. In large bowl , place spinach , red leaf lettuce and iceberg lettuce.\n",
      "10. Toss gently and add sweet peas , blackeye peas , corn , tomatoes , green onions and cilantro.\n",
      "11. Mix dressing ingredients.\n",
      "12. Pour dressing over mixture.\n",
      "13. Toss.\n",
      "14. Add cheese and tortilla chips.\n",
      "15. Toss gently.\n",
      "16. To serve , place salad mixture on platter and arrange chicken strips on top.\n",
      "17. Garnish with sour cream and cilantro sprigs.\n",
      "----------\n",
      "#60-minutes-or-less #time-to-make #course #main-ingredient #cuisine #preparation #occasion #north-american #main-dish #eggs-dairy #poultry #vegetables #american #southwestern-united-states #easy #beginner-cook #potluck #diabetic #cheese #chicken #dietary #one-dish-meal #brown-bag #inexpensive #egg-free #free-of-something #meat #greens #brunch #to-go\n"
     ]
    },
    {
     "data": {
      "text/plain": [
       "['Chicken',\n",
       " 'Cut',\n",
       " 'Add',\n",
       " 'Stir',\n",
       " 'Cover',\n",
       " 'Remove',\n",
       " 'In',\n",
       " 'Assembly',\n",
       " 'In',\n",
       " 'Toss',\n",
       " 'Mix',\n",
       " 'Pour',\n",
       " 'Toss',\n",
       " 'Add',\n",
       " 'Toss',\n",
       " 'To',\n",
       " 'Garnish']"
      ]
     },
     "execution_count": 24,
     "metadata": {},
     "output_type": "execute_result"
    }
   ],
   "source": [
    "pattern = re.compile(r'[0-9]+\\.\\ ([A-z]+)')\n",
    "recipe_id = random.choice(recipe_manager.ids())\n",
    "current_str = recipe_manager.find(recipe_id).__repr__()\n",
    "print(current_str)\n",
    "\n",
    "pattern.findall(current_str)"
   ]
  },
  {
   "cell_type": "markdown",
   "metadata": {},
   "source": [
    "2.5 Используя регулярные выражения, удалите из описаний все символы, кроме английских букв, цифр и пробелов. Сохраните предобработанные описания в файл `preprocessed_descriptions.csv`, содержащий 2 столбца: `name` и `preprocessed_descriptions`."
   ]
  },
  {
   "cell_type": "markdown",
   "metadata": {},
   "source": [
    "ПИ19-3 Деменчук Георгий"
   ]
  },
  {
   "cell_type": "code",
   "execution_count": 25,
   "metadata": {},
   "outputs": [
    {
     "data": {
      "text/html": [
       "<div>\n",
       "<style scoped>\n",
       "    .dataframe tbody tr th:only-of-type {\n",
       "        vertical-align: middle;\n",
       "    }\n",
       "\n",
       "    .dataframe tbody tr th {\n",
       "        vertical-align: top;\n",
       "    }\n",
       "\n",
       "    .dataframe thead th {\n",
       "        text-align: right;\n",
       "    }\n",
       "</style>\n",
       "<table border=\"1\" class=\"dataframe\">\n",
       "  <thead>\n",
       "    <tr style=\"text-align: right;\">\n",
       "      <th></th>\n",
       "      <th>name</th>\n",
       "      <th>preprocessed_descriptions</th>\n",
       "    </tr>\n",
       "  </thead>\n",
       "  <tbody>\n",
       "    <tr>\n",
       "      <th>0</th>\n",
       "      <td>george s at the cove  black bean soup</td>\n",
       "      <td>an original recipe created by chef scott meska...</td>\n",
       "    </tr>\n",
       "    <tr>\n",
       "      <th>1</th>\n",
       "      <td>healthy for them  yogurt popsicles</td>\n",
       "      <td>my children and their friends ask for my homem...</td>\n",
       "    </tr>\n",
       "    <tr>\n",
       "      <th>2</th>\n",
       "      <td>i can t believe it s spinach</td>\n",
       "      <td>these were so go it surprised even me</td>\n",
       "    </tr>\n",
       "    <tr>\n",
       "      <th>3</th>\n",
       "      <td>italian  gut busters</td>\n",
       "      <td>my sisterinlaw made these for us at a family g...</td>\n",
       "    </tr>\n",
       "    <tr>\n",
       "      <th>4</th>\n",
       "      <td>love is in the air  beef fondue   sauces</td>\n",
       "      <td>i think a fondue is a very romantic casual din...</td>\n",
       "    </tr>\n",
       "    <tr>\n",
       "      <th>...</th>\n",
       "      <td>...</td>\n",
       "      <td>...</td>\n",
       "    </tr>\n",
       "    <tr>\n",
       "      <th>29995</th>\n",
       "      <td>zurie s holey rustic olive and cheddar bread</td>\n",
       "      <td>this is based on a french recipe but i changed...</td>\n",
       "    </tr>\n",
       "    <tr>\n",
       "      <th>29996</th>\n",
       "      <td>zwetschgenkuchen  bavarian plum cake</td>\n",
       "      <td>this is a traditional fresh plum cake thought ...</td>\n",
       "    </tr>\n",
       "    <tr>\n",
       "      <th>29997</th>\n",
       "      <td>zwiebelkuchen   southwest german onion cake</td>\n",
       "      <td>this is a traditional late summer early fall s...</td>\n",
       "    </tr>\n",
       "    <tr>\n",
       "      <th>29998</th>\n",
       "      <td>zydeco soup</td>\n",
       "      <td>this is a delicious soup that i originally fou...</td>\n",
       "    </tr>\n",
       "    <tr>\n",
       "      <th>29999</th>\n",
       "      <td>cookies by design   cookies on a stick</td>\n",
       "      <td>ive heard of the cookies by design company but...</td>\n",
       "    </tr>\n",
       "  </tbody>\n",
       "</table>\n",
       "<p>30000 rows × 2 columns</p>\n",
       "</div>"
      ],
      "text/plain": [
       "                                               name  \\\n",
       "0             george s at the cove  black bean soup   \n",
       "1                healthy for them  yogurt popsicles   \n",
       "2                      i can t believe it s spinach   \n",
       "3                              italian  gut busters   \n",
       "4          love is in the air  beef fondue   sauces   \n",
       "...                                             ...   \n",
       "29995  zurie s holey rustic olive and cheddar bread   \n",
       "29996          zwetschgenkuchen  bavarian plum cake   \n",
       "29997   zwiebelkuchen   southwest german onion cake   \n",
       "29998                                   zydeco soup   \n",
       "29999        cookies by design   cookies on a stick   \n",
       "\n",
       "                               preprocessed_descriptions  \n",
       "0      an original recipe created by chef scott meska...  \n",
       "1      my children and their friends ask for my homem...  \n",
       "2                  these were so go it surprised even me  \n",
       "3      my sisterinlaw made these for us at a family g...  \n",
       "4      i think a fondue is a very romantic casual din...  \n",
       "...                                                  ...  \n",
       "29995  this is based on a french recipe but i changed...  \n",
       "29996  this is a traditional fresh plum cake thought ...  \n",
       "29997  this is a traditional late summer early fall s...  \n",
       "29998  this is a delicious soup that i originally fou...  \n",
       "29999  ive heard of the cookies by design company but...  \n",
       "\n",
       "[30000 rows x 2 columns]"
      ]
     },
     "execution_count": 25,
     "metadata": {},
     "output_type": "execute_result"
    }
   ],
   "source": [
    "column2process = \"preprocessed_descriptions\"\n",
    "pattern = re.compile(r'[^A-Za-z0-9 ]')\n",
    "\n",
    "def filler(x):\n",
    "    result = pattern.sub('', x[column2process])\n",
    "    return result\n",
    "\n",
    "descriptions = recipes[\"name\"].to_frame().join(recipes[\"description\"].fillna(\"\"))\n",
    "descriptions = descriptions.rename(columns={\"description\": column2process})\n",
    "descriptions[column2process] = descriptions.apply(lambda x: filler(x), axis=1)\n",
    "descriptions"
   ]
  },
  {
   "cell_type": "code",
   "execution_count": 26,
   "metadata": {},
   "outputs": [],
   "source": [
    "descriptions.to_csv(\"./out/preprocessed_descriptions.csv\")"
   ]
  },
  {
   "cell_type": "markdown",
   "metadata": {},
   "source": [
    "### Сегментация текста"
   ]
  },
  {
   "cell_type": "markdown",
   "metadata": {},
   "source": [
    "3.1 Разбейте предобработанные отзывы из задания 2.5 на предложения, а предложения - на слова (используйте `sent_tokenize` и `word_tokenize` из `nltk`). Каждый отзыв представьте в виде списка списков: внешний список - предложения, вложенные списки - слова в предложении.\n",
    "\n",
    "`'Предложение номер один. Предложение номер два.' => [['Предложение', 'номер', 'один', '.'], ['Предложение', 'номер', 'два', '.']]`"
   ]
  },
  {
   "cell_type": "code",
   "execution_count": 27,
   "metadata": {},
   "outputs": [],
   "source": [
    "#Задание показывает то, что надо юзать dict, а не list, на что намекает знак =>.\n",
    "# Так что я буду использовать словарь в качестве базового контейнера\n",
    "sentences_dict = {}\n",
    "descriptions = recipes[\"name\"].to_frame().join(recipes[\"description\"].fillna(\"\"))\n",
    "\n",
    "for item in descriptions[\"description\"].to_list():\n",
    "    sentences_dict[item] = []\n",
    "    \n",
    "    for sentence in nltk.sent_tokenize(item):\n",
    "        words_list = nltk.word_tokenize(sentence)\n",
    "        sentences_dict[item].append(words_list)"
   ]
  },
  {
   "cell_type": "markdown",
   "metadata": {},
   "source": [
    "**Уточнение:** Работайте с исходными версиями отзывов из файла c отзывами (без предварительной очистки от знаков препинания и т.д.). Соответственно, везде далее, где нужно считать кол-во слов, знаки препинания не должны учитываться как отдельные слова."
   ]
  },
  {
   "cell_type": "markdown",
   "metadata": {},
   "source": [
    "3.2 Посчитайте кол-во уникальных слов в датасете (без учета регистра)."
   ]
  },
  {
   "cell_type": "code",
   "execution_count": 28,
   "metadata": {},
   "outputs": [
    {
     "name": "stdout",
     "output_type": "stream",
     "text": [
      "<re.Match object; span=(0, 3), match='try'>\n",
      "Строка валидна\n"
     ]
    }
   ],
   "source": [
    "email = \"try\"\n",
    "pattern = re.compile(r'^[a-zA-Z]+$')\n",
    "result = pattern.match(email)\n",
    "print(result)\n",
    "if result is None:\n",
    "    print(\"Строка невалидна\")\n",
    "else:\n",
    "    print(\"Строка валидна\")"
   ]
  },
  {
   "cell_type": "code",
   "execution_count": 29,
   "metadata": {},
   "outputs": [
    {
     "name": "stdout",
     "output_type": "stream",
     "text": [
      "1069028 слов всего\n",
      "27050 уникальных\n"
     ]
    }
   ],
   "source": [
    "pattern = re.compile(r'(^(^[!\"#$%&\\'()*+\\,\\-.\\/:;<=>?@[\\]^_`{|}~]|^[0-9]))')\n",
    "data = []\n",
    "for sentences in sentences_dict.values():\n",
    "    new_words = []\n",
    "    [[new_words.append(y.lower()) for y in x if pattern.match(y) is None] for x in sentences]\n",
    "    data.extend(new_words)\n",
    "\n",
    "print(f\"{len(data)} слов всего\\n{len(set(data))} уникальных\")"
   ]
  },
  {
   "cell_type": "markdown",
   "metadata": {},
   "source": [
    "3.3 Найдите 5 самых длинных (по количеству слов) отзывов в датасете и выведите их в порядке убывания длины."
   ]
  },
  {
   "cell_type": "code",
   "execution_count": null,
   "metadata": {},
   "outputs": [],
   "source": [
    "new_list = []\n",
    "\n",
    "for key, values in sentences_dict.items():\n",
    "    \n",
    "    counter = 0\n",
    "    for item in values:\n",
    "        new_words = [word for word in item if pattern.match(word) is None]\n",
    "        counter += len(new_words)\n",
    "        \n",
    "    new_list.append((counter, key))\n",
    "    \n",
    "new_list.sort(key=lambda x: x[0],reverse=True)\n",
    "    \n",
    "for item in new_list[:5]:\n",
    "    print(item)\n",
    "    print(\"--------\")"
   ]
  },
  {
   "cell_type": "markdown",
   "metadata": {},
   "source": [
    "3.4 Напишите функцию, которая для заданного предложения выводит информацию о частях речи слов, входящих в предложение в следующем виде:\n",
    "```\n",
    "PRP   VBD   DT      NNS     CC   VBD      NNS        RB   \n",
    " I  omitted the raspberries and added strawberries instead\n",
    "``` \n",
    "Для определения части речи слова можно воспользоваться `nltk.pos_tag`.\n",
    "\n",
    "Проверьте работоспособность функции на любом предложении из отзывов.\n"
   ]
  },
  {
   "cell_type": "code",
   "execution_count": 31,
   "metadata": {},
   "outputs": [],
   "source": [
    "#import nltk\n",
    "#nltk.download('averaged_perceptron_tagger')"
   ]
  },
  {
   "cell_type": "code",
   "execution_count": 32,
   "metadata": {},
   "outputs": [],
   "source": [
    "import re\n",
    "from typing import List"
   ]
  },
  {
   "cell_type": "code",
   "execution_count": 33,
   "metadata": {},
   "outputs": [],
   "source": [
    "class SentenceManager:\n",
    "    \n",
    "    PATTERN = re.compile(r'(^(^[!\"#$%&\\'()*+\\,\\-.\\/:;<=>?@[\\]^_`{|}~]|^[0-9]))')\n",
    "    \n",
    "    @validate_arguments\n",
    "    def __init__(self, sentence : List[str]) -> None:\n",
    "        self._sentence = sentence\n",
    "        self._results = None\n",
    "        self.processing()\n",
    "\n",
    "    def processing(self) -> None:\n",
    "        \"\"\"Разбивка слов по частям речи\"\"\"\n",
    "        new_words = [word for word in self._sentence if self.PATTERN.match(word) is None]\n",
    "        self._results = nltk.pos_tag(new_words)\n",
    "    \n",
    "    def info(self):\n",
    "        \"\"\"Информация о предложении\"\"\"\n",
    "        str_results_first, str_results_second = [], []\n",
    "        for item in self._results:\n",
    "            word_len = max(map(len,item))+1\n",
    "            \n",
    "            buffer1 = \"{0:^{word_len}}\".format(item[1],word_len=word_len)\n",
    "            str_results_first.append(buffer1)\n",
    "            \n",
    "            buffer2 = \"{0:^{word_len}}\".format(item[0], word_len=word_len)\n",
    "            str_results_second.append(buffer2)\n",
    "\n",
    "        result = f\"{' '.join(str_results_first)}\\n{' '.join(str_results_second)}\\n\"\n",
    "        print(result)"
   ]
  },
  {
   "cell_type": "code",
   "execution_count": 34,
   "metadata": {},
   "outputs": [
    {
     "name": "stdout",
     "output_type": "stream",
     "text": [
      " DT   VBZ  DT   JJ       NN     IN  DT    NN    IN     JJ        NN   \n",
      "this   is  an  easy  variation  of   a  staple  of  eritrean  cooking \n",
      "\n",
      " DT    CD   VBZ   JJ    NNS     VBP     DT   JJ    NN   VBZ   VBN  IN    VBG      VBG       NN      CC     NN    \n",
      "this  one  uses  dry  spices  whereas  the  real  deal   is  made  by  drying  roasting  pounding  and  grinding \n",
      "\n",
      " IN   DT    NN      NN    NN   VBD       RB      DT    NN     CD \n",
      "for  the  ground  chili  use  dried  preferably   a  hotter  one \n",
      "\n",
      "PRP  VBZ   VBN  IN   JJ     NNS  \n",
      " it   is  used  in  many  dishes \n",
      "\n",
      " VB   NN  TO   DT   TO   VB   DT    NN     VBN     NN   \n",
      "add  oil  to  this  to  make   a  paste  called  da'lik \n",
      "\n"
     ]
    }
   ],
   "source": [
    "review = random.choice(list(sentences_dict.values()))\n",
    "for sentence in review:\n",
    "    manager = SentenceManager(sentence)\n",
    "    manager.info()\n",
    "\n"
   ]
  },
  {
   "cell_type": "code",
   "execution_count": null,
   "metadata": {},
   "outputs": [],
   "source": []
  }
 ],
 "metadata": {
  "kernelspec": {
   "display_name": "Python 3 (ipykernel)",
   "language": "python",
   "name": "python3"
  },
  "language_info": {
   "codemirror_mode": {
    "name": "ipython",
    "version": 3
   },
   "file_extension": ".py",
   "mimetype": "text/x-python",
   "name": "python",
   "nbconvert_exporter": "python",
   "pygments_lexer": "ipython3",
   "version": "3.10.6"
  }
 },
 "nbformat": 4,
 "nbformat_minor": 4
}
