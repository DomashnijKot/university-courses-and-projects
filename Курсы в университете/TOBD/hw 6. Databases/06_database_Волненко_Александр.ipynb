{
 "cells": [
  {
   "cell_type": "markdown",
   "metadata": {},
   "source": [
    "# Работа с базами данных"
   ]
  },
  {
   "cell_type": "markdown",
   "metadata": {},
   "source": [
    "Материалы:\n",
    "* Макрушин С.В. Лекция 6: Работа с базами данных\n",
    "* https://sqliteonline.com/\n",
    "* https://docs.python.org/3/library/sqlite3.html\n",
    "* https://www.geeksforgeeks.org/sql-join-set-1-inner-left-right-and-full-joins/\n",
    "* https://www.datacamp.com/community/tutorials/group-by-having-clause-sql"
   ]
  },
  {
   "cell_type": "markdown",
   "metadata": {},
   "source": [
    "## Задачи для совместного разбора"
   ]
  },
  {
   "cell_type": "markdown",
   "metadata": {},
   "source": [
    "1. Работая с базой данных `Chinook_Sqlite.sqlite`, найдите и выведите на экран имена и фамилии всех заказчиков из Канады"
   ]
  },
  {
   "cell_type": "markdown",
   "metadata": {},
   "source": [
    "2. Найти и вывести на экран названия всех альбомов группы Accept"
   ]
  },
  {
   "cell_type": "markdown",
   "metadata": {},
   "source": [
    "3. Создайте базу данных с названием вашей группы. В этой базе данных создайте таблицу Student, содержащую 2 столбца: id и name. Добавьте в таблицу Student информацию о студентах, сидящих с вами по соседству."
   ]
  },
  {
   "cell_type": "markdown",
   "metadata": {},
   "source": [
    "## Лабораторная работа 6"
   ]
  },
  {
   "cell_type": "code",
   "execution_count": 4,
   "metadata": {},
   "outputs": [],
   "source": [
    "import  sqlite3 # Подключаем модуль \n",
    "import pandas as pd\n",
    "import csv"
   ]
  },
  {
   "cell_type": "markdown",
   "metadata": {},
   "source": [
    "1. Создайте файл базы данных c названием `recipes.db`. Создайте объект-курсор. "
   ]
  },
  {
   "cell_type": "code",
   "execution_count": 5,
   "metadata": {},
   "outputs": [],
   "source": [
    "con = sqlite3.connect(\"data/recipes.db\")\n",
    "cur = con.cursor()"
   ]
  },
  {
   "cell_type": "markdown",
   "metadata": {},
   "source": [
    "2. Напишите и выполните SQL-запрос для создания таблицы рецептов `Recipe`. Таблица должна содержать следующие поля:\n",
    "`id`, `name`, `minutes`, `submitted`, `description`, `n_ingredients`. Определитесь с типами и составом ключевых полей."
   ]
  },
  {
   "cell_type": "code",
   "execution_count": 30,
   "metadata": {},
   "outputs": [
    {
     "name": "stdout",
     "output_type": "stream",
     "text": [
      "Запрос успешно выполнен\n"
     ]
    }
   ],
   "source": [
    "try: \n",
    "    cur.execute(\n",
    "                '''\n",
    "                CREATE TABLE Recipe\n",
    "                    (\n",
    "                        id INTEGER PRIMARY KEY NOT NULL,\n",
    "                        name TEXT,\n",
    "                        minutes INTEGER,\n",
    "                        submitted TEXT,\n",
    "                        description TEXT,\n",
    "                        n_ingredients INTEGER\n",
    "                    );\n",
    "                '''\n",
    "                )\n",
    "\n",
    "except sqlite3.DatabaseError as  err: \n",
    "    print(\"Ошибка:\", err) \n",
    "else: \n",
    "    print (\"Запрос успешно выполнен\") \n",
    "    con.commit() \n",
    "    #cur.close()\n",
    "    #con.close()\n"
   ]
  },
  {
   "cell_type": "markdown",
   "metadata": {},
   "source": [
    "3. Напишите и выполните SQL-запрос для создания таблицы отзывов `Review`. Таблица должна содержать следующие поля:\n",
    "`id`, `user_id`, `recipe_id`, `date`, `rating`, `review`. Определитесь с типами полей, набором ключевых полей. При помощи внешнего ключа соедините две таблицы."
   ]
  },
  {
   "cell_type": "code",
   "execution_count": 42,
   "metadata": {},
   "outputs": [],
   "source": [
    "#cur.execute('DROP TABLE Review')\n",
    "#con.commit()"
   ]
  },
  {
   "cell_type": "code",
   "execution_count": 43,
   "metadata": {},
   "outputs": [
    {
     "name": "stdout",
     "output_type": "stream",
     "text": [
      "Запрос успешно выполнен\n"
     ]
    }
   ],
   "source": [
    "try: \n",
    "    cur.execute(\n",
    "                '''\n",
    "                CREATE TABLE Review\n",
    "                    (\n",
    "                        id INTEGER PRIMARY KEY NOT NULL,\n",
    "                        user_id INTEGER NOT NULL,\n",
    "                        recipe_id INTEGER,\n",
    "                        date TEXT,\n",
    "                        rating REAL,\n",
    "                        review TEXT,\n",
    "                        FOREIGN KEY (recipe_id) REFERENCES Recipe (id) \n",
    "                    );\n",
    "                '''\n",
    "                )\n",
    "\n",
    "except sqlite3.DatabaseError as  err: \n",
    "    print(\"Ошибка:\", err) \n",
    "else: \n",
    "    print (\"Запрос успешно выполнен\") \n",
    "    con.commit() \n",
    "    #cur.close()\n",
    "    #con.close()\n"
   ]
  },
  {
   "cell_type": "markdown",
   "metadata": {},
   "source": [
    "4. Загрузите данные из файлов `reviews_sample.csv` (__ЛР2__) и `recipes_sample_with_tags_ingredients.csv` (__ЛР5__) в созданные таблицы"
   ]
  },
  {
   "cell_type": "code",
   "execution_count": 6,
   "metadata": {},
   "outputs": [],
   "source": [
    "with open('data/reviews_sample.csv') as file:\n",
    "    csvreader = csv.reader(file)\n",
    "    header = next(csvreader)\n",
    "    reviews = []\n",
    "    for row in csvreader:\n",
    "        reviews.append(tuple(row))\n",
    "#reviews"
   ]
  },
  {
   "cell_type": "code",
   "execution_count": 44,
   "metadata": {},
   "outputs": [
    {
     "name": "stdout",
     "output_type": "stream",
     "text": [
      "Запрос успешно выполнен\n"
     ]
    }
   ],
   "source": [
    "try: \n",
    "    cur.executemany('INSERT INTO Review VALUES (?, ?, ?, ?, ?, ?)', reviews)\n",
    "\n",
    "except sqlite3.DatabaseError as  err: \n",
    "    print(\"Ошибка:\", err) \n",
    "else: \n",
    "    print (\"Запрос успешно выполнен\") \n",
    "    con.commit() \n",
    "    #cur.close()\n",
    "    #con.close()\n"
   ]
  },
  {
   "cell_type": "code",
   "execution_count": 7,
   "metadata": {},
   "outputs": [],
   "source": [
    "with open('data/recipes_sample_with_tags_ingredients.csv') as file:\n",
    "    csvreader = csv.reader(file)\n",
    "    header = next(csvreader)\n",
    "    recipes = []\n",
    "    for row in csvreader:\n",
    "        recipes.append((row[2], row[1], row[3], row[5], row[7], row[8]))\n",
    "#recipes"
   ]
  },
  {
   "cell_type": "code",
   "execution_count": 38,
   "metadata": {},
   "outputs": [
    {
     "name": "stdout",
     "output_type": "stream",
     "text": [
      "Запрос успешно выполнен\n"
     ]
    }
   ],
   "source": [
    "try: \n",
    "    cur.executemany('INSERT INTO Recipe VALUES (?, ?, ?, ?, ?, ?)', recipes)\n",
    "\n",
    "except sqlite3.DatabaseError as  err: \n",
    "    print(\"Ошибка:\", err) \n",
    "else: \n",
    "    print (\"Запрос успешно выполнен\") \n",
    "    con.commit() \n",
    "    #cur.close()\n",
    "    #con.close()\n"
   ]
  },
  {
   "cell_type": "markdown",
   "metadata": {},
   "source": [
    "5. Найдите все рецепты, для выполнения которых нужно ровно 10 ингредиентов. Выведите на экран первые 5 из найденных рецептов."
   ]
  },
  {
   "cell_type": "code",
   "execution_count": 8,
   "metadata": {},
   "outputs": [
    {
     "data": {
      "text/plain": [
       "<sqlite3.Cursor at 0x7fa20cc1a500>"
      ]
     },
     "execution_count": 8,
     "metadata": {},
     "output_type": "execute_result"
    }
   ],
   "source": [
    "cur.execute('''\n",
    "                SELECT * FROM RECIPE \n",
    "                WHERE n_ingredients = 10\n",
    "                \n",
    "            ''')"
   ]
  },
  {
   "cell_type": "code",
   "execution_count": 9,
   "metadata": {},
   "outputs": [
    {
     "name": "stdout",
     "output_type": "stream",
     "text": [
      "(176, 'cola cake', 55, '1999-08-22', '', 10)\n",
      "(246, 'lee s hot crab dip', 45, '1999-09-01', \"lee's hot crab dip\", 10)\n",
      "(289, 'feijoada  brazilian bean soup  ii', 150, '1999-10-04', 'brazilian bean soup', 10)\n",
      "(373, 'tiramisu   balducci s in new york city', 95, '1999-08-17', 'this is an adopted recipe. i shall be trying it out and then post any additional information if needs be. if you are going to give any or no stars, please at least give the reason why so that you can help me improve the recipe. thank you.', 10)\n",
      "(544, 'greek mushroom salad', 38, '1999-08-10', '', 10)\n"
     ]
    }
   ],
   "source": [
    "for row in cur.fetchmany(5):\n",
    "    print(row)"
   ]
  },
  {
   "cell_type": "markdown",
   "metadata": {},
   "source": [
    "6. Найдите название рецепта, для выполнения которого требуется больше всего времени."
   ]
  },
  {
   "cell_type": "code",
   "execution_count": 10,
   "metadata": {},
   "outputs": [
    {
     "name": "stdout",
     "output_type": "stream",
     "text": [
      "('strawberry liqueur', 129615)\n"
     ]
    }
   ],
   "source": [
    "cur.execute('''\n",
    "            SELECT name, MAX(minutes) FROM Recipe      \n",
    "            ''')\n",
    "print(cur.fetchone())"
   ]
  },
  {
   "cell_type": "markdown",
   "metadata": {},
   "source": [
    "7. Запросите у пользователя id рецепта и верните информацию об этом рецепте. Если рецепт отсуствует, выведите соответствующее сообщение."
   ]
  },
  {
   "cell_type": "code",
   "execution_count": 24,
   "metadata": {},
   "outputs": [
    {
     "name": "stdout",
     "output_type": "stream",
     "text": [
      "-1\n",
      "Рецепт отсутствует\n"
     ]
    }
   ],
   "source": [
    "inp_id = int(input())\n",
    "try: \n",
    "    cur.execute('''\n",
    "                        SELECT * FROM Recipe\n",
    "                        WHERE id = (?)\n",
    "    \n",
    "                ''', (inp_id,))\n",
    "\n",
    "except sqlite3.DatabaseError as  err: \n",
    "    print(\"Ошибка:\", err) \n",
    "else: \n",
    "    res = cur.fetchone()\n",
    "    if res == None:\n",
    "        print('Рецепт отсутствует')\n",
    "    else:\n",
    "        print(res)"
   ]
  },
  {
   "cell_type": "markdown",
   "metadata": {},
   "source": [
    "8. Найдите кол-во отзывов с рейтингом 5."
   ]
  },
  {
   "cell_type": "code",
   "execution_count": 35,
   "metadata": {
    "scrolled": true
   },
   "outputs": [
    {
     "name": "stdout",
     "output_type": "stream",
     "text": [
      "91361\n"
     ]
    }
   ],
   "source": [
    "try: \n",
    "    cur.execute('''\n",
    "                        SELECT * FROM Review\n",
    "                        WHERE rating = 5\n",
    "    \n",
    "                ''')\n",
    "\n",
    "except sqlite3.DatabaseError as  err: \n",
    "    print(\"Ошибка:\", err) \n",
    "else: \n",
    "    print(len(cur.fetchall()))"
   ]
  },
  {
   "cell_type": "markdown",
   "metadata": {},
   "source": [
    "9. Найдите кол-во уникальных рецептов, не имеющих отзывов с рейтингом, меньше 4. "
   ]
  },
  {
   "cell_type": "code",
   "execution_count": 40,
   "metadata": {},
   "outputs": [
    {
     "name": "stdout",
     "output_type": "stream",
     "text": [
      "26318\n"
     ]
    }
   ],
   "source": [
    "# 1 вариант\n",
    "try: \n",
    "    cur.execute('''\n",
    "                        SELECT recipe_id, MAX(rating), review FROM Review\n",
    "                        WHERE rating >= 4\n",
    "                        GROUP BY recipe_id\n",
    "                ''')\n",
    "\n",
    "except sqlite3.DatabaseError as  err: \n",
    "    print(\"Ошибка:\", err) \n",
    "else: \n",
    "    res = cur.fetchall()\n",
    "    print(len(res))\n",
    "    #for i in range(0, 10):\n",
    "      #  print(res[i])"
   ]
  },
  {
   "cell_type": "code",
   "execution_count": 44,
   "metadata": {},
   "outputs": [
    {
     "name": "stdout",
     "output_type": "stream",
     "text": [
      "26318\n"
     ]
    }
   ],
   "source": [
    "# 2 вариант \n",
    "try: \n",
    "    cur.execute('''\n",
    "                        SELECT DISTINCT recipe_id FROM Review\n",
    "                        WHERE rating >= 4\n",
    "                ''')\n",
    "\n",
    "except sqlite3.DatabaseError as  err: \n",
    "    print(\"Ошибка:\", err) \n",
    "else: \n",
    "    res = cur.fetchall()\n",
    "    print(len(res))\n",
    "    #for i in range(0, 10):\n",
    "      #  print(res[i])"
   ]
  },
  {
   "cell_type": "markdown",
   "metadata": {},
   "source": [
    "10. Найдите кол-во рецептов, опубликованных в 2010 году и имеющих длину не менее 15 минут."
   ]
  },
  {
   "cell_type": "code",
   "execution_count": 50,
   "metadata": {},
   "outputs": [
    {
     "name": "stdout",
     "output_type": "stream",
     "text": [
      "1319\n"
     ]
    }
   ],
   "source": [
    "# 2 вариант \n",
    "try: \n",
    "    cur.execute('''\n",
    "                        SELECT * FROM Recipe\n",
    "                        WHERE submitted > '2009-12-31' and submitted < '2011-01-01' \n",
    "                        and minutes >= 15\n",
    "                ''')\n",
    "\n",
    "except sqlite3.DatabaseError as  err: \n",
    "    print(\"Ошибка:\", err) \n",
    "else: \n",
    "    res = cur.fetchall()\n",
    "    print(len(res))"
   ]
  },
  {
   "cell_type": "markdown",
   "metadata": {},
   "source": [
    "11. Выберите id рецепта, название рецепта, id пользователя, оставившего отзыв, дату отзыва и рейтинг для тех рецептов, которые имеют не менее 3 ингредиентов. Отсортируйте результат по id рецепта."
   ]
  },
  {
   "cell_type": "code",
   "execution_count": null,
   "metadata": {},
   "outputs": [],
   "source": [
    "# 2 вариант \n",
    "try: \n",
    "    cur.execute('''\n",
    "                        SELECT Recipe.id, Recipe.name, Review.user_id, Review.date, Review.rating\n",
    "                        FROM Recipe\n",
    "                        LEFT JOIN Review ON Recipe.id = Review.recipe_id\n",
    "                        WHERE Recipe.n_ingredients >= 3\n",
    "                        ORDER BY Recipe.id\n",
    "                        \n",
    "                ''')\n",
    "\n",
    "except sqlite3.DatabaseError as  err: \n",
    "    print(\"Ошибка:\", err) \n",
    "else: \n",
    "    res = cur.fetchall()\n",
    "    for row in res:\n",
    "        print(row)"
   ]
  },
  {
   "cell_type": "code",
   "execution_count": null,
   "metadata": {},
   "outputs": [],
   "source": []
  }
 ],
 "metadata": {
  "kernelspec": {
   "display_name": "Python 3",
   "language": "python",
   "name": "python3"
  },
  "language_info": {
   "codemirror_mode": {
    "name": "ipython",
    "version": 3
   },
   "file_extension": ".py",
   "mimetype": "text/x-python",
   "name": "python",
   "nbconvert_exporter": "python",
   "pygments_lexer": "ipython3",
   "version": "3.8.5"
  }
 },
 "nbformat": 4,
 "nbformat_minor": 4
}
