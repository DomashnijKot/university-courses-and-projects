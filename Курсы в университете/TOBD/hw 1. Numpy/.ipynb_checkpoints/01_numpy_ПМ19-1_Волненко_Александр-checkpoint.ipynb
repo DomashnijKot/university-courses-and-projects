{
 "cells": [
  {
   "cell_type": "markdown",
   "metadata": {},
   "source": [
    "# Numpy"
   ]
  },
  {
   "cell_type": "markdown",
   "metadata": {},
   "source": [
    "Материалы:\n",
    "* Макрушин С.В. \"Лекция 1: Библиотека Numpy\"\n",
    "* https://numpy.org/doc/stable/user/index.html\n",
    "* https://numpy.org/doc/stable/reference/index.html"
   ]
  },
  {
   "cell_type": "markdown",
   "metadata": {},
   "source": [
    "## Задачи для совместного разбора"
   ]
  },
  {
   "cell_type": "markdown",
   "metadata": {},
   "source": [
    "1. Сгенерировать двухмерный массив `arr` размерности (4, 7), состоящий из случайных действительных чисел, равномерно распределенных в диапазоне от 0 до 20. Нормализовать значения массива с помощью преобразования вида  $𝑎𝑥+𝑏$  так, что после нормализации максимальный элемент масcива будет равен 1.0, минимальный 0.0"
   ]
  },
  {
   "cell_type": "code",
   "execution_count": 1,
   "metadata": {},
   "outputs": [
    {
     "data": {
      "text/plain": [
       "array([[0.59868893, 0.10036028, 0.40445713, 0.32569732, 0.47619017,\n",
       "        0.29904933, 0.2136527 ],\n",
       "       [0.0655688 , 0.56893766, 0.08991704, 0.53907482, 0.51959275,\n",
       "        0.24628045, 0.20662347],\n",
       "       [0.40307508, 0.39367719, 0.08832276, 0.19820937, 0.19055821,\n",
       "        0.54503398, 0.54962388],\n",
       "       [0.4240196 , 0.20551472, 0.54622945, 0.09350101, 0.5794941 ,\n",
       "        0.36602396, 0.03278841]])"
      ]
     },
     "execution_count": 1,
     "metadata": {},
     "output_type": "execute_result"
    }
   ],
   "source": [
    "from sklearn import preprocessing\n",
    "import numpy as np\n",
    "\n",
    "a = np.random.rand(4,7) * 20\n",
    "normalized = preprocessing.normalize(a)\n",
    "normalized"
   ]
  },
  {
   "cell_type": "markdown",
   "metadata": {},
   "source": [
    "2. Создать матрицу 8 на 10 из случайных целых (используя модуль `numpy.random`) чисел из диапозона от 0 до 10 и найти в ней строку (ее индекс и вывести саму строку), в которой сумма значений минимальна."
   ]
  },
  {
   "cell_type": "code",
   "execution_count": 2,
   "metadata": {},
   "outputs": [
    {
     "name": "stdout",
     "output_type": "stream",
     "text": [
      "5 :  [0.31871144 7.25471616 6.56263111 2.36638557 8.51413997 3.65767672\n",
      " 5.39286016 7.76379238 0.68869311 0.38892747] 42.90853408665589\n",
      "res: 42.90853408665589\n"
     ]
    }
   ],
   "source": [
    "#using loopes\n",
    "b = np.random.rand(8,10) * 10\n",
    "res_i = 0\n",
    "res_sum = 101\n",
    "for i in range(8):\n",
    "    if sum(b[i]) < res_sum:\n",
    "        res_sum = sum(b[i])\n",
    "        res_i = i\n",
    "print(res_i, ': ', b[res_i], res_sum)\n",
    "print('res:', np.min(np.sum(b, axis=1)))"
   ]
  },
  {
   "cell_type": "code",
   "execution_count": 3,
   "metadata": {},
   "outputs": [
    {
     "name": "stdout",
     "output_type": "stream",
     "text": [
      "Индекс строки 7\n",
      "Сама строка: [1.61057516 3.76194311 3.64816214 2.60446765 5.37513594 1.70089252\n",
      " 8.67322904 1.49622406 9.58297663 0.59349442]\n"
     ]
    }
   ],
   "source": [
    "#using numpy\n",
    "b = np.random.rand(8,10) * 10\n",
    "res_i = np.argmin(np.sum(b, axis=1))\n",
    "res_arr = b[res_i]\n",
    "print('Индекс строки', res_i)\n",
    "print('Сама строка:', res_arr)"
   ]
  },
  {
   "cell_type": "markdown",
   "metadata": {},
   "source": [
    "3. Найти евклидово расстояние между двумя одномерными векторами одинаковой размерности."
   ]
  },
  {
   "cell_type": "code",
   "execution_count": 4,
   "metadata": {},
   "outputs": [
    {
     "data": {
      "text/plain": [
       "5.196152422706632"
      ]
     },
     "execution_count": 4,
     "metadata": {},
     "output_type": "execute_result"
    }
   ],
   "source": [
    "from scipy.spatial import distance\n",
    "a = (1, 2, 3)\n",
    "b = (4, 5, 6)\n",
    "dst = distance.euclidean(a, b)\n",
    "dst"
   ]
  },
  {
   "cell_type": "code",
   "execution_count": null,
   "metadata": {},
   "outputs": [],
   "source": []
  },
  {
   "cell_type": "markdown",
   "metadata": {},
   "source": [
    "4. Решить матричное уравнение `A*X*B=-C` - найти матрицу `X`. Где `A = [[-1, 2, 4], [-3, 1, 2], [-3, 0, 1]]`, `B=[[3, -1], [2, 1]]`, `C=[[7, 21], [11, 8], [8, 4]]`."
   ]
  },
  {
   "cell_type": "code",
   "execution_count": null,
   "metadata": {},
   "outputs": [],
   "source": []
  },
  {
   "cell_type": "markdown",
   "metadata": {},
   "source": [
    "## Лабораторная работа №1"
   ]
  },
  {
   "cell_type": "code",
   "execution_count": 5,
   "metadata": {},
   "outputs": [],
   "source": [
    "## Сгенерированные номера задач: [1, 3, 6, 7, 8, 9, 10, 11, 12, 13]"
   ]
  },
  {
   "cell_type": "markdown",
   "metadata": {},
   "source": [
    "Замечание: при решении данных задач не подразумевается использования циклов или генераторов Python, если в задании не сказано обратного. Решение должно опираться на использования функционала библиотеки `numpy`."
   ]
  },
  {
   "cell_type": "code",
   "execution_count": 6,
   "metadata": {},
   "outputs": [],
   "source": [
    "import numpy as np\n",
    "import pandas as pd"
   ]
  },
  {
   "cell_type": "code",
   "execution_count": 7,
   "metadata": {},
   "outputs": [
    {
     "data": {
      "text/html": [
       "<div>\n",
       "<style scoped>\n",
       "    .dataframe tbody tr th:only-of-type {\n",
       "        vertical-align: middle;\n",
       "    }\n",
       "\n",
       "    .dataframe tbody tr th {\n",
       "        vertical-align: top;\n",
       "    }\n",
       "\n",
       "    .dataframe thead th {\n",
       "        text-align: right;\n",
       "    }\n",
       "</style>\n",
       "<table border=\"1\" class=\"dataframe\">\n",
       "  <thead>\n",
       "    <tr style=\"text-align: right;\">\n",
       "      <th></th>\n",
       "      <th>id</th>\n",
       "      <th>minutes</th>\n",
       "      <th>n_ingredients</th>\n",
       "    </tr>\n",
       "  </thead>\n",
       "  <tbody>\n",
       "    <tr>\n",
       "      <th>0</th>\n",
       "      <td>127244</td>\n",
       "      <td>60</td>\n",
       "      <td>16</td>\n",
       "    </tr>\n",
       "    <tr>\n",
       "      <th>1</th>\n",
       "      <td>23891</td>\n",
       "      <td>25</td>\n",
       "      <td>7</td>\n",
       "    </tr>\n",
       "    <tr>\n",
       "      <th>2</th>\n",
       "      <td>94746</td>\n",
       "      <td>10</td>\n",
       "      <td>6</td>\n",
       "    </tr>\n",
       "    <tr>\n",
       "      <th>3</th>\n",
       "      <td>67660</td>\n",
       "      <td>5</td>\n",
       "      <td>6</td>\n",
       "    </tr>\n",
       "    <tr>\n",
       "      <th>4</th>\n",
       "      <td>157911</td>\n",
       "      <td>60</td>\n",
       "      <td>14</td>\n",
       "    </tr>\n",
       "  </tbody>\n",
       "</table>\n",
       "</div>"
      ],
      "text/plain": [
       "       id  minutes  n_ingredients\n",
       "0  127244       60             16\n",
       "1   23891       25              7\n",
       "2   94746       10              6\n",
       "3   67660        5              6\n",
       "4  157911       60             14"
      ]
     },
     "execution_count": 7,
     "metadata": {},
     "output_type": "execute_result"
    }
   ],
   "source": [
    "dt = pd.read_csv(\"./minutes_n_ingredients.csv\")\n",
    "dt.head()"
   ]
  },
  {
   "cell_type": "markdown",
   "metadata": {},
   "source": [
    "### 1. Файл `minutes_n_ingredients.csv` содержит информацию об идентификаторе рецепта, времени его выполнения в минутах и количестве необходимых ингредиентов. Считайте данные из этого файла в виде массива `numpy` типа `int32`, используя `np.loadtxt`. Выведите на экран первые 5 строк массива."
   ]
  },
  {
   "cell_type": "code",
   "execution_count": 8,
   "metadata": {},
   "outputs": [
    {
     "data": {
      "text/plain": [
       "array([[127244,     60,     16],\n",
       "       [ 23891,     25,      7],\n",
       "       [ 94746,     10,      6],\n",
       "       [ 67660,      5,      6],\n",
       "       [157911,     60,     14]], dtype=int32)"
      ]
     },
     "execution_count": 8,
     "metadata": {},
     "output_type": "execute_result"
    }
   ],
   "source": [
    "data = np.loadtxt(\"./minutes_n_ingredients.csv\", delimiter=\",\", dtype=\"int32\", skiprows=1)\n",
    "data[:5,:]"
   ]
  },
  {
   "cell_type": "markdown",
   "metadata": {},
   "source": [
    "### 2. Вычислите среднее значение, минимум, максимум и медиану по каждому из столбцов, кроме первого."
   ]
  },
  {
   "cell_type": "code",
   "execution_count": 9,
   "metadata": {},
   "outputs": [
    {
     "name": "stdout",
     "output_type": "stream",
     "text": [
      "min of second column: 0, min of third column: 1\n",
      "max of second column: 2147483647, max of third column: 39\n",
      "median of second column: 40.0, median of third column: 9.0\n"
     ]
    }
   ],
   "source": [
    "mini = data[:, 1:].min(axis=0)\n",
    "maxi = data[:, 1:].max(axis=0)\n",
    "med = np.median(data[:, 1:], axis=0)\n",
    "print(\"min of second column: {0}, min of third column: {1}\".format(mini[0], mini[1]))\n",
    "print(\"max of second column: {0}, max of third column: {1}\".format(maxi[0], maxi[1]))\n",
    "print(\"median of second column: {0}, median of third column: {1}\".format(med[0], med[1]))"
   ]
  },
  {
   "cell_type": "markdown",
   "metadata": {},
   "source": [
    "### 3. Ограничьте сверху значения продолжительности выполнения рецепта значением квантиля $q_{0.75}$. "
   ]
  },
  {
   "cell_type": "code",
   "execution_count": 10,
   "metadata": {},
   "outputs": [],
   "source": [
    "## Вариант 1: Ограничьте сверху значения продолжительности выполнения рецепта - значит заменить\n",
    "## все значения, которые больше q0.75 этим значением\n",
    "qua = np.quantile(data[:, 1], .75)\n",
    "data_new = data.copy()\n",
    "data_new[:, 1] = np.vectorize(lambda x: x if x <= qua else qua)(data[:, 1])"
   ]
  },
  {
   "cell_type": "code",
   "execution_count": 11,
   "metadata": {},
   "outputs": [
    {
     "data": {
      "text/plain": [
       "array([[127244,     60,     16],\n",
       "       [ 23891,     25,      7],\n",
       "       [ 94746,     10,      6],\n",
       "       ...,\n",
       "       [ 43407,     35,      7],\n",
       "       [498432,     65,     15],\n",
       "       [370915,      5,      4]], dtype=int32)"
      ]
     },
     "execution_count": 11,
     "metadata": {},
     "output_type": "execute_result"
    }
   ],
   "source": [
    "## Вариант 2: Ограничьте сверху значения продолжительности выполнения рецепта - значит вывести\n",
    "## только те значения, которые меньше q0.75\n",
    "data[data[:, 1] <= qua]"
   ]
  },
  {
   "cell_type": "markdown",
   "metadata": {},
   "source": [
    "### 4. Посчитайте, для скольких рецептов указана продолжительность, равная нулю. Замените для таких строк значение в данном столбце на 1."
   ]
  },
  {
   "cell_type": "code",
   "execution_count": 12,
   "metadata": {},
   "outputs": [],
   "source": [
    "## Вариант 1\n",
    "data[data[:, 1] == 0].shape[0]\n",
    "data_nz = data.copy()\n",
    "data_nz[:, 1] = np.where(data_nz[:, 1] == 0, 1, data_nz[:, 1]) "
   ]
  },
  {
   "cell_type": "code",
   "execution_count": 13,
   "metadata": {},
   "outputs": [],
   "source": [
    "## Вариант 2\n",
    "unique, counts = np.unique(data[:, 1], return_counts=True)\n",
    "dict(zip(unique, counts))[0]\n",
    "data_nz = data.copy()\n",
    "data_nz[:, 1] = np.where(data_nz[:, 1] == 0, 1, data_nz[:, 1]) "
   ]
  },
  {
   "cell_type": "markdown",
   "metadata": {},
   "source": [
    "### 5. Посчитайте, сколько уникальных рецептов находится в датасете."
   ]
  },
  {
   "cell_type": "code",
   "execution_count": 14,
   "metadata": {},
   "outputs": [
    {
     "data": {
      "text/plain": [
       "100000"
      ]
     },
     "execution_count": 14,
     "metadata": {},
     "output_type": "execute_result"
    }
   ],
   "source": [
    "# Уникальный - уникальное id\n",
    "np.unique(data[:, 0]).size"
   ]
  },
  {
   "cell_type": "code",
   "execution_count": 15,
   "metadata": {},
   "outputs": [
    {
     "data": {
      "text/plain": [
       "100000"
      ]
     },
     "execution_count": 15,
     "metadata": {},
     "output_type": "execute_result"
    }
   ],
   "source": [
    "data.shape[0]"
   ]
  },
  {
   "cell_type": "code",
   "execution_count": 77,
   "metadata": {},
   "outputs": [
    {
     "data": {
      "text/plain": [
       "656"
      ]
     },
     "execution_count": 77,
     "metadata": {},
     "output_type": "execute_result"
    }
   ],
   "source": [
    "## Уникальный рецепт = уникальная комбинация времени и кол-ва ингридиентов\n",
    "np.unique(data[:, 1:]).size"
   ]
  },
  {
   "cell_type": "markdown",
   "metadata": {},
   "source": [
    "### 6. Сколько и каких различных значений кол-ва ингредиентов присутвует в рецептах из датасета?"
   ]
  },
  {
   "cell_type": "code",
   "execution_count": 16,
   "metadata": {},
   "outputs": [
    {
     "name": "stdout",
     "output_type": "stream",
     "text": [
      "Количество различных значений кол-ва ингредиентов: 37\n",
      "Какие: [ 1  2  3  4  5  6  7  8  9 10 11 12 13 14 15 16 17 18 19 20 21 22 23 24\n",
      " 25 26 27 28 29 30 31 32 33 34 35 37 39]\n"
     ]
    }
   ],
   "source": [
    "unique = np.unique(data[:, 2])\n",
    "print(\"Количество различных значений кол-ва ингредиентов:\", unique.size)\n",
    "print(\"Какие:\", unique)"
   ]
  },
  {
   "cell_type": "markdown",
   "metadata": {},
   "source": [
    "### 7. Создайте версию массива, содержащую информацию только о рецептах, состоящих не более чем из 5 ингредиентов."
   ]
  },
  {
   "cell_type": "code",
   "execution_count": 17,
   "metadata": {},
   "outputs": [
    {
     "data": {
      "text/plain": [
       "array([[446597,     15,      5],\n",
       "       [204134,      5,      3],\n",
       "       [ 25623,      6,      4],\n",
       "       ...,\n",
       "       [ 52088,     60,      5],\n",
       "       [128811,     15,      4],\n",
       "       [370915,      5,      4]], dtype=int32)"
      ]
     },
     "execution_count": 17,
     "metadata": {},
     "output_type": "execute_result"
    }
   ],
   "source": [
    "data[data[:, 2] <= 5]"
   ]
  },
  {
   "cell_type": "markdown",
   "metadata": {},
   "source": [
    "### 8. Для каждого рецепта посчитайте, сколько в среднем ингредиентов приходится на одну минуту рецепта. Найдите максимальное значение этой величины для всего датасета"
   ]
  },
  {
   "cell_type": "code",
   "execution_count": 18,
   "metadata": {},
   "outputs": [
    {
     "name": "stdout",
     "output_type": "stream",
     "text": [
      "Max ingredient per minute: 24.0\n"
     ]
    }
   ],
   "source": [
    "## Делим количество ингридиентов на кол-во минут\n",
    "## Используем копию датасета, в котором мы заменили 0 во второй колонке на 1 (4 задание)\n",
    "\n",
    "ing_per_min = data_nz[:, 2] / data_nz[:, 1]\n",
    "print('Max ingredient per minute:', ing_per_min.max())"
   ]
  },
  {
   "cell_type": "markdown",
   "metadata": {},
   "source": [
    "### 9. Вычислите среднее количество ингредиентов для топ-100 рецептов с наибольшей продолжительностью"
   ]
  },
  {
   "cell_type": "code",
   "execution_count": 19,
   "metadata": {},
   "outputs": [
    {
     "data": {
      "text/plain": [
       "6.61"
      ]
     },
     "execution_count": 19,
     "metadata": {},
     "output_type": "execute_result"
    }
   ],
   "source": [
    "## use fancy indexing\n",
    "np.mean(data[data[:, 1].argsort()[::-1]][:100, 2])"
   ]
  },
  {
   "cell_type": "markdown",
   "metadata": {},
   "source": [
    "### 10. Выберите случайным образом и выведите информацию о 10 различных рецептах"
   ]
  },
  {
   "cell_type": "code",
   "execution_count": 20,
   "metadata": {},
   "outputs": [
    {
     "data": {
      "text/plain": [
       "array([[198659,     16,      5],\n",
       "       [232578,     90,     15],\n",
       "       [345850,    130,      6],\n",
       "       [ 47833,     40,     13],\n",
       "       [453514,    120,     15],\n",
       "       [220361,     30,      6],\n",
       "       [197227,    375,      6],\n",
       "       [257444,      5,      4],\n",
       "       [387084,     45,      7],\n",
       "       [395909,     20,     10]], dtype=int32)"
      ]
     },
     "execution_count": 20,
     "metadata": {},
     "output_type": "execute_result"
    }
   ],
   "source": [
    "## use fancy indexing\n",
    "data[np.random.randint(0, data.shape[0], 10)]"
   ]
  },
  {
   "cell_type": "markdown",
   "metadata": {},
   "source": [
    "### 11. Выведите процент рецептов, кол-во ингредиентов в которых меньше среднего."
   ]
  },
  {
   "cell_type": "code",
   "execution_count": 21,
   "metadata": {},
   "outputs": [
    {
     "name": "stdout",
     "output_type": "stream",
     "text": [
      "58.802%\n"
     ]
    }
   ],
   "source": [
    "print(data[data[:, 2] < np.mean(data[:, 2])].shape[0] / data.shape[0] * 100, '%', sep='')"
   ]
  },
  {
   "cell_type": "markdown",
   "metadata": {},
   "source": [
    "### 12. Назовем \"простым\" такой рецепт, длительность выполнения которого не больше 20 минут и кол-во ингредиентов в котором не больше 5. Создайте версию датасета с дополнительным столбцом, значениями которого являются 1, если рецепт простой, и 0 в противном случае."
   ]
  },
  {
   "cell_type": "code",
   "execution_count": 34,
   "metadata": {},
   "outputs": [
    {
     "data": {
      "text/plain": [
       "array([[127244,     60,     16,      0],\n",
       "       [ 23891,     25,      7,      0],\n",
       "       [ 94746,     10,      6,      0],\n",
       "       ...,\n",
       "       [498432,     65,     15,      0],\n",
       "       [370915,      5,      4,      1],\n",
       "       [ 81993,    140,     14,      0]])"
      ]
     },
     "execution_count": 34,
     "metadata": {},
     "output_type": "execute_result"
    }
   ],
   "source": [
    "## Вариант 1, using np.append:\n",
    "data_new_2 = data.copy()\n",
    "a = (data[:, 1] <= 20) & (data[:, 2] <= 5).astype(int)\n",
    "a = np.reshape(a, (a.size, 1))\n",
    "data_new_2 = np.append(data_new_2, a, axis=1)\n",
    "data_new_2"
   ]
  },
  {
   "cell_type": "code",
   "execution_count": 39,
   "metadata": {},
   "outputs": [
    {
     "data": {
      "text/plain": [
       "array([[127244,     60,     16,      0],\n",
       "       [ 23891,     25,      7,      0],\n",
       "       [ 94746,     10,      6,      0],\n",
       "       ...,\n",
       "       [498432,     65,     15,      0],\n",
       "       [370915,      5,      4,      1],\n",
       "       [ 81993,    140,     14,      0]], dtype=int32)"
      ]
     },
     "execution_count": 39,
     "metadata": {},
     "output_type": "execute_result"
    }
   ],
   "source": [
    "## Вариант 2, using np.insert:\n",
    "data_new_2 = data.copy()\n",
    "a = (data[:, 1] <= 20) & (data[:, 2] <= 5).astype(int)\n",
    "data_new_2 = np.insert(data_new_2, 3, a, axis=1)\n",
    "data_new_2"
   ]
  },
  {
   "cell_type": "code",
   "execution_count": 48,
   "metadata": {},
   "outputs": [
    {
     "data": {
      "text/plain": [
       "array([[127244,     60,     16,      0],\n",
       "       [ 23891,     25,      7,      0],\n",
       "       [ 94746,     10,      6,      0],\n",
       "       ...,\n",
       "       [498432,     65,     15,      0],\n",
       "       [370915,      5,      4,      1],\n",
       "       [ 81993,    140,     14,      0]])"
      ]
     },
     "execution_count": 48,
     "metadata": {},
     "output_type": "execute_result"
    }
   ],
   "source": [
    "## Вариант 3, using np.hstack:\n",
    "data_new_2 = data.copy()\n",
    "a = (data[:, 1] <= 20) & (data[:, 2] <= 5).astype(int)\n",
    "a = np.reshape(a, (a.size, 1))\n",
    "data_new_2 = np.hstack((data_new_2, a))\n",
    "data_new_2"
   ]
  },
  {
   "cell_type": "markdown",
   "metadata": {},
   "source": [
    "### 13. Выведите процент \"простых\" рецептов в датасете"
   ]
  },
  {
   "cell_type": "code",
   "execution_count": 44,
   "metadata": {},
   "outputs": [
    {
     "name": "stdout",
     "output_type": "stream",
     "text": [
      "67.671%\n"
     ]
    }
   ],
   "source": [
    "print(data_new_2[3].sum() / data_new_2.shape[0] * 100, \"%\", sep='')"
   ]
  },
  {
   "cell_type": "markdown",
   "metadata": {},
   "source": [
    "### 14. Разделим рецепты на группы по следующему правилу. Назовем рецепты короткими, если их продолжительность составляет менее 10 минут; стандартными, если их продолжительность составляет более 10, но менее 20 минут; и длинными, если их продолжительность составляет не менее 20 минут. Создайте трехмерный массив, где нулевая ось отвечает за номер группы (короткий, стандартный или длинный рецепт), первая ось - за сам рецепт и вторая ось - за характеристики рецепта. Выберите максимальное количество рецептов из каждой группы таким образом, чтобы было возможно сформировать трехмерный массив. Выведите форму полученного массива."
   ]
  },
  {
   "cell_type": "code",
   "execution_count": 74,
   "metadata": {},
   "outputs": [
    {
     "data": {
      "text/plain": [
       "array([[[ 67660,      5,      6],\n",
       "        [366174,      7,      9],\n",
       "        [204134,      5,      3],\n",
       "        ...,\n",
       "        [420725,      5,      3],\n",
       "        [  4747,      0,      9],\n",
       "        [370915,      5,      4]],\n",
       "\n",
       "       [[ 94746,     10,      6],\n",
       "        [ 33941,     18,      9],\n",
       "        [446597,     15,      5],\n",
       "        ...,\n",
       "        [  9831,     15,      7],\n",
       "        [335859,     12,     14],\n",
       "        [256812,     10,      3]],\n",
       "\n",
       "       [[127244,     60,     16],\n",
       "        [ 23891,     25,      7],\n",
       "        [ 94746,     10,      6],\n",
       "        ...,\n",
       "        [401929,     35,      7],\n",
       "        [ 16009,     55,     11],\n",
       "        [285222,     27,     10]]])"
      ]
     },
     "execution_count": 74,
     "metadata": {},
     "output_type": "execute_result"
    }
   ],
   "source": [
    "small = data[data[:, 1] < 10]\n",
    "standard = data[(data[:, 1] >= 10) & (data[:, 1] < 20)]\n",
    "large = data[data[:, 1] >= 10]\n",
    "min_dem = np.min([small.shape[0], standard.shape[0], large.shape[0]])\n",
    "matrix = np.empty([3, min_dem, 3])\n",
    "matrix[0], matrix[1], matrix[2] = small[:min_dem, :], standard[:min_dem, :], large[:min_dem, :]\n",
    "matrix.astype(int)"
   ]
  },
  {
   "cell_type": "code",
   "execution_count": null,
   "metadata": {},
   "outputs": [],
   "source": []
  }
 ],
 "metadata": {
  "kernelspec": {
   "display_name": "Python 3",
   "language": "python",
   "name": "python3"
  },
  "language_info": {
   "codemirror_mode": {
    "name": "ipython",
    "version": 3
   },
   "file_extension": ".py",
   "mimetype": "text/x-python",
   "name": "python",
   "nbconvert_exporter": "python",
   "pygments_lexer": "ipython3",
   "version": "3.8.5"
  }
 },
 "nbformat": 4,
 "nbformat_minor": 4
}
