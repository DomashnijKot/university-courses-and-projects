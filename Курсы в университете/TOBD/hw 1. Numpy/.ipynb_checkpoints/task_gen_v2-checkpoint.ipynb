{
 "cells": [
  {
   "cell_type": "code",
   "execution_count": 17,
   "metadata": {},
   "outputs": [
    {
     "name": "stdout",
     "output_type": "stream",
     "text": [
      " ’®¬ ў гбва®©бвўҐ C ­Ґ Ё¬ҐҐв ¬ҐвЄЁ.\n",
      " ‘ҐаЁ©­л© ­®¬Ґа в®¬ : D65B-CBD9\n",
      "\n",
      " ‘®¤Ґа¦Ё¬®Ґ Ї ЇЄЁ C:\\Users\\‘ҐаЈҐ©\\YandexDisk\\Python\\Ipynb\\TOBD_2021\n",
      "\n",
      "02.09.2021  12:33    <DIR>          .\n",
      "02.09.2021  12:33    <DIR>          ..\n",
      "02.09.2021  12:27    <DIR>          .ipynb_checkpoints\n",
      "02.09.2021  11:52    <DIR>          01_numpy\n",
      "02.09.2021  11:52    <DIR>          02_pandas\n",
      "02.09.2021  12:33             1я504 task_gen_v2.ipynb\n",
      "02.09.2021  17:10    <DIR>          TOBD21_for_students\n",
      "               1 д ©«®ў          1я504 Ў ©в\n",
      "               6 Ї Ї®Є     180я043я776 Ў ©в бў®Ў®¤­®\n"
     ]
    }
   ],
   "source": [
    "ls"
   ]
  },
  {
   "cell_type": "code",
   "execution_count": 1,
   "metadata": {},
   "outputs": [],
   "source": [
    "import random"
   ]
  },
  {
   "cell_type": "code",
   "execution_count": 2,
   "metadata": {},
   "outputs": [],
   "source": [
    "def gen_tasks(surname, lab_n, tasks_qty, tasks_choose):    \n",
    "    tasks = [1]*tasks_choose + [0]*(tasks_qty-tasks_choose)\n",
    "    sv = sum(ord(s) for s in surname) + lab_n\n",
    "    random.seed(sv)\n",
    "    random.shuffle(tasks)\n",
    "    return [tsk for tsk, f in zip(range(1, tasks_qty+1), tasks) if f == 1]"
   ]
  },
  {
   "cell_type": "code",
   "execution_count": 4,
   "metadata": {},
   "outputs": [
    {
     "data": {
      "text/plain": [
       "[1, 3, 6, 7, 8, 9, 10, 11, 12, 13]"
      ]
     },
     "execution_count": 4,
     "metadata": {},
     "output_type": "execute_result"
    }
   ],
   "source": [
    "gen_tasks('Волненко', 1, 14, 10)"
   ]
  },
  {
   "cell_type": "code",
   "execution_count": null,
   "metadata": {},
   "outputs": [],
   "source": []
  }
 ],
 "metadata": {
  "kernelspec": {
   "display_name": "Python 3",
   "language": "python",
   "name": "python3"
  },
  "language_info": {
   "codemirror_mode": {
    "name": "ipython",
    "version": 3
   },
   "file_extension": ".py",
   "mimetype": "text/x-python",
   "name": "python",
   "nbconvert_exporter": "python",
   "pygments_lexer": "ipython3",
   "version": "3.8.5"
  }
 },
 "nbformat": 4,
 "nbformat_minor": 4
}
