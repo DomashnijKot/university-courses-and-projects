{
 "cells": [
  {
   "cell_type": "markdown",
   "metadata": {},
   "source": [
    "# Форматы данных (2)"
   ]
  },
  {
   "cell_type": "markdown",
   "metadata": {},
   "source": [
    "Материалы:\n",
    "* Макрушин С.В. \"Лекция 5: Форматы данных (часть 2)\"\n",
    "* https://docs.python.org/3/library/csv.html\n",
    "* https://docs.h5py.org/en/stable/\n",
    "* Уэс Маккини. Python и анализ данных"
   ]
  },
  {
   "cell_type": "markdown",
   "metadata": {},
   "source": [
    "## Задачи для совместного разбора"
   ]
  },
  {
   "cell_type": "markdown",
   "metadata": {},
   "source": [
    "1. Считайте данные из файла `open_pubs.csv`, используя `csv.reader`, и преобразуйте к структуре данных следующего вида:\n",
    "    \n",
    "`{'fas_id': [24, 30, ...], 'name': ['Achor Inn', 'Angel Inn', ...], ... }`"
   ]
  },
  {
   "cell_type": "markdown",
   "metadata": {},
   "source": [
    "2. Сгенерируйте 2 случайные матрицы размера 10_000 x 10_000 и вычислите их произведение. Сколько времени занимают три этих операции? Сохраните 3 полученных матрицы в файл .npz с соответствующими названиями"
   ]
  },
  {
   "cell_type": "markdown",
   "metadata": {},
   "source": [
    "3. Создайте 2 матрицы размера 1000x1000, используя различные параметризируемые распределения из numpy (https://docs.scipy.org/doc/numpy-1.15.0/reference/routines.random.html#distributions)\n",
    "\n",
    "После этого сохраните получившиеся матрицы в hdf5-файл в виде двух различных датасетов. В качестве описания каждого датасета укажите параметры используемых распределений "
   ]
  },
  {
   "cell_type": "markdown",
   "metadata": {},
   "source": [
    "## Лабораторная работа 5"
   ]
  },
  {
   "cell_type": "markdown",
   "metadata": {},
   "source": [
    "### csv"
   ]
  },
  {
   "cell_type": "code",
   "execution_count": 16,
   "metadata": {},
   "outputs": [],
   "source": [
    "import csv\n",
    "import json\n",
    "import pandas as pd\n",
    "import numpy as np\n",
    "from collections import defaultdict"
   ]
  },
  {
   "cell_type": "markdown",
   "metadata": {},
   "source": [
    "1.1 В файле `tags_sample.csv` находится информация о тэгах, приписываемых рецептам. Воспользовавшись `csv.reader`, считайте этот файл и создайте словарь вида `id_рецепта: [список тэгов]`. Сохраните этот словарь в файл `tags_sample.json`."
   ]
  },
  {
   "cell_type": "code",
   "execution_count": 63,
   "metadata": {},
   "outputs": [],
   "source": [
    "with open('data/tags_sample.csv') as file:\n",
    "    tags_file = csv.reader(file, delimiter=',')\n",
    "    next(tags_file)\n",
    "    tags_d = defaultdict(list)\n",
    "    for row in tags_file:\n",
    "        tags_d[int(row[0])].append(row[1])\n",
    "with open('output_data/tags.sample.json', 'w') as file:\n",
    "    json.dump(tags_d, file, indent=2)"
   ]
  },
  {
   "cell_type": "markdown",
   "metadata": {},
   "source": [
    "1.2 Считайте файл `recipes_sample_with_filled_nsteps.csv` (__ЛР4__) в виде `pd.DataFrame`. Добавьте к таблице 2 столбца: `n_tags`, содержащий количество тэгов у этого рецепта; и `tags`, содержащий набор тэгов в виде строки (тэги внутри строки разделяются символом `;`)"
   ]
  },
  {
   "cell_type": "code",
   "execution_count": 71,
   "metadata": {},
   "outputs": [
    {
     "data": {
      "text/html": [
       "<div>\n",
       "<style scoped>\n",
       "    .dataframe tbody tr th:only-of-type {\n",
       "        vertical-align: middle;\n",
       "    }\n",
       "\n",
       "    .dataframe tbody tr th {\n",
       "        vertical-align: top;\n",
       "    }\n",
       "\n",
       "    .dataframe thead th {\n",
       "        text-align: right;\n",
       "    }\n",
       "</style>\n",
       "<table border=\"1\" class=\"dataframe\">\n",
       "  <thead>\n",
       "    <tr style=\"text-align: right;\">\n",
       "      <th></th>\n",
       "      <th>name</th>\n",
       "      <th>id</th>\n",
       "      <th>minutes</th>\n",
       "      <th>contributor_id</th>\n",
       "      <th>submitted</th>\n",
       "      <th>n_steps</th>\n",
       "      <th>description</th>\n",
       "      <th>n_ingredients</th>\n",
       "    </tr>\n",
       "  </thead>\n",
       "  <tbody>\n",
       "    <tr>\n",
       "      <th>0</th>\n",
       "      <td>george s at the cove  black bean soup</td>\n",
       "      <td>44123</td>\n",
       "      <td>90</td>\n",
       "      <td>35193</td>\n",
       "      <td>2002-10-25</td>\n",
       "      <td>11.0</td>\n",
       "      <td>an original recipe created by chef scott meska...</td>\n",
       "      <td>18.0</td>\n",
       "    </tr>\n",
       "    <tr>\n",
       "      <th>1</th>\n",
       "      <td>healthy for them  yogurt popsicles</td>\n",
       "      <td>67664</td>\n",
       "      <td>10</td>\n",
       "      <td>91970</td>\n",
       "      <td>2003-07-26</td>\n",
       "      <td>3.0</td>\n",
       "      <td>my children and their friends ask for my homem...</td>\n",
       "      <td>NaN</td>\n",
       "    </tr>\n",
       "    <tr>\n",
       "      <th>2</th>\n",
       "      <td>i can t believe it s spinach</td>\n",
       "      <td>38798</td>\n",
       "      <td>30</td>\n",
       "      <td>1533</td>\n",
       "      <td>2002-08-29</td>\n",
       "      <td>5.0</td>\n",
       "      <td>these were so go, it surprised even me.</td>\n",
       "      <td>8.0</td>\n",
       "    </tr>\n",
       "    <tr>\n",
       "      <th>3</th>\n",
       "      <td>italian  gut busters</td>\n",
       "      <td>35173</td>\n",
       "      <td>45</td>\n",
       "      <td>22724</td>\n",
       "      <td>2002-07-27</td>\n",
       "      <td>7.0</td>\n",
       "      <td>my sister-in-law made these for us at a family...</td>\n",
       "      <td>NaN</td>\n",
       "    </tr>\n",
       "    <tr>\n",
       "      <th>4</th>\n",
       "      <td>love is in the air  beef fondue   sauces</td>\n",
       "      <td>84797</td>\n",
       "      <td>25</td>\n",
       "      <td>4470</td>\n",
       "      <td>2004-02-23</td>\n",
       "      <td>4.0</td>\n",
       "      <td>i think a fondue is a very romantic casual din...</td>\n",
       "      <td>NaN</td>\n",
       "    </tr>\n",
       "    <tr>\n",
       "      <th>...</th>\n",
       "      <td>...</td>\n",
       "      <td>...</td>\n",
       "      <td>...</td>\n",
       "      <td>...</td>\n",
       "      <td>...</td>\n",
       "      <td>...</td>\n",
       "      <td>...</td>\n",
       "      <td>...</td>\n",
       "    </tr>\n",
       "    <tr>\n",
       "      <th>29995</th>\n",
       "      <td>zurie s holey rustic olive and cheddar bread</td>\n",
       "      <td>267661</td>\n",
       "      <td>80</td>\n",
       "      <td>200862</td>\n",
       "      <td>2007-11-25</td>\n",
       "      <td>16.0</td>\n",
       "      <td>this is based on a french recipe but i changed...</td>\n",
       "      <td>10.0</td>\n",
       "    </tr>\n",
       "    <tr>\n",
       "      <th>29996</th>\n",
       "      <td>zwetschgenkuchen  bavarian plum cake</td>\n",
       "      <td>386977</td>\n",
       "      <td>240</td>\n",
       "      <td>177443</td>\n",
       "      <td>2009-08-24</td>\n",
       "      <td>22.0</td>\n",
       "      <td>this is a traditional fresh plum cake, thought...</td>\n",
       "      <td>11.0</td>\n",
       "    </tr>\n",
       "    <tr>\n",
       "      <th>29997</th>\n",
       "      <td>zwiebelkuchen   southwest german onion cake</td>\n",
       "      <td>103312</td>\n",
       "      <td>75</td>\n",
       "      <td>161745</td>\n",
       "      <td>2004-11-03</td>\n",
       "      <td>10.0</td>\n",
       "      <td>this is a traditional late summer early fall s...</td>\n",
       "      <td>NaN</td>\n",
       "    </tr>\n",
       "    <tr>\n",
       "      <th>29998</th>\n",
       "      <td>zydeco soup</td>\n",
       "      <td>486161</td>\n",
       "      <td>60</td>\n",
       "      <td>227978</td>\n",
       "      <td>2012-08-29</td>\n",
       "      <td>7.0</td>\n",
       "      <td>this is a delicious soup that i originally fou...</td>\n",
       "      <td>NaN</td>\n",
       "    </tr>\n",
       "    <tr>\n",
       "      <th>29999</th>\n",
       "      <td>cookies by design   cookies on a stick</td>\n",
       "      <td>298512</td>\n",
       "      <td>29</td>\n",
       "      <td>506822</td>\n",
       "      <td>2008-04-15</td>\n",
       "      <td>9.0</td>\n",
       "      <td>i've heard of the 'cookies by design' company,...</td>\n",
       "      <td>10.0</td>\n",
       "    </tr>\n",
       "  </tbody>\n",
       "</table>\n",
       "<p>30000 rows × 8 columns</p>\n",
       "</div>"
      ],
      "text/plain": [
       "                                               name      id  minutes  \\\n",
       "0             george s at the cove  black bean soup   44123       90   \n",
       "1                healthy for them  yogurt popsicles   67664       10   \n",
       "2                      i can t believe it s spinach   38798       30   \n",
       "3                              italian  gut busters   35173       45   \n",
       "4          love is in the air  beef fondue   sauces   84797       25   \n",
       "...                                             ...     ...      ...   \n",
       "29995  zurie s holey rustic olive and cheddar bread  267661       80   \n",
       "29996          zwetschgenkuchen  bavarian plum cake  386977      240   \n",
       "29997   zwiebelkuchen   southwest german onion cake  103312       75   \n",
       "29998                                   zydeco soup  486161       60   \n",
       "29999        cookies by design   cookies on a stick  298512       29   \n",
       "\n",
       "       contributor_id   submitted  n_steps  \\\n",
       "0               35193  2002-10-25     11.0   \n",
       "1               91970  2003-07-26      3.0   \n",
       "2                1533  2002-08-29      5.0   \n",
       "3               22724  2002-07-27      7.0   \n",
       "4                4470  2004-02-23      4.0   \n",
       "...               ...         ...      ...   \n",
       "29995          200862  2007-11-25     16.0   \n",
       "29996          177443  2009-08-24     22.0   \n",
       "29997          161745  2004-11-03     10.0   \n",
       "29998          227978  2012-08-29      7.0   \n",
       "29999          506822  2008-04-15      9.0   \n",
       "\n",
       "                                             description  n_ingredients  \n",
       "0      an original recipe created by chef scott meska...           18.0  \n",
       "1      my children and their friends ask for my homem...            NaN  \n",
       "2                these were so go, it surprised even me.            8.0  \n",
       "3      my sister-in-law made these for us at a family...            NaN  \n",
       "4      i think a fondue is a very romantic casual din...            NaN  \n",
       "...                                                  ...            ...  \n",
       "29995  this is based on a french recipe but i changed...           10.0  \n",
       "29996  this is a traditional fresh plum cake, thought...           11.0  \n",
       "29997  this is a traditional late summer early fall s...            NaN  \n",
       "29998  this is a delicious soup that i originally fou...            NaN  \n",
       "29999  i've heard of the 'cookies by design' company,...           10.0  \n",
       "\n",
       "[30000 rows x 8 columns]"
      ]
     },
     "execution_count": 71,
     "metadata": {},
     "output_type": "execute_result"
    }
   ],
   "source": [
    "recipes = pd.read_csv('data/recipes_sample_with_filled_nsteps.csv')\n",
    "recipes.drop(recipes.columns[0], axis=1, inplace=True)\n",
    "recipes"
   ]
  },
  {
   "cell_type": "code",
   "execution_count": 72,
   "metadata": {},
   "outputs": [
    {
     "data": {
      "text/html": [
       "<div>\n",
       "<style scoped>\n",
       "    .dataframe tbody tr th:only-of-type {\n",
       "        vertical-align: middle;\n",
       "    }\n",
       "\n",
       "    .dataframe tbody tr th {\n",
       "        vertical-align: top;\n",
       "    }\n",
       "\n",
       "    .dataframe thead th {\n",
       "        text-align: right;\n",
       "    }\n",
       "</style>\n",
       "<table border=\"1\" class=\"dataframe\">\n",
       "  <thead>\n",
       "    <tr style=\"text-align: right;\">\n",
       "      <th></th>\n",
       "      <th>name</th>\n",
       "      <th>id</th>\n",
       "      <th>minutes</th>\n",
       "      <th>contributor_id</th>\n",
       "      <th>submitted</th>\n",
       "      <th>n_steps</th>\n",
       "      <th>description</th>\n",
       "      <th>n_ingredients</th>\n",
       "      <th>n_tags</th>\n",
       "      <th>tags</th>\n",
       "    </tr>\n",
       "  </thead>\n",
       "  <tbody>\n",
       "    <tr>\n",
       "      <th>0</th>\n",
       "      <td>george s at the cove  black bean soup</td>\n",
       "      <td>44123</td>\n",
       "      <td>90</td>\n",
       "      <td>35193</td>\n",
       "      <td>2002-10-25</td>\n",
       "      <td>11.0</td>\n",
       "      <td>an original recipe created by chef scott meska...</td>\n",
       "      <td>18.0</td>\n",
       "      <td>25</td>\n",
       "      <td>weeknight;time-to-make;course;main-ingredient;...</td>\n",
       "    </tr>\n",
       "    <tr>\n",
       "      <th>1</th>\n",
       "      <td>healthy for them  yogurt popsicles</td>\n",
       "      <td>67664</td>\n",
       "      <td>10</td>\n",
       "      <td>91970</td>\n",
       "      <td>2003-07-26</td>\n",
       "      <td>3.0</td>\n",
       "      <td>my children and their friends ask for my homem...</td>\n",
       "      <td>NaN</td>\n",
       "      <td>31</td>\n",
       "      <td>15-minutes-or-less;time-to-make;course;prepara...</td>\n",
       "    </tr>\n",
       "    <tr>\n",
       "      <th>2</th>\n",
       "      <td>i can t believe it s spinach</td>\n",
       "      <td>38798</td>\n",
       "      <td>30</td>\n",
       "      <td>1533</td>\n",
       "      <td>2002-08-29</td>\n",
       "      <td>5.0</td>\n",
       "      <td>these were so go, it surprised even me.</td>\n",
       "      <td>8.0</td>\n",
       "      <td>17</td>\n",
       "      <td>30-minutes-or-less;time-to-make;course;main-in...</td>\n",
       "    </tr>\n",
       "    <tr>\n",
       "      <th>3</th>\n",
       "      <td>italian  gut busters</td>\n",
       "      <td>35173</td>\n",
       "      <td>45</td>\n",
       "      <td>22724</td>\n",
       "      <td>2002-07-27</td>\n",
       "      <td>7.0</td>\n",
       "      <td>my sister-in-law made these for us at a family...</td>\n",
       "      <td>NaN</td>\n",
       "      <td>11</td>\n",
       "      <td>60-minutes-or-less;time-to-make;course;prepara...</td>\n",
       "    </tr>\n",
       "    <tr>\n",
       "      <th>4</th>\n",
       "      <td>love is in the air  beef fondue   sauces</td>\n",
       "      <td>84797</td>\n",
       "      <td>25</td>\n",
       "      <td>4470</td>\n",
       "      <td>2004-02-23</td>\n",
       "      <td>4.0</td>\n",
       "      <td>i think a fondue is a very romantic casual din...</td>\n",
       "      <td>NaN</td>\n",
       "      <td>19</td>\n",
       "      <td>30-minutes-or-less;time-to-make;course;main-in...</td>\n",
       "    </tr>\n",
       "  </tbody>\n",
       "</table>\n",
       "</div>"
      ],
      "text/plain": [
       "                                       name     id  minutes  contributor_id  \\\n",
       "0     george s at the cove  black bean soup  44123       90           35193   \n",
       "1        healthy for them  yogurt popsicles  67664       10           91970   \n",
       "2              i can t believe it s spinach  38798       30            1533   \n",
       "3                      italian  gut busters  35173       45           22724   \n",
       "4  love is in the air  beef fondue   sauces  84797       25            4470   \n",
       "\n",
       "    submitted  n_steps                                        description  \\\n",
       "0  2002-10-25     11.0  an original recipe created by chef scott meska...   \n",
       "1  2003-07-26      3.0  my children and their friends ask for my homem...   \n",
       "2  2002-08-29      5.0            these were so go, it surprised even me.   \n",
       "3  2002-07-27      7.0  my sister-in-law made these for us at a family...   \n",
       "4  2004-02-23      4.0  i think a fondue is a very romantic casual din...   \n",
       "\n",
       "   n_ingredients  n_tags                                               tags  \n",
       "0           18.0      25  weeknight;time-to-make;course;main-ingredient;...  \n",
       "1            NaN      31  15-minutes-or-less;time-to-make;course;prepara...  \n",
       "2            8.0      17  30-minutes-or-less;time-to-make;course;main-in...  \n",
       "3            NaN      11  60-minutes-or-less;time-to-make;course;prepara...  \n",
       "4            NaN      19  30-minutes-or-less;time-to-make;course;main-in...  "
      ]
     },
     "execution_count": 72,
     "metadata": {},
     "output_type": "execute_result"
    }
   ],
   "source": [
    "n_tags = dict()\n",
    "tags = dict()\n",
    "\n",
    "for key, value in tags_d.items():\n",
    "    n_tags[key] = len(value)\n",
    "    tags[key] = ';'.join(value)\n",
    "recipes['n_tags'] = recipes['id'].map(n_tags)\n",
    "recipes['tags'] = recipes['id'].map(tags)\n",
    "recipes.head()"
   ]
  },
  {
   "cell_type": "markdown",
   "metadata": {},
   "source": [
    "1.3 В файле `ingredients_sample.csv` находится информация о ингредиентах, необходимых для рецепта. Воспользовавшись `csv.DictReader`, считайте этот файл и создайте словарь вида `id_рецепта: [список ингредиентов]`."
   ]
  },
  {
   "cell_type": "code",
   "execution_count": null,
   "metadata": {},
   "outputs": [],
   "source": [
    "with open('data/ingredients_sample.csv') as file:\n",
    "    ingr_file = csv.DictReader(file, delimiter=',')\n",
    "    header = next(ingr_file)\n",
    "    \n",
    "    id_ingr = defaultdict(list)\n",
    "    \n",
    "    for row in ingr_file:\n",
    "        id_ingr[int(row['recipe_id'])].append(row['ingredient'])\n",
    "\n",
    "id_ingr"
   ]
  },
  {
   "cell_type": "markdown",
   "metadata": {},
   "source": [
    "1.4 Добавьте к таблице из задания 1.2 столбец `ingredients`, содержащий набор ингредиентов в виде строки (ингредиенты внутри строки разделяются символом `*`)\n",
    "\n",
    "Для строк, которые содержат пропуски в столбце `n_ingredients`, заполните их на основе файла  `ingredients_sample.csv`"
   ]
  },
  {
   "cell_type": "code",
   "execution_count": 74,
   "metadata": {
    "scrolled": true
   },
   "outputs": [
    {
     "data": {
      "text/html": [
       "<div>\n",
       "<style scoped>\n",
       "    .dataframe tbody tr th:only-of-type {\n",
       "        vertical-align: middle;\n",
       "    }\n",
       "\n",
       "    .dataframe tbody tr th {\n",
       "        vertical-align: top;\n",
       "    }\n",
       "\n",
       "    .dataframe thead th {\n",
       "        text-align: right;\n",
       "    }\n",
       "</style>\n",
       "<table border=\"1\" class=\"dataframe\">\n",
       "  <thead>\n",
       "    <tr style=\"text-align: right;\">\n",
       "      <th></th>\n",
       "      <th>name</th>\n",
       "      <th>id</th>\n",
       "      <th>minutes</th>\n",
       "      <th>contributor_id</th>\n",
       "      <th>submitted</th>\n",
       "      <th>n_steps</th>\n",
       "      <th>description</th>\n",
       "      <th>n_ingredients</th>\n",
       "      <th>n_tags</th>\n",
       "      <th>tags</th>\n",
       "      <th>ingredients</th>\n",
       "    </tr>\n",
       "  </thead>\n",
       "  <tbody>\n",
       "    <tr>\n",
       "      <th>0</th>\n",
       "      <td>george s at the cove  black bean soup</td>\n",
       "      <td>44123</td>\n",
       "      <td>90</td>\n",
       "      <td>35193</td>\n",
       "      <td>2002-10-25</td>\n",
       "      <td>11.0</td>\n",
       "      <td>an original recipe created by chef scott meska...</td>\n",
       "      <td>18.0</td>\n",
       "      <td>25</td>\n",
       "      <td>weeknight;time-to-make;course;main-ingredient;...</td>\n",
       "      <td>carrot*onion*celery*broccoli stem*dried thyme*...</td>\n",
       "    </tr>\n",
       "    <tr>\n",
       "      <th>1</th>\n",
       "      <td>healthy for them  yogurt popsicles</td>\n",
       "      <td>67664</td>\n",
       "      <td>10</td>\n",
       "      <td>91970</td>\n",
       "      <td>2003-07-26</td>\n",
       "      <td>3.0</td>\n",
       "      <td>my children and their friends ask for my homem...</td>\n",
       "      <td>3.0</td>\n",
       "      <td>31</td>\n",
       "      <td>15-minutes-or-less;time-to-make;course;prepara...</td>\n",
       "      <td>milk*frozen juice concentrate*plain yogurt</td>\n",
       "    </tr>\n",
       "    <tr>\n",
       "      <th>2</th>\n",
       "      <td>i can t believe it s spinach</td>\n",
       "      <td>38798</td>\n",
       "      <td>30</td>\n",
       "      <td>1533</td>\n",
       "      <td>2002-08-29</td>\n",
       "      <td>5.0</td>\n",
       "      <td>these were so go, it surprised even me.</td>\n",
       "      <td>8.0</td>\n",
       "      <td>17</td>\n",
       "      <td>30-minutes-or-less;time-to-make;course;main-in...</td>\n",
       "      <td>onion*frozen chopped spinach*eggs*garlic powde...</td>\n",
       "    </tr>\n",
       "    <tr>\n",
       "      <th>3</th>\n",
       "      <td>italian  gut busters</td>\n",
       "      <td>35173</td>\n",
       "      <td>45</td>\n",
       "      <td>22724</td>\n",
       "      <td>2002-07-27</td>\n",
       "      <td>7.0</td>\n",
       "      <td>my sister-in-law made these for us at a family...</td>\n",
       "      <td>9.0</td>\n",
       "      <td>11</td>\n",
       "      <td>60-minutes-or-less;time-to-make;course;prepara...</td>\n",
       "      <td>sandwich bun*good seasonings italian salad dre...</td>\n",
       "    </tr>\n",
       "    <tr>\n",
       "      <th>4</th>\n",
       "      <td>love is in the air  beef fondue   sauces</td>\n",
       "      <td>84797</td>\n",
       "      <td>25</td>\n",
       "      <td>4470</td>\n",
       "      <td>2004-02-23</td>\n",
       "      <td>4.0</td>\n",
       "      <td>i think a fondue is a very romantic casual din...</td>\n",
       "      <td>12.0</td>\n",
       "      <td>19</td>\n",
       "      <td>30-minutes-or-less;time-to-make;course;main-in...</td>\n",
       "      <td>beef steaks*vegetable oil*spicy mustard*fresh ...</td>\n",
       "    </tr>\n",
       "  </tbody>\n",
       "</table>\n",
       "</div>"
      ],
      "text/plain": [
       "                                       name     id  minutes  contributor_id  \\\n",
       "0     george s at the cove  black bean soup  44123       90           35193   \n",
       "1        healthy for them  yogurt popsicles  67664       10           91970   \n",
       "2              i can t believe it s spinach  38798       30            1533   \n",
       "3                      italian  gut busters  35173       45           22724   \n",
       "4  love is in the air  beef fondue   sauces  84797       25            4470   \n",
       "\n",
       "    submitted  n_steps                                        description  \\\n",
       "0  2002-10-25     11.0  an original recipe created by chef scott meska...   \n",
       "1  2003-07-26      3.0  my children and their friends ask for my homem...   \n",
       "2  2002-08-29      5.0            these were so go, it surprised even me.   \n",
       "3  2002-07-27      7.0  my sister-in-law made these for us at a family...   \n",
       "4  2004-02-23      4.0  i think a fondue is a very romantic casual din...   \n",
       "\n",
       "   n_ingredients  n_tags                                               tags  \\\n",
       "0           18.0      25  weeknight;time-to-make;course;main-ingredient;...   \n",
       "1            3.0      31  15-minutes-or-less;time-to-make;course;prepara...   \n",
       "2            8.0      17  30-minutes-or-less;time-to-make;course;main-in...   \n",
       "3            9.0      11  60-minutes-or-less;time-to-make;course;prepara...   \n",
       "4           12.0      19  30-minutes-or-less;time-to-make;course;main-in...   \n",
       "\n",
       "                                         ingredients  \n",
       "0  carrot*onion*celery*broccoli stem*dried thyme*...  \n",
       "1         milk*frozen juice concentrate*plain yogurt  \n",
       "2  onion*frozen chopped spinach*eggs*garlic powde...  \n",
       "3  sandwich bun*good seasonings italian salad dre...  \n",
       "4  beef steaks*vegetable oil*spicy mustard*fresh ...  "
      ]
     },
     "execution_count": 74,
     "metadata": {},
     "output_type": "execute_result"
    }
   ],
   "source": [
    "id_ingr_l = dict()\n",
    "number_ingr = dict()\n",
    "\n",
    "for key, value in id_ingr.items():\n",
    "    id_ingr_l[key] = '*'.join(value)\n",
    "    number_ingr[key] = len(value)\n",
    "\n",
    "recipes['ingredients'] = recipes['id'].map(id_ingr_l)\n",
    "recipes['n_ingredients'] = recipes['n_ingredients'].fillna(recipes['id'].map(number_ingr))\n",
    "recipes.head()"
   ]
  },
  {
   "cell_type": "markdown",
   "metadata": {},
   "source": [
    "1.5 Проверьте, содержит ли столбец `n_ingredients` пропуски. Если нет, преобразуйте его к целочисленному типу и сохраните результаты в файл `recipes_sample_with_tags_ingredients.csv`"
   ]
  },
  {
   "cell_type": "code",
   "execution_count": 75,
   "metadata": {},
   "outputs": [
    {
     "data": {
      "text/plain": [
       "False"
      ]
     },
     "execution_count": 75,
     "metadata": {},
     "output_type": "execute_result"
    }
   ],
   "source": [
    "recipes['n_ingredients'].isnull().values.any()"
   ]
  },
  {
   "cell_type": "code",
   "execution_count": 76,
   "metadata": {},
   "outputs": [],
   "source": [
    "recipes['n_ingredients'] = recipes['n_ingredients'].astype(int)"
   ]
  },
  {
   "cell_type": "code",
   "execution_count": 77,
   "metadata": {},
   "outputs": [],
   "source": [
    "recipes.to_csv('output_data/recipes_sample_with_tags_ingredients.csv.csv')"
   ]
  },
  {
   "cell_type": "markdown",
   "metadata": {},
   "source": [
    "### npy"
   ]
  },
  {
   "cell_type": "markdown",
   "metadata": {},
   "source": [
    "2.1 Разделите таблицу, полученную в результате 1.5, на две таблицы: одна содержит рецепты, загруженные до 2000 года; вторая - все остальные. В полученных таблицах оставьте только числовые столбцы и преобразуйте их к `numpy.array`"
   ]
  },
  {
   "cell_type": "code",
   "execution_count": 78,
   "metadata": {},
   "outputs": [],
   "source": [
    "recipes['submitted'] = pd.to_datetime(recipes['submitted'])"
   ]
  },
  {
   "cell_type": "code",
   "execution_count": 79,
   "metadata": {},
   "outputs": [
    {
     "data": {
      "text/html": [
       "<div>\n",
       "<style scoped>\n",
       "    .dataframe tbody tr th:only-of-type {\n",
       "        vertical-align: middle;\n",
       "    }\n",
       "\n",
       "    .dataframe tbody tr th {\n",
       "        vertical-align: top;\n",
       "    }\n",
       "\n",
       "    .dataframe thead th {\n",
       "        text-align: right;\n",
       "    }\n",
       "</style>\n",
       "<table border=\"1\" class=\"dataframe\">\n",
       "  <thead>\n",
       "    <tr style=\"text-align: right;\">\n",
       "      <th></th>\n",
       "      <th>name</th>\n",
       "      <th>id</th>\n",
       "      <th>minutes</th>\n",
       "      <th>contributor_id</th>\n",
       "      <th>submitted</th>\n",
       "      <th>n_steps</th>\n",
       "      <th>description</th>\n",
       "      <th>n_ingredients</th>\n",
       "      <th>n_tags</th>\n",
       "      <th>tags</th>\n",
       "      <th>ingredients</th>\n",
       "    </tr>\n",
       "  </thead>\n",
       "  <tbody>\n",
       "    <tr>\n",
       "      <th>0</th>\n",
       "      <td>george s at the cove  black bean soup</td>\n",
       "      <td>44123</td>\n",
       "      <td>90</td>\n",
       "      <td>35193</td>\n",
       "      <td>2002-10-25</td>\n",
       "      <td>11.0</td>\n",
       "      <td>an original recipe created by chef scott meska...</td>\n",
       "      <td>18</td>\n",
       "      <td>25</td>\n",
       "      <td>weeknight;time-to-make;course;main-ingredient;...</td>\n",
       "      <td>carrot*onion*celery*broccoli stem*dried thyme*...</td>\n",
       "    </tr>\n",
       "    <tr>\n",
       "      <th>1</th>\n",
       "      <td>healthy for them  yogurt popsicles</td>\n",
       "      <td>67664</td>\n",
       "      <td>10</td>\n",
       "      <td>91970</td>\n",
       "      <td>2003-07-26</td>\n",
       "      <td>3.0</td>\n",
       "      <td>my children and their friends ask for my homem...</td>\n",
       "      <td>3</td>\n",
       "      <td>31</td>\n",
       "      <td>15-minutes-or-less;time-to-make;course;prepara...</td>\n",
       "      <td>milk*frozen juice concentrate*plain yogurt</td>\n",
       "    </tr>\n",
       "    <tr>\n",
       "      <th>2</th>\n",
       "      <td>i can t believe it s spinach</td>\n",
       "      <td>38798</td>\n",
       "      <td>30</td>\n",
       "      <td>1533</td>\n",
       "      <td>2002-08-29</td>\n",
       "      <td>5.0</td>\n",
       "      <td>these were so go, it surprised even me.</td>\n",
       "      <td>8</td>\n",
       "      <td>17</td>\n",
       "      <td>30-minutes-or-less;time-to-make;course;main-in...</td>\n",
       "      <td>onion*frozen chopped spinach*eggs*garlic powde...</td>\n",
       "    </tr>\n",
       "    <tr>\n",
       "      <th>3</th>\n",
       "      <td>italian  gut busters</td>\n",
       "      <td>35173</td>\n",
       "      <td>45</td>\n",
       "      <td>22724</td>\n",
       "      <td>2002-07-27</td>\n",
       "      <td>7.0</td>\n",
       "      <td>my sister-in-law made these for us at a family...</td>\n",
       "      <td>9</td>\n",
       "      <td>11</td>\n",
       "      <td>60-minutes-or-less;time-to-make;course;prepara...</td>\n",
       "      <td>sandwich bun*good seasonings italian salad dre...</td>\n",
       "    </tr>\n",
       "    <tr>\n",
       "      <th>4</th>\n",
       "      <td>love is in the air  beef fondue   sauces</td>\n",
       "      <td>84797</td>\n",
       "      <td>25</td>\n",
       "      <td>4470</td>\n",
       "      <td>2004-02-23</td>\n",
       "      <td>4.0</td>\n",
       "      <td>i think a fondue is a very romantic casual din...</td>\n",
       "      <td>12</td>\n",
       "      <td>19</td>\n",
       "      <td>30-minutes-or-less;time-to-make;course;main-in...</td>\n",
       "      <td>beef steaks*vegetable oil*spicy mustard*fresh ...</td>\n",
       "    </tr>\n",
       "  </tbody>\n",
       "</table>\n",
       "</div>"
      ],
      "text/plain": [
       "                                       name     id  minutes  contributor_id  \\\n",
       "0     george s at the cove  black bean soup  44123       90           35193   \n",
       "1        healthy for them  yogurt popsicles  67664       10           91970   \n",
       "2              i can t believe it s spinach  38798       30            1533   \n",
       "3                      italian  gut busters  35173       45           22724   \n",
       "4  love is in the air  beef fondue   sauces  84797       25            4470   \n",
       "\n",
       "   submitted  n_steps                                        description  \\\n",
       "0 2002-10-25     11.0  an original recipe created by chef scott meska...   \n",
       "1 2003-07-26      3.0  my children and their friends ask for my homem...   \n",
       "2 2002-08-29      5.0            these were so go, it surprised even me.   \n",
       "3 2002-07-27      7.0  my sister-in-law made these for us at a family...   \n",
       "4 2004-02-23      4.0  i think a fondue is a very romantic casual din...   \n",
       "\n",
       "   n_ingredients  n_tags                                               tags  \\\n",
       "0             18      25  weeknight;time-to-make;course;main-ingredient;...   \n",
       "1              3      31  15-minutes-or-less;time-to-make;course;prepara...   \n",
       "2              8      17  30-minutes-or-less;time-to-make;course;main-in...   \n",
       "3              9      11  60-minutes-or-less;time-to-make;course;prepara...   \n",
       "4             12      19  30-minutes-or-less;time-to-make;course;main-in...   \n",
       "\n",
       "                                         ingredients  \n",
       "0  carrot*onion*celery*broccoli stem*dried thyme*...  \n",
       "1         milk*frozen juice concentrate*plain yogurt  \n",
       "2  onion*frozen chopped spinach*eggs*garlic powde...  \n",
       "3  sandwich bun*good seasonings italian salad dre...  \n",
       "4  beef steaks*vegetable oil*spicy mustard*fresh ...  "
      ]
     },
     "execution_count": 79,
     "metadata": {},
     "output_type": "execute_result"
    }
   ],
   "source": [
    "recipes.head()"
   ]
  },
  {
   "cell_type": "code",
   "execution_count": 113,
   "metadata": {},
   "outputs": [],
   "source": [
    "recipes['n_steps'] = recipes['n_steps'].astype('int')"
   ]
  },
  {
   "cell_type": "code",
   "execution_count": null,
   "metadata": {},
   "outputs": [],
   "source": [
    "numeric_columns = ['id', 'minutes', 'contributor_id', 'n_steps', 'n_ingredients', 'n_tags']\n",
    "recipes_l = recipes[recipes['submitted'].dt.year < 2000][numeric_columns].to_numpy()\n",
    "recipes_g = recipes[recipes['submitted'].dt.year >= 2000][numeric_columns].to_numpy()\n",
    "recipes_g"
   ]
  },
  {
   "cell_type": "markdown",
   "metadata": {},
   "source": [
    "2.2. Сохраните 2 полученных массива в архив `npz`. Дайте массивам читаемые имена."
   ]
  },
  {
   "cell_type": "code",
   "execution_count": 116,
   "metadata": {},
   "outputs": [],
   "source": [
    "np.savez('output_data/two_recipes.npz', recipes_l, recipes_g)"
   ]
  },
  {
   "cell_type": "markdown",
   "metadata": {},
   "source": [
    "2.3 Считайте созданный архив и продемонстрируйте, что данные считались корректно. "
   ]
  },
  {
   "cell_type": "code",
   "execution_count": null,
   "metadata": {},
   "outputs": [],
   "source": [
    "npzfile = np.load('output_data/two_recipes.npz')\n",
    "npzfile['arr_0']"
   ]
  },
  {
   "cell_type": "code",
   "execution_count": null,
   "metadata": {},
   "outputs": [],
   "source": [
    "recipes_l"
   ]
  },
  {
   "cell_type": "code",
   "execution_count": 126,
   "metadata": {},
   "outputs": [],
   "source": [
    "npzfile.close()"
   ]
  },
  {
   "cell_type": "markdown",
   "metadata": {},
   "source": [
    "### hdf"
   ]
  },
  {
   "cell_type": "code",
   "execution_count": 127,
   "metadata": {},
   "outputs": [],
   "source": [
    "import h5py"
   ]
  },
  {
   "cell_type": "markdown",
   "metadata": {},
   "source": [
    "3.1 Выведите названия всех датасетов, находящихся в файле `nutrition_sample.h5`, а также размерность матриц, содержащихся в данных датасетах и их метаданные.\n",
    "\n",
    "Формат вывода:\n",
    "```\n",
    "Dataset name=dataset_0, dataset size=(30000,), metadata={'info': 'calories (#)'}\n",
    "Dataset name=dataset_1, dataset size=(30000,), metadata={'info': 'total fat (PDV)'}\n",
    "...\n",
    "```"
   ]
  },
  {
   "cell_type": "code",
   "execution_count": null,
   "metadata": {},
   "outputs": [],
   "source": [
    "def print_attrs(name, obj):\n",
    "    print(name)\n",
    "    for key, val in obj.attrs.items():\n",
    "        print(\"    %s: %s\" % (key, val))\n",
    "\n",
    "with h5py.File('data/nutrition_sample.h5', 'r') as f:\n",
    "    f.visititems(print_attrs)"
   ]
  },
  {
   "cell_type": "code",
   "execution_count": 151,
   "metadata": {},
   "outputs": [
    {
     "name": "stdout",
     "output_type": "stream",
     "text": [
      "calories (#)\n"
     ]
    }
   ],
   "source": [
    "with h5py.File('data/nutrition_sample.h5', 'r') as f:\n",
    "    print(f['dataset_0'].attrs['col_1'])"
   ]
  },
  {
   "cell_type": "code",
   "execution_count": 135,
   "metadata": {},
   "outputs": [
    {
     "name": "stdout",
     "output_type": "stream",
     "text": [
      "<KeysViewHDF5 ['col_0', 'col_1']>\n"
     ]
    }
   ],
   "source": [
    "for key, val in obj.attrs.items():\n",
    "        print(f\"'{key}': '{val}'\", end=' ')"
   ]
  },
  {
   "cell_type": "code",
   "execution_count": 159,
   "metadata": {},
   "outputs": [
    {
     "ename": "SyntaxError",
     "evalue": "f-string: single '}' is not allowed (<ipython-input-159-89bf38377bcb>, line 2)",
     "output_type": "error",
     "traceback": [
      "\u001b[0;36m  File \u001b[0;32m\"<ipython-input-159-89bf38377bcb>\"\u001b[0;36m, line \u001b[0;32m2\u001b[0m\n\u001b[0;31m    print(f'Dataset name={name}, dataset size={obj.shape}, metadata=\\{{obj.attrs[\"col_1\"]}\\}')\u001b[0m\n\u001b[0m          ^\u001b[0m\n\u001b[0;31mSyntaxError\u001b[0m\u001b[0;31m:\u001b[0m f-string: single '}' is not allowed\n"
     ]
    }
   ],
   "source": [
    "def print_info(name, obj):\n",
    "    print(f'Dataset name={name}, dataset size={obj.shape}, metadata=\\{{obj.attrs[\"col_1\"]}\\}')\n",
    "    \n",
    "\n",
    "with h5py.File('data/nutrition_sample.h5', 'r') as f:\n",
    "    f.visititems(print_info)"
   ]
  },
  {
   "cell_type": "markdown",
   "metadata": {},
   "source": [
    "3.2 Разбейте каждый из имеющихся датасетов на две части: 1 часть содержит только те строки, где PDV (Percent Daily Value) превышает 100%; 2 часть содержит те строки, где PDV не составляет не более 100%. Создайте 2 группы в файле и разместите в них соответствующие части датасета c сохранением метаданных исходных датасетов. Итого должно получиться 2 группы, содержащие несколько датасетов. Если датасет не содержитСохраните результаты в файл `nutrition_grouped.h5`"
   ]
  },
  {
   "cell_type": "markdown",
   "metadata": {},
   "source": [
    "3.3 Выведите названия всех групп и датасетов, находящихся в этих группах, из файла `nutrition_grouped.h5` а также размерность матриц, содержащихся в датасетах и их метаданные."
   ]
  },
  {
   "cell_type": "markdown",
   "metadata": {},
   "source": [
    "3.4 Модифицируйте код из 3.3 таким образом, чтобы сохранить датасеты, используя сжатие. Сравните размер полученного файла с размерами файла из 3.3. Прокомментируйте результат."
   ]
  }
 ],
 "metadata": {
  "kernelspec": {
   "display_name": "Python 3",
   "language": "python",
   "name": "python3"
  },
  "language_info": {
   "codemirror_mode": {
    "name": "ipython",
    "version": 3
   },
   "file_extension": ".py",
   "mimetype": "text/x-python",
   "name": "python",
   "nbconvert_exporter": "python",
   "pygments_lexer": "ipython3",
   "version": "3.8.5"
  }
 },
 "nbformat": 4,
 "nbformat_minor": 4
}
